{
  "nbformat": 4,
  "nbformat_minor": 0,
  "metadata": {
    "colab": {
      "name": "FlightFarePrediction_Detailed.ipynb",
      "provenance": [],
      "collapsed_sections": [],
      "authorship_tag": "ABX9TyM8TiXgwN9fQJInKiL5hR68",
      "include_colab_link": true
    },
    "kernelspec": {
      "display_name": "Python 3",
      "name": "python3"
    },
    "language_info": {
      "name": "python"
    }
  },
  "cells": [
    {
      "cell_type": "markdown",
      "metadata": {
        "id": "view-in-github",
        "colab_type": "text"
      },
      "source": [
        "<a href=\"https://colab.research.google.com/github/jibin-sebastian/Flight-price-prediction/blob/main/FlightFarePrediction_Detailed.ipynb\" target=\"_parent\"><img src=\"https://colab.research.google.com/assets/colab-badge.svg\" alt=\"Open In Colab\"/></a>"
      ]
    },
    {
      "cell_type": "markdown",
      "metadata": {
        "id": "yCkww5_Coyqq"
      },
      "source": [
        "**Import all importent libraries**"
      ]
    },
    {
      "cell_type": "code",
      "metadata": {
        "id": "7PEDu4CPR8Xx"
      },
      "source": [
        "import numpy as np\n",
        "import pandas as pd\n",
        "import seaborn as sns\n",
        "import matplotlib.pyplot as plt\n",
        "import warnings\n",
        "warnings.filterwarnings('ignore')\n",
        "pd.set_option('display.max_columns', None)"
      ],
      "execution_count": 113,
      "outputs": []
    },
    {
      "cell_type": "markdown",
      "metadata": {
        "id": "yAx25g3Xo7ag"
      },
      "source": [
        "**Read Training Data**"
      ]
    },
    {
      "cell_type": "code",
      "metadata": {
        "id": "EHW56CEBgTYV"
      },
      "source": [
        "#Read training data\n",
        "train_data=pd.read_excel('/content/Data_Train.xlsx')"
      ],
      "execution_count": 114,
      "outputs": []
    },
    {
      "cell_type": "code",
      "metadata": {
        "id": "MKerlU385_BG",
        "colab": {
          "base_uri": "https://localhost:8080/",
          "height": 206
        },
        "outputId": "a68c58c2-54c1-4348-a457-8e5ce3c01f0e"
      },
      "source": [
        "train_data.head()"
      ],
      "execution_count": 115,
      "outputs": [
        {
          "output_type": "execute_result",
          "data": {
            "text/html": [
              "<div>\n",
              "<style scoped>\n",
              "    .dataframe tbody tr th:only-of-type {\n",
              "        vertical-align: middle;\n",
              "    }\n",
              "\n",
              "    .dataframe tbody tr th {\n",
              "        vertical-align: top;\n",
              "    }\n",
              "\n",
              "    .dataframe thead th {\n",
              "        text-align: right;\n",
              "    }\n",
              "</style>\n",
              "<table border=\"1\" class=\"dataframe\">\n",
              "  <thead>\n",
              "    <tr style=\"text-align: right;\">\n",
              "      <th></th>\n",
              "      <th>Airline</th>\n",
              "      <th>Date_of_Journey</th>\n",
              "      <th>Source</th>\n",
              "      <th>Destination</th>\n",
              "      <th>Route</th>\n",
              "      <th>Dep_Time</th>\n",
              "      <th>Arrival_Time</th>\n",
              "      <th>Duration</th>\n",
              "      <th>Total_Stops</th>\n",
              "      <th>Additional_Info</th>\n",
              "      <th>Price</th>\n",
              "    </tr>\n",
              "  </thead>\n",
              "  <tbody>\n",
              "    <tr>\n",
              "      <th>0</th>\n",
              "      <td>IndiGo</td>\n",
              "      <td>24/03/2019</td>\n",
              "      <td>Banglore</td>\n",
              "      <td>New Delhi</td>\n",
              "      <td>BLR → DEL</td>\n",
              "      <td>22:20</td>\n",
              "      <td>01:10 22 Mar</td>\n",
              "      <td>2h 50m</td>\n",
              "      <td>non-stop</td>\n",
              "      <td>No info</td>\n",
              "      <td>3897</td>\n",
              "    </tr>\n",
              "    <tr>\n",
              "      <th>1</th>\n",
              "      <td>Air India</td>\n",
              "      <td>1/05/2019</td>\n",
              "      <td>Kolkata</td>\n",
              "      <td>Banglore</td>\n",
              "      <td>CCU → IXR → BBI → BLR</td>\n",
              "      <td>05:50</td>\n",
              "      <td>13:15</td>\n",
              "      <td>7h 25m</td>\n",
              "      <td>2 stops</td>\n",
              "      <td>No info</td>\n",
              "      <td>7662</td>\n",
              "    </tr>\n",
              "    <tr>\n",
              "      <th>2</th>\n",
              "      <td>Jet Airways</td>\n",
              "      <td>9/06/2019</td>\n",
              "      <td>Delhi</td>\n",
              "      <td>Cochin</td>\n",
              "      <td>DEL → LKO → BOM → COK</td>\n",
              "      <td>09:25</td>\n",
              "      <td>04:25 10 Jun</td>\n",
              "      <td>19h</td>\n",
              "      <td>2 stops</td>\n",
              "      <td>No info</td>\n",
              "      <td>13882</td>\n",
              "    </tr>\n",
              "    <tr>\n",
              "      <th>3</th>\n",
              "      <td>IndiGo</td>\n",
              "      <td>12/05/2019</td>\n",
              "      <td>Kolkata</td>\n",
              "      <td>Banglore</td>\n",
              "      <td>CCU → NAG → BLR</td>\n",
              "      <td>18:05</td>\n",
              "      <td>23:30</td>\n",
              "      <td>5h 25m</td>\n",
              "      <td>1 stop</td>\n",
              "      <td>No info</td>\n",
              "      <td>6218</td>\n",
              "    </tr>\n",
              "    <tr>\n",
              "      <th>4</th>\n",
              "      <td>IndiGo</td>\n",
              "      <td>01/03/2019</td>\n",
              "      <td>Banglore</td>\n",
              "      <td>New Delhi</td>\n",
              "      <td>BLR → NAG → DEL</td>\n",
              "      <td>16:50</td>\n",
              "      <td>21:35</td>\n",
              "      <td>4h 45m</td>\n",
              "      <td>1 stop</td>\n",
              "      <td>No info</td>\n",
              "      <td>13302</td>\n",
              "    </tr>\n",
              "  </tbody>\n",
              "</table>\n",
              "</div>"
            ],
            "text/plain": [
              "       Airline Date_of_Journey    Source Destination                  Route  \\\n",
              "0       IndiGo      24/03/2019  Banglore   New Delhi              BLR → DEL   \n",
              "1    Air India       1/05/2019   Kolkata    Banglore  CCU → IXR → BBI → BLR   \n",
              "2  Jet Airways       9/06/2019     Delhi      Cochin  DEL → LKO → BOM → COK   \n",
              "3       IndiGo      12/05/2019   Kolkata    Banglore        CCU → NAG → BLR   \n",
              "4       IndiGo      01/03/2019  Banglore   New Delhi        BLR → NAG → DEL   \n",
              "\n",
              "  Dep_Time  Arrival_Time Duration Total_Stops Additional_Info  Price  \n",
              "0    22:20  01:10 22 Mar   2h 50m    non-stop         No info   3897  \n",
              "1    05:50         13:15   7h 25m     2 stops         No info   7662  \n",
              "2    09:25  04:25 10 Jun      19h     2 stops         No info  13882  \n",
              "3    18:05         23:30   5h 25m      1 stop         No info   6218  \n",
              "4    16:50         21:35   4h 45m      1 stop         No info  13302  "
            ]
          },
          "metadata": {},
          "execution_count": 115
        }
      ]
    },
    {
      "cell_type": "markdown",
      "metadata": {
        "id": "woJaGLhTpbY1"
      },
      "source": [
        "checking count of null values in train data "
      ]
    },
    {
      "cell_type": "code",
      "metadata": {
        "colab": {
          "base_uri": "https://localhost:8080/"
        },
        "id": "28tHk50lCmgn",
        "outputId": "409ca83f-9cdd-4cc8-ddd1-d6c92d691a77"
      },
      "source": [
        "train_data.isnull().sum()"
      ],
      "execution_count": 119,
      "outputs": [
        {
          "output_type": "execute_result",
          "data": {
            "text/plain": [
              "Airline            0\n",
              "Date_of_Journey    0\n",
              "Source             0\n",
              "Destination        0\n",
              "Route              1\n",
              "Dep_Time           0\n",
              "Arrival_Time       0\n",
              "Duration           0\n",
              "Total_Stops        1\n",
              "Additional_Info    0\n",
              "Price              0\n",
              "dtype: int64"
            ]
          },
          "metadata": {},
          "execution_count": 119
        }
      ]
    },
    {
      "cell_type": "code",
      "metadata": {
        "id": "43xl27YghGwf"
      },
      "source": [
        "pd.set_option('display.max_columns', None)"
      ],
      "execution_count": 120,
      "outputs": []
    },
    {
      "cell_type": "code",
      "metadata": {
        "colab": {
          "base_uri": "https://localhost:8080/",
          "height": 206
        },
        "id": "qFeFWq69hGzN",
        "outputId": "89294292-1e58-4a86-d9cc-e227900552af"
      },
      "source": [
        "train_data.head()"
      ],
      "execution_count": 121,
      "outputs": [
        {
          "output_type": "execute_result",
          "data": {
            "text/html": [
              "<div>\n",
              "<style scoped>\n",
              "    .dataframe tbody tr th:only-of-type {\n",
              "        vertical-align: middle;\n",
              "    }\n",
              "\n",
              "    .dataframe tbody tr th {\n",
              "        vertical-align: top;\n",
              "    }\n",
              "\n",
              "    .dataframe thead th {\n",
              "        text-align: right;\n",
              "    }\n",
              "</style>\n",
              "<table border=\"1\" class=\"dataframe\">\n",
              "  <thead>\n",
              "    <tr style=\"text-align: right;\">\n",
              "      <th></th>\n",
              "      <th>Airline</th>\n",
              "      <th>Date_of_Journey</th>\n",
              "      <th>Source</th>\n",
              "      <th>Destination</th>\n",
              "      <th>Route</th>\n",
              "      <th>Dep_Time</th>\n",
              "      <th>Arrival_Time</th>\n",
              "      <th>Duration</th>\n",
              "      <th>Total_Stops</th>\n",
              "      <th>Additional_Info</th>\n",
              "      <th>Price</th>\n",
              "    </tr>\n",
              "  </thead>\n",
              "  <tbody>\n",
              "    <tr>\n",
              "      <th>0</th>\n",
              "      <td>IndiGo</td>\n",
              "      <td>24/03/2019</td>\n",
              "      <td>Banglore</td>\n",
              "      <td>New Delhi</td>\n",
              "      <td>BLR → DEL</td>\n",
              "      <td>22:20</td>\n",
              "      <td>01:10 22 Mar</td>\n",
              "      <td>2h 50m</td>\n",
              "      <td>non-stop</td>\n",
              "      <td>No info</td>\n",
              "      <td>3897</td>\n",
              "    </tr>\n",
              "    <tr>\n",
              "      <th>1</th>\n",
              "      <td>Air India</td>\n",
              "      <td>1/05/2019</td>\n",
              "      <td>Kolkata</td>\n",
              "      <td>Banglore</td>\n",
              "      <td>CCU → IXR → BBI → BLR</td>\n",
              "      <td>05:50</td>\n",
              "      <td>13:15</td>\n",
              "      <td>7h 25m</td>\n",
              "      <td>2 stops</td>\n",
              "      <td>No info</td>\n",
              "      <td>7662</td>\n",
              "    </tr>\n",
              "    <tr>\n",
              "      <th>2</th>\n",
              "      <td>Jet Airways</td>\n",
              "      <td>9/06/2019</td>\n",
              "      <td>Delhi</td>\n",
              "      <td>Cochin</td>\n",
              "      <td>DEL → LKO → BOM → COK</td>\n",
              "      <td>09:25</td>\n",
              "      <td>04:25 10 Jun</td>\n",
              "      <td>19h</td>\n",
              "      <td>2 stops</td>\n",
              "      <td>No info</td>\n",
              "      <td>13882</td>\n",
              "    </tr>\n",
              "    <tr>\n",
              "      <th>3</th>\n",
              "      <td>IndiGo</td>\n",
              "      <td>12/05/2019</td>\n",
              "      <td>Kolkata</td>\n",
              "      <td>Banglore</td>\n",
              "      <td>CCU → NAG → BLR</td>\n",
              "      <td>18:05</td>\n",
              "      <td>23:30</td>\n",
              "      <td>5h 25m</td>\n",
              "      <td>1 stop</td>\n",
              "      <td>No info</td>\n",
              "      <td>6218</td>\n",
              "    </tr>\n",
              "    <tr>\n",
              "      <th>4</th>\n",
              "      <td>IndiGo</td>\n",
              "      <td>01/03/2019</td>\n",
              "      <td>Banglore</td>\n",
              "      <td>New Delhi</td>\n",
              "      <td>BLR → NAG → DEL</td>\n",
              "      <td>16:50</td>\n",
              "      <td>21:35</td>\n",
              "      <td>4h 45m</td>\n",
              "      <td>1 stop</td>\n",
              "      <td>No info</td>\n",
              "      <td>13302</td>\n",
              "    </tr>\n",
              "  </tbody>\n",
              "</table>\n",
              "</div>"
            ],
            "text/plain": [
              "       Airline Date_of_Journey    Source Destination                  Route  \\\n",
              "0       IndiGo      24/03/2019  Banglore   New Delhi              BLR → DEL   \n",
              "1    Air India       1/05/2019   Kolkata    Banglore  CCU → IXR → BBI → BLR   \n",
              "2  Jet Airways       9/06/2019     Delhi      Cochin  DEL → LKO → BOM → COK   \n",
              "3       IndiGo      12/05/2019   Kolkata    Banglore        CCU → NAG → BLR   \n",
              "4       IndiGo      01/03/2019  Banglore   New Delhi        BLR → NAG → DEL   \n",
              "\n",
              "  Dep_Time  Arrival_Time Duration Total_Stops Additional_Info  Price  \n",
              "0    22:20  01:10 22 Mar   2h 50m    non-stop         No info   3897  \n",
              "1    05:50         13:15   7h 25m     2 stops         No info   7662  \n",
              "2    09:25  04:25 10 Jun      19h     2 stops         No info  13882  \n",
              "3    18:05         23:30   5h 25m      1 stop         No info   6218  \n",
              "4    16:50         21:35   4h 45m      1 stop         No info  13302  "
            ]
          },
          "metadata": {},
          "execution_count": 121
        }
      ]
    },
    {
      "cell_type": "markdown",
      "metadata": {
        "id": "kcAx7MjWpjoZ"
      },
      "source": [
        "Drop na values from train_data set"
      ]
    },
    {
      "cell_type": "code",
      "metadata": {
        "id": "i6XpKWAahG1t"
      },
      "source": [
        " train_data.dropna(inplace = True)"
      ],
      "execution_count": 122,
      "outputs": []
    },
    {
      "cell_type": "markdown",
      "metadata": {
        "id": "akmPrx-Ppp8h"
      },
      "source": [
        "visualize missing (NaN) values "
      ]
    },
    {
      "cell_type": "code",
      "metadata": {
        "colab": {
          "base_uri": "https://localhost:8080/",
          "height": 560
        },
        "id": "bWXYmH2vnROf",
        "outputId": "c7c68d95-d516-4e2d-b537-7f6681c6842a"
      },
      "source": [
        "import missingno as msno\n",
        "msno.matrix(train_data)"
      ],
      "execution_count": 123,
      "outputs": [
        {
          "output_type": "execute_result",
          "data": {
            "text/plain": [
              "<matplotlib.axes._subplots.AxesSubplot at 0x7ff4fce75750>"
            ]
          },
          "metadata": {},
          "execution_count": 123
        },
        {
          "output_type": "display_data",
          "data": {
            "image/png": "[encoded data removed]",
            "text/plain": [
              "<Figure size 1800x720 with 2 Axes>"
            ]
          },
          "metadata": {
            "needs_background": "light"
          }
        }
      ]
    },
    {
      "cell_type": "code",
      "metadata": {
        "colab": {
          "base_uri": "https://localhost:8080/"
        },
        "id": "t-hAuIhEiiET",
        "outputId": "ca68d308-d217-491c-b857-48cc822d8e24"
      },
      "source": [
        "train_data.isnull().sum()"
      ],
      "execution_count": 124,
      "outputs": [
        {
          "output_type": "execute_result",
          "data": {
            "text/plain": [
              "Airline            0\n",
              "Date_of_Journey    0\n",
              "Source             0\n",
              "Destination        0\n",
              "Route              0\n",
              "Dep_Time           0\n",
              "Arrival_Time       0\n",
              "Duration           0\n",
              "Total_Stops        0\n",
              "Additional_Info    0\n",
              "Price              0\n",
              "dtype: int64"
            ]
          },
          "metadata": {},
          "execution_count": 124
        }
      ]
    },
    {
      "cell_type": "markdown",
      "metadata": {
        "id": "DiF0VpFljDBm"
      },
      "source": [
        "**Explanatory Data Analysis**\n",
        "\n",
        "From description we can see that Date_of_Journey is a object data type,Therefore, we have to convert this datatype into timestamp so as to use this column properly for prediction\n",
        "\n",
        "For this we require pandas to_datetime to convert object data type to datetime dtype.\n",
        "\n",
        "**.dt.day method will extract only day of that date**\\ **.dt.month method will extract only month of that date**"
      ]
    },
    {
      "cell_type": "code",
      "metadata": {
        "id": "fdezr4s7j2Or",
        "colab": {
          "base_uri": "https://localhost:8080/"
        },
        "outputId": "0c837629-cac2-4836-f355-dd230e3b4614"
      },
      "source": [
        "train_data['Date_of_Journey'].value_counts()"
      ],
      "execution_count": 125,
      "outputs": [
        {
          "output_type": "execute_result",
          "data": {
            "text/plain": [
              "18/05/2019    504\n",
              "6/06/2019     503\n",
              "21/05/2019    497\n",
              "9/06/2019     495\n",
              "12/06/2019    493\n",
              "9/05/2019     484\n",
              "21/03/2019    423\n",
              "15/05/2019    405\n",
              "27/05/2019    382\n",
              "27/06/2019    355\n",
              "24/06/2019    351\n",
              "1/06/2019     342\n",
              "3/06/2019     333\n",
              "15/06/2019    328\n",
              "24/03/2019    323\n",
              "6/03/2019     308\n",
              "27/03/2019    299\n",
              "24/05/2019    286\n",
              "6/05/2019     281\n",
              "1/05/2019     277\n",
              "12/05/2019    259\n",
              "1/04/2019     257\n",
              "3/03/2019     218\n",
              "9/03/2019     200\n",
              "15/03/2019    162\n",
              "18/03/2019    156\n",
              "01/03/2019    152\n",
              "12/03/2019    142\n",
              "9/04/2019     125\n",
              "3/04/2019     110\n",
              "21/06/2019    109\n",
              "18/06/2019    105\n",
              "09/03/2019    102\n",
              "6/04/2019     100\n",
              "03/03/2019     97\n",
              "06/03/2019     95\n",
              "27/04/2019     94\n",
              "24/04/2019     92\n",
              "3/05/2019      90\n",
              "15/04/2019     89\n",
              "21/04/2019     82\n",
              "18/04/2019     67\n",
              "12/04/2019     63\n",
              "1/03/2019      47\n",
              "Name: Date_of_Journey, dtype: int64"
            ]
          },
          "metadata": {},
          "execution_count": 125
        }
      ]
    },
    {
      "cell_type": "code",
      "metadata": {
        "id": "Tpqktvhvih5b"
      },
      "source": [
        "train_data['day_of_Journey']= pd.to_datetime(train_data['Date_of_Journey']).dt.day\n",
        "train_data['month_of_Journey']= pd.to_datetime(train_data['Date_of_Journey']).dt.month"
      ],
      "execution_count": 126,
      "outputs": []
    },
    {
      "cell_type": "code",
      "metadata": {
        "colab": {
          "base_uri": "https://localhost:8080/"
        },
        "id": "p0V3pFI7k9hi",
        "outputId": "440191e1-fb7a-4d7d-e3c7-754407ce3601"
      },
      "source": [
        "train_data['day_of_Journey']"
      ],
      "execution_count": 127,
      "outputs": [
        {
          "output_type": "execute_result",
          "data": {
            "text/plain": [
              "0        24\n",
              "1         5\n",
              "2         6\n",
              "3         5\n",
              "4         3\n",
              "         ..\n",
              "10678     4\n",
              "10679    27\n",
              "10680    27\n",
              "10681     3\n",
              "10682     5\n",
              "Name: day_of_Journey, Length: 10682, dtype: int64"
            ]
          },
          "metadata": {},
          "execution_count": 127
        }
      ]
    },
    {
      "cell_type": "code",
      "metadata": {
        "colab": {
          "base_uri": "https://localhost:8080/"
        },
        "id": "f7RiCSUfnqUp",
        "outputId": "2b111554-de4e-4043-be47-3aadd97e8ef3"
      },
      "source": [
        "train_data['month_of_Journey']"
      ],
      "execution_count": 128,
      "outputs": [
        {
          "output_type": "execute_result",
          "data": {
            "text/plain": [
              "0         3\n",
              "1         1\n",
              "2         9\n",
              "3        12\n",
              "4         1\n",
              "         ..\n",
              "10678     9\n",
              "10679     4\n",
              "10680     4\n",
              "10681     1\n",
              "10682     9\n",
              "Name: month_of_Journey, Length: 10682, dtype: int64"
            ]
          },
          "metadata": {},
          "execution_count": 128
        }
      ]
    },
    {
      "cell_type": "code",
      "metadata": {
        "colab": {
          "base_uri": "https://localhost:8080/",
          "height": 607
        },
        "id": "TlJsQSq8nvck",
        "outputId": "948541cf-09cb-44f4-b11a-ce845d6f616c"
      },
      "source": [
        "train_data.head()"
      ],
      "execution_count": 129,
      "outputs": [
        {
          "output_type": "execute_result",
          "data": {
            "text/html": [
              "<div>\n",
              "<style scoped>\n",
              "    .dataframe tbody tr th:only-of-type {\n",
              "        vertical-align: middle;\n",
              "    }\n",
              "\n",
              "    .dataframe tbody tr th {\n",
              "        vertical-align: top;\n",
              "    }\n",
              "\n",
              "    .dataframe thead th {\n",
              "        text-align: right;\n",
              "    }\n",
              "</style>\n",
              "<table border=\"1\" class=\"dataframe\">\n",
              "  <thead>\n",
              "    <tr style=\"text-align: right;\">\n",
              "      <th></th>\n",
              "      <th>Airline</th>\n",
              "      <th>Date_of_Journey</th>\n",
              "      <th>Source</th>\n",
              "      <th>Destination</th>\n",
              "      <th>Route</th>\n",
              "      <th>Dep_Time</th>\n",
              "      <th>Arrival_Time</th>\n",
              "      <th>Duration</th>\n",
              "      <th>Total_Stops</th>\n",
              "      <th>Additional_Info</th>\n",
              "      <th>Price</th>\n",
              "      <th>day_of_Journey</th>\n",
              "      <th>month_of_Journey</th>\n",
              "    </tr>\n",
              "  </thead>\n",
              "  <tbody>\n",
              "    <tr>\n",
              "      <th>0</th>\n",
              "      <td>IndiGo</td>\n",
              "      <td>24/03/2019</td>\n",
              "      <td>Banglore</td>\n",
              "      <td>New Delhi</td>\n",
              "      <td>BLR → DEL</td>\n",
              "      <td>22:20</td>\n",
              "      <td>01:10 22 Mar</td>\n",
              "      <td>2h 50m</td>\n",
              "      <td>non-stop</td>\n",
              "      <td>No info</td>\n",
              "      <td>3897</td>\n",
              "      <td>24</td>\n",
              "      <td>3</td>\n",
              "    </tr>\n",
              "    <tr>\n",
              "      <th>1</th>\n",
              "      <td>Air India</td>\n",
              "      <td>1/05/2019</td>\n",
              "      <td>Kolkata</td>\n",
              "      <td>Banglore</td>\n",
              "      <td>CCU → IXR → BBI → BLR</td>\n",
              "      <td>05:50</td>\n",
              "      <td>13:15</td>\n",
              "      <td>7h 25m</td>\n",
              "      <td>2 stops</td>\n",
              "      <td>No info</td>\n",
              "      <td>7662</td>\n",
              "      <td>5</td>\n",
              "      <td>1</td>\n",
              "    </tr>\n",
              "    <tr>\n",
              "      <th>2</th>\n",
              "      <td>Jet Airways</td>\n",
              "      <td>9/06/2019</td>\n",
              "      <td>Delhi</td>\n",
              "      <td>Cochin</td>\n",
              "      <td>DEL → LKO → BOM → COK</td>\n",
              "      <td>09:25</td>\n",
              "      <td>04:25 10 Jun</td>\n",
              "      <td>19h</td>\n",
              "      <td>2 stops</td>\n",
              "      <td>No info</td>\n",
              "      <td>13882</td>\n",
              "      <td>6</td>\n",
              "      <td>9</td>\n",
              "    </tr>\n",
              "    <tr>\n",
              "      <th>3</th>\n",
              "      <td>IndiGo</td>\n",
              "      <td>12/05/2019</td>\n",
              "      <td>Kolkata</td>\n",
              "      <td>Banglore</td>\n",
              "      <td>CCU → NAG → BLR</td>\n",
              "      <td>18:05</td>\n",
              "      <td>23:30</td>\n",
              "      <td>5h 25m</td>\n",
              "      <td>1 stop</td>\n",
              "      <td>No info</td>\n",
              "      <td>6218</td>\n",
              "      <td>5</td>\n",
              "      <td>12</td>\n",
              "    </tr>\n",
              "    <tr>\n",
              "      <th>4</th>\n",
              "      <td>IndiGo</td>\n",
              "      <td>01/03/2019</td>\n",
              "      <td>Banglore</td>\n",
              "      <td>New Delhi</td>\n",
              "      <td>BLR → NAG → DEL</td>\n",
              "      <td>16:50</td>\n",
              "      <td>21:35</td>\n",
              "      <td>4h 45m</td>\n",
              "      <td>1 stop</td>\n",
              "      <td>No info</td>\n",
              "      <td>13302</td>\n",
              "      <td>3</td>\n",
              "      <td>1</td>\n",
              "    </tr>\n",
              "  </tbody>\n",
              "</table>\n",
              "</div>"
            ],
            "text/plain": [
              "       Airline Date_of_Journey    Source Destination                  Route  \\\n",
              "0       IndiGo      24/03/2019  Banglore   New Delhi              BLR → DEL   \n",
              "1    Air India       1/05/2019   Kolkata    Banglore  CCU → IXR → BBI → BLR   \n",
              "2  Jet Airways       9/06/2019     Delhi      Cochin  DEL → LKO → BOM → COK   \n",
              "3       IndiGo      12/05/2019   Kolkata    Banglore        CCU → NAG → BLR   \n",
              "4       IndiGo      01/03/2019  Banglore   New Delhi        BLR → NAG → DEL   \n",
              "\n",
              "  Dep_Time  Arrival_Time Duration Total_Stops Additional_Info  Price  \\\n",
              "0    22:20  01:10 22 Mar   2h 50m    non-stop         No info   3897   \n",
              "1    05:50         13:15   7h 25m     2 stops         No info   7662   \n",
              "2    09:25  04:25 10 Jun      19h     2 stops         No info  13882   \n",
              "3    18:05         23:30   5h 25m      1 stop         No info   6218   \n",
              "4    16:50         21:35   4h 45m      1 stop         No info  13302   \n",
              "\n",
              "   day_of_Journey  month_of_Journey  \n",
              "0              24                 3  \n",
              "1               5                 1  \n",
              "2               6                 9  \n",
              "3               5                12  \n",
              "4               3                 1  "
            ]
          },
          "metadata": {},
          "execution_count": 129
        }
      ]
    },
    {
      "cell_type": "markdown",
      "metadata": {
        "id": "MGtjkhhBqHQb"
      },
      "source": [
        "Drop of date of journey"
      ]
    },
    {
      "cell_type": "code",
      "metadata": {
        "id": "QFfQUtFpnvUt"
      },
      "source": [
        "train_data.drop(['Date_of_Journey'],axis=1,inplace=True)"
      ],
      "execution_count": 130,
      "outputs": []
    },
    {
      "cell_type": "code",
      "metadata": {
        "colab": {
          "base_uri": "https://localhost:8080/",
          "height": 310
        },
        "id": "bGjMaOXcnvOM",
        "outputId": "e6af57c1-d617-4170-b277-9722e83b4277"
      },
      "source": [
        "train_data.head()"
      ],
      "execution_count": 131,
      "outputs": [
        {
          "output_type": "execute_result",
          "data": {
            "text/html": [
              "<div>\n",
              "<style scoped>\n",
              "    .dataframe tbody tr th:only-of-type {\n",
              "        vertical-align: middle;\n",
              "    }\n",
              "\n",
              "    .dataframe tbody tr th {\n",
              "        vertical-align: top;\n",
              "    }\n",
              "\n",
              "    .dataframe thead th {\n",
              "        text-align: right;\n",
              "    }\n",
              "</style>\n",
              "<table border=\"1\" class=\"dataframe\">\n",
              "  <thead>\n",
              "    <tr style=\"text-align: right;\">\n",
              "      <th></th>\n",
              "      <th>Airline</th>\n",
              "      <th>Source</th>\n",
              "      <th>Destination</th>\n",
              "      <th>Route</th>\n",
              "      <th>Dep_Time</th>\n",
              "      <th>Arrival_Time</th>\n",
              "      <th>Duration</th>\n",
              "      <th>Total_Stops</th>\n",
              "      <th>Additional_Info</th>\n",
              "      <th>Price</th>\n",
              "      <th>day_of_Journey</th>\n",
              "      <th>month_of_Journey</th>\n",
              "    </tr>\n",
              "  </thead>\n",
              "  <tbody>\n",
              "    <tr>\n",
              "      <th>0</th>\n",
              "      <td>IndiGo</td>\n",
              "      <td>Banglore</td>\n",
              "      <td>New Delhi</td>\n",
              "      <td>BLR → DEL</td>\n",
              "      <td>22:20</td>\n",
              "      <td>01:10 22 Mar</td>\n",
              "      <td>2h 50m</td>\n",
              "      <td>non-stop</td>\n",
              "      <td>No info</td>\n",
              "      <td>3897</td>\n",
              "      <td>24</td>\n",
              "      <td>3</td>\n",
              "    </tr>\n",
              "    <tr>\n",
              "      <th>1</th>\n",
              "      <td>Air India</td>\n",
              "      <td>Kolkata</td>\n",
              "      <td>Banglore</td>\n",
              "      <td>CCU → IXR → BBI → BLR</td>\n",
              "      <td>05:50</td>\n",
              "      <td>13:15</td>\n",
              "      <td>7h 25m</td>\n",
              "      <td>2 stops</td>\n",
              "      <td>No info</td>\n",
              "      <td>7662</td>\n",
              "      <td>5</td>\n",
              "      <td>1</td>\n",
              "    </tr>\n",
              "    <tr>\n",
              "      <th>2</th>\n",
              "      <td>Jet Airways</td>\n",
              "      <td>Delhi</td>\n",
              "      <td>Cochin</td>\n",
              "      <td>DEL → LKO → BOM → COK</td>\n",
              "      <td>09:25</td>\n",
              "      <td>04:25 10 Jun</td>\n",
              "      <td>19h</td>\n",
              "      <td>2 stops</td>\n",
              "      <td>No info</td>\n",
              "      <td>13882</td>\n",
              "      <td>6</td>\n",
              "      <td>9</td>\n",
              "    </tr>\n",
              "    <tr>\n",
              "      <th>3</th>\n",
              "      <td>IndiGo</td>\n",
              "      <td>Kolkata</td>\n",
              "      <td>Banglore</td>\n",
              "      <td>CCU → NAG → BLR</td>\n",
              "      <td>18:05</td>\n",
              "      <td>23:30</td>\n",
              "      <td>5h 25m</td>\n",
              "      <td>1 stop</td>\n",
              "      <td>No info</td>\n",
              "      <td>6218</td>\n",
              "      <td>5</td>\n",
              "      <td>12</td>\n",
              "    </tr>\n",
              "    <tr>\n",
              "      <th>4</th>\n",
              "      <td>IndiGo</td>\n",
              "      <td>Banglore</td>\n",
              "      <td>New Delhi</td>\n",
              "      <td>BLR → NAG → DEL</td>\n",
              "      <td>16:50</td>\n",
              "      <td>21:35</td>\n",
              "      <td>4h 45m</td>\n",
              "      <td>1 stop</td>\n",
              "      <td>No info</td>\n",
              "      <td>13302</td>\n",
              "      <td>3</td>\n",
              "      <td>1</td>\n",
              "    </tr>\n",
              "  </tbody>\n",
              "</table>\n",
              "</div>"
            ],
            "text/plain": [
              "       Airline    Source Destination                  Route Dep_Time  \\\n",
              "0       IndiGo  Banglore   New Delhi              BLR → DEL    22:20   \n",
              "1    Air India   Kolkata    Banglore  CCU → IXR → BBI → BLR    05:50   \n",
              "2  Jet Airways     Delhi      Cochin  DEL → LKO → BOM → COK    09:25   \n",
              "3       IndiGo   Kolkata    Banglore        CCU → NAG → BLR    18:05   \n",
              "4       IndiGo  Banglore   New Delhi        BLR → NAG → DEL    16:50   \n",
              "\n",
              "   Arrival_Time Duration Total_Stops Additional_Info  Price  day_of_Journey  \\\n",
              "0  01:10 22 Mar   2h 50m    non-stop         No info   3897              24   \n",
              "1         13:15   7h 25m     2 stops         No info   7662               5   \n",
              "2  04:25 10 Jun      19h     2 stops         No info  13882               6   \n",
              "3         23:30   5h 25m      1 stop         No info   6218               5   \n",
              "4         21:35   4h 45m      1 stop         No info  13302               3   \n",
              "\n",
              "   month_of_Journey  \n",
              "0                 3  \n",
              "1                 1  \n",
              "2                 9  \n",
              "3                12  \n",
              "4                 1  "
            ]
          },
          "metadata": {},
          "execution_count": 131
        }
      ]
    },
    {
      "cell_type": "markdown",
      "metadata": {
        "id": "hEjThknTqN0o"
      },
      "source": [
        "Convert departure time to int values and drop the Dep_Time column\n",
        "Extract Departure hour from Dep_Time"
      ]
    },
    {
      "cell_type": "code",
      "metadata": {
        "id": "Gu7QVM91nqPX"
      },
      "source": [
        "train_data['hour_of_Dep']= pd.to_datetime(train_data['Dep_Time']).dt.hour\n",
        "#Extract Departure minute from Dep_Time\n",
        "train_data['min_of_Dep']= pd.to_datetime(train_data['Dep_Time']).dt.minute"
      ],
      "execution_count": 132,
      "outputs": []
    },
    {
      "cell_type": "markdown",
      "metadata": {
        "id": "SweKmuitqVfm"
      },
      "source": [
        "Drop the Dep_Time col from train data"
      ]
    },
    {
      "cell_type": "code",
      "metadata": {
        "id": "2xt0RDy0p6hX"
      },
      "source": [
        "train_data.drop(['Dep_Time'],axis=1,inplace=True)"
      ],
      "execution_count": 133,
      "outputs": []
    },
    {
      "cell_type": "code",
      "metadata": {
        "colab": {
          "base_uri": "https://localhost:8080/",
          "height": 607
        },
        "id": "u_4IVGkcnqMh",
        "outputId": "e5035bbd-1acd-43b7-b3c7-0919f10f742b"
      },
      "source": [
        "train_data.head()"
      ],
      "execution_count": 134,
      "outputs": [
        {
          "output_type": "execute_result",
          "data": {
            "text/html": [
              "<div>\n",
              "<style scoped>\n",
              "    .dataframe tbody tr th:only-of-type {\n",
              "        vertical-align: middle;\n",
              "    }\n",
              "\n",
              "    .dataframe tbody tr th {\n",
              "        vertical-align: top;\n",
              "    }\n",
              "\n",
              "    .dataframe thead th {\n",
              "        text-align: right;\n",
              "    }\n",
              "</style>\n",
              "<table border=\"1\" class=\"dataframe\">\n",
              "  <thead>\n",
              "    <tr style=\"text-align: right;\">\n",
              "      <th></th>\n",
              "      <th>Airline</th>\n",
              "      <th>Source</th>\n",
              "      <th>Destination</th>\n",
              "      <th>Route</th>\n",
              "      <th>Arrival_Time</th>\n",
              "      <th>Duration</th>\n",
              "      <th>Total_Stops</th>\n",
              "      <th>Additional_Info</th>\n",
              "      <th>Price</th>\n",
              "      <th>day_of_Journey</th>\n",
              "      <th>month_of_Journey</th>\n",
              "      <th>hour_of_Dep</th>\n",
              "      <th>min_of_Dep</th>\n",
              "    </tr>\n",
              "  </thead>\n",
              "  <tbody>\n",
              "    <tr>\n",
              "      <th>0</th>\n",
              "      <td>IndiGo</td>\n",
              "      <td>Banglore</td>\n",
              "      <td>New Delhi</td>\n",
              "      <td>BLR → DEL</td>\n",
              "      <td>01:10 22 Mar</td>\n",
              "      <td>2h 50m</td>\n",
              "      <td>non-stop</td>\n",
              "      <td>No info</td>\n",
              "      <td>3897</td>\n",
              "      <td>24</td>\n",
              "      <td>3</td>\n",
              "      <td>22</td>\n",
              "      <td>20</td>\n",
              "    </tr>\n",
              "    <tr>\n",
              "      <th>1</th>\n",
              "      <td>Air India</td>\n",
              "      <td>Kolkata</td>\n",
              "      <td>Banglore</td>\n",
              "      <td>CCU → IXR → BBI → BLR</td>\n",
              "      <td>13:15</td>\n",
              "      <td>7h 25m</td>\n",
              "      <td>2 stops</td>\n",
              "      <td>No info</td>\n",
              "      <td>7662</td>\n",
              "      <td>5</td>\n",
              "      <td>1</td>\n",
              "      <td>5</td>\n",
              "      <td>50</td>\n",
              "    </tr>\n",
              "    <tr>\n",
              "      <th>2</th>\n",
              "      <td>Jet Airways</td>\n",
              "      <td>Delhi</td>\n",
              "      <td>Cochin</td>\n",
              "      <td>DEL → LKO → BOM → COK</td>\n",
              "      <td>04:25 10 Jun</td>\n",
              "      <td>19h</td>\n",
              "      <td>2 stops</td>\n",
              "      <td>No info</td>\n",
              "      <td>13882</td>\n",
              "      <td>6</td>\n",
              "      <td>9</td>\n",
              "      <td>9</td>\n",
              "      <td>25</td>\n",
              "    </tr>\n",
              "    <tr>\n",
              "      <th>3</th>\n",
              "      <td>IndiGo</td>\n",
              "      <td>Kolkata</td>\n",
              "      <td>Banglore</td>\n",
              "      <td>CCU → NAG → BLR</td>\n",
              "      <td>23:30</td>\n",
              "      <td>5h 25m</td>\n",
              "      <td>1 stop</td>\n",
              "      <td>No info</td>\n",
              "      <td>6218</td>\n",
              "      <td>5</td>\n",
              "      <td>12</td>\n",
              "      <td>18</td>\n",
              "      <td>5</td>\n",
              "    </tr>\n",
              "    <tr>\n",
              "      <th>4</th>\n",
              "      <td>IndiGo</td>\n",
              "      <td>Banglore</td>\n",
              "      <td>New Delhi</td>\n",
              "      <td>BLR → NAG → DEL</td>\n",
              "      <td>21:35</td>\n",
              "      <td>4h 45m</td>\n",
              "      <td>1 stop</td>\n",
              "      <td>No info</td>\n",
              "      <td>13302</td>\n",
              "      <td>3</td>\n",
              "      <td>1</td>\n",
              "      <td>16</td>\n",
              "      <td>50</td>\n",
              "    </tr>\n",
              "  </tbody>\n",
              "</table>\n",
              "</div>"
            ],
            "text/plain": [
              "       Airline    Source Destination                  Route  Arrival_Time  \\\n",
              "0       IndiGo  Banglore   New Delhi              BLR → DEL  01:10 22 Mar   \n",
              "1    Air India   Kolkata    Banglore  CCU → IXR → BBI → BLR         13:15   \n",
              "2  Jet Airways     Delhi      Cochin  DEL → LKO → BOM → COK  04:25 10 Jun   \n",
              "3       IndiGo   Kolkata    Banglore        CCU → NAG → BLR         23:30   \n",
              "4       IndiGo  Banglore   New Delhi        BLR → NAG → DEL         21:35   \n",
              "\n",
              "  Duration Total_Stops Additional_Info  Price  day_of_Journey  \\\n",
              "0   2h 50m    non-stop         No info   3897              24   \n",
              "1   7h 25m     2 stops         No info   7662               5   \n",
              "2      19h     2 stops         No info  13882               6   \n",
              "3   5h 25m      1 stop         No info   6218               5   \n",
              "4   4h 45m      1 stop         No info  13302               3   \n",
              "\n",
              "   month_of_Journey  hour_of_Dep  min_of_Dep  \n",
              "0                 3           22          20  \n",
              "1                 1            5          50  \n",
              "2                 9            9          25  \n",
              "3                12           18           5  \n",
              "4                 1           16          50  "
            ]
          },
          "metadata": {},
          "execution_count": 134
        }
      ]
    },
    {
      "cell_type": "code",
      "metadata": {
        "id": "RT-SZAZAlMOw"
      },
      "source": [
        "#convert Arrival_Time to int values and drop the Arrival_Time column\n",
        "#Extract Arrival_Time hour from Arrival_Time\n",
        "train_data['hour_of_arrival']= pd.to_datetime(train_data['Arrival_Time']).dt.hour\n",
        "#Extract Arrival_Time minute from Arrival_Time\n",
        "train_data['min_of_arrival']= pd.to_datetime(train_data['Arrival_Time']).dt.minute"
      ],
      "execution_count": 135,
      "outputs": []
    },
    {
      "cell_type": "code",
      "metadata": {
        "id": "KMzuCRZ5raaF"
      },
      "source": [
        "train_data.drop(['Arrival_Time'],axis=1, inplace=True)"
      ],
      "execution_count": 136,
      "outputs": []
    },
    {
      "cell_type": "code",
      "metadata": {
        "colab": {
          "base_uri": "https://localhost:8080/",
          "height": 607
        },
        "id": "3skva1CNrOBC",
        "outputId": "bff87b2d-6e94-4114-efb1-2c4667d36f70"
      },
      "source": [
        "train_data.head()"
      ],
      "execution_count": 137,
      "outputs": [
        {
          "output_type": "execute_result",
          "data": {
            "text/html": [
              "<div>\n",
              "<style scoped>\n",
              "    .dataframe tbody tr th:only-of-type {\n",
              "        vertical-align: middle;\n",
              "    }\n",
              "\n",
              "    .dataframe tbody tr th {\n",
              "        vertical-align: top;\n",
              "    }\n",
              "\n",
              "    .dataframe thead th {\n",
              "        text-align: right;\n",
              "    }\n",
              "</style>\n",
              "<table border=\"1\" class=\"dataframe\">\n",
              "  <thead>\n",
              "    <tr style=\"text-align: right;\">\n",
              "      <th></th>\n",
              "      <th>Airline</th>\n",
              "      <th>Source</th>\n",
              "      <th>Destination</th>\n",
              "      <th>Route</th>\n",
              "      <th>Duration</th>\n",
              "      <th>Total_Stops</th>\n",
              "      <th>Additional_Info</th>\n",
              "      <th>Price</th>\n",
              "      <th>day_of_Journey</th>\n",
              "      <th>month_of_Journey</th>\n",
              "      <th>hour_of_Dep</th>\n",
              "      <th>min_of_Dep</th>\n",
              "      <th>hour_of_arrival</th>\n",
              "      <th>min_of_arrival</th>\n",
              "    </tr>\n",
              "  </thead>\n",
              "  <tbody>\n",
              "    <tr>\n",
              "      <th>0</th>\n",
              "      <td>IndiGo</td>\n",
              "      <td>Banglore</td>\n",
              "      <td>New Delhi</td>\n",
              "      <td>BLR → DEL</td>\n",
              "      <td>2h 50m</td>\n",
              "      <td>non-stop</td>\n",
              "      <td>No info</td>\n",
              "      <td>3897</td>\n",
              "      <td>24</td>\n",
              "      <td>3</td>\n",
              "      <td>22</td>\n",
              "      <td>20</td>\n",
              "      <td>1</td>\n",
              "      <td>10</td>\n",
              "    </tr>\n",
              "    <tr>\n",
              "      <th>1</th>\n",
              "      <td>Air India</td>\n",
              "      <td>Kolkata</td>\n",
              "      <td>Banglore</td>\n",
              "      <td>CCU → IXR → BBI → BLR</td>\n",
              "      <td>7h 25m</td>\n",
              "      <td>2 stops</td>\n",
              "      <td>No info</td>\n",
              "      <td>7662</td>\n",
              "      <td>5</td>\n",
              "      <td>1</td>\n",
              "      <td>5</td>\n",
              "      <td>50</td>\n",
              "      <td>13</td>\n",
              "      <td>15</td>\n",
              "    </tr>\n",
              "    <tr>\n",
              "      <th>2</th>\n",
              "      <td>Jet Airways</td>\n",
              "      <td>Delhi</td>\n",
              "      <td>Cochin</td>\n",
              "      <td>DEL → LKO → BOM → COK</td>\n",
              "      <td>19h</td>\n",
              "      <td>2 stops</td>\n",
              "      <td>No info</td>\n",
              "      <td>13882</td>\n",
              "      <td>6</td>\n",
              "      <td>9</td>\n",
              "      <td>9</td>\n",
              "      <td>25</td>\n",
              "      <td>4</td>\n",
              "      <td>25</td>\n",
              "    </tr>\n",
              "    <tr>\n",
              "      <th>3</th>\n",
              "      <td>IndiGo</td>\n",
              "      <td>Kolkata</td>\n",
              "      <td>Banglore</td>\n",
              "      <td>CCU → NAG → BLR</td>\n",
              "      <td>5h 25m</td>\n",
              "      <td>1 stop</td>\n",
              "      <td>No info</td>\n",
              "      <td>6218</td>\n",
              "      <td>5</td>\n",
              "      <td>12</td>\n",
              "      <td>18</td>\n",
              "      <td>5</td>\n",
              "      <td>23</td>\n",
              "      <td>30</td>\n",
              "    </tr>\n",
              "    <tr>\n",
              "      <th>4</th>\n",
              "      <td>IndiGo</td>\n",
              "      <td>Banglore</td>\n",
              "      <td>New Delhi</td>\n",
              "      <td>BLR → NAG → DEL</td>\n",
              "      <td>4h 45m</td>\n",
              "      <td>1 stop</td>\n",
              "      <td>No info</td>\n",
              "      <td>13302</td>\n",
              "      <td>3</td>\n",
              "      <td>1</td>\n",
              "      <td>16</td>\n",
              "      <td>50</td>\n",
              "      <td>21</td>\n",
              "      <td>35</td>\n",
              "    </tr>\n",
              "  </tbody>\n",
              "</table>\n",
              "</div>"
            ],
            "text/plain": [
              "       Airline    Source Destination                  Route Duration  \\\n",
              "0       IndiGo  Banglore   New Delhi              BLR → DEL   2h 50m   \n",
              "1    Air India   Kolkata    Banglore  CCU → IXR → BBI → BLR   7h 25m   \n",
              "2  Jet Airways     Delhi      Cochin  DEL → LKO → BOM → COK      19h   \n",
              "3       IndiGo   Kolkata    Banglore        CCU → NAG → BLR   5h 25m   \n",
              "4       IndiGo  Banglore   New Delhi        BLR → NAG → DEL   4h 45m   \n",
              "\n",
              "  Total_Stops Additional_Info  Price  day_of_Journey  month_of_Journey  \\\n",
              "0    non-stop         No info   3897              24                 3   \n",
              "1     2 stops         No info   7662               5                 1   \n",
              "2     2 stops         No info  13882               6                 9   \n",
              "3      1 stop         No info   6218               5                12   \n",
              "4      1 stop         No info  13302               3                 1   \n",
              "\n",
              "   hour_of_Dep  min_of_Dep  hour_of_arrival  min_of_arrival  \n",
              "0           22          20                1              10  \n",
              "1            5          50               13              15  \n",
              "2            9          25                4              25  \n",
              "3           18           5               23              30  \n",
              "4           16          50               21              35  "
            ]
          },
          "metadata": {},
          "execution_count": 137
        }
      ]
    },
    {
      "cell_type": "code",
      "metadata": {
        "id": "6CbtCpPGs6wK"
      },
      "source": [
        "list1=list(train_data['Duration'])\n",
        "#print(list1)"
      ],
      "execution_count": 138,
      "outputs": []
    },
    {
      "cell_type": "code",
      "metadata": {
        "colab": {
          "base_uri": "https://localhost:8080/",
          "height": 607
        },
        "id": "56hBf1j0QdmG",
        "outputId": "9e7efa5e-9181-4c69-cbd9-932c301408a0"
      },
      "source": [
        "train_data.head()"
      ],
      "execution_count": 139,
      "outputs": [
        {
          "output_type": "execute_result",
          "data": {
            "text/html": [
              "<div>\n",
              "<style scoped>\n",
              "    .dataframe tbody tr th:only-of-type {\n",
              "        vertical-align: middle;\n",
              "    }\n",
              "\n",
              "    .dataframe tbody tr th {\n",
              "        vertical-align: top;\n",
              "    }\n",
              "\n",
              "    .dataframe thead th {\n",
              "        text-align: right;\n",
              "    }\n",
              "</style>\n",
              "<table border=\"1\" class=\"dataframe\">\n",
              "  <thead>\n",
              "    <tr style=\"text-align: right;\">\n",
              "      <th></th>\n",
              "      <th>Airline</th>\n",
              "      <th>Source</th>\n",
              "      <th>Destination</th>\n",
              "      <th>Route</th>\n",
              "      <th>Duration</th>\n",
              "      <th>Total_Stops</th>\n",
              "      <th>Additional_Info</th>\n",
              "      <th>Price</th>\n",
              "      <th>day_of_Journey</th>\n",
              "      <th>month_of_Journey</th>\n",
              "      <th>hour_of_Dep</th>\n",
              "      <th>min_of_Dep</th>\n",
              "      <th>hour_of_arrival</th>\n",
              "      <th>min_of_arrival</th>\n",
              "    </tr>\n",
              "  </thead>\n",
              "  <tbody>\n",
              "    <tr>\n",
              "      <th>0</th>\n",
              "      <td>IndiGo</td>\n",
              "      <td>Banglore</td>\n",
              "      <td>New Delhi</td>\n",
              "      <td>BLR → DEL</td>\n",
              "      <td>2h 50m</td>\n",
              "      <td>non-stop</td>\n",
              "      <td>No info</td>\n",
              "      <td>3897</td>\n",
              "      <td>24</td>\n",
              "      <td>3</td>\n",
              "      <td>22</td>\n",
              "      <td>20</td>\n",
              "      <td>1</td>\n",
              "      <td>10</td>\n",
              "    </tr>\n",
              "    <tr>\n",
              "      <th>1</th>\n",
              "      <td>Air India</td>\n",
              "      <td>Kolkata</td>\n",
              "      <td>Banglore</td>\n",
              "      <td>CCU → IXR → BBI → BLR</td>\n",
              "      <td>7h 25m</td>\n",
              "      <td>2 stops</td>\n",
              "      <td>No info</td>\n",
              "      <td>7662</td>\n",
              "      <td>5</td>\n",
              "      <td>1</td>\n",
              "      <td>5</td>\n",
              "      <td>50</td>\n",
              "      <td>13</td>\n",
              "      <td>15</td>\n",
              "    </tr>\n",
              "    <tr>\n",
              "      <th>2</th>\n",
              "      <td>Jet Airways</td>\n",
              "      <td>Delhi</td>\n",
              "      <td>Cochin</td>\n",
              "      <td>DEL → LKO → BOM → COK</td>\n",
              "      <td>19h</td>\n",
              "      <td>2 stops</td>\n",
              "      <td>No info</td>\n",
              "      <td>13882</td>\n",
              "      <td>6</td>\n",
              "      <td>9</td>\n",
              "      <td>9</td>\n",
              "      <td>25</td>\n",
              "      <td>4</td>\n",
              "      <td>25</td>\n",
              "    </tr>\n",
              "    <tr>\n",
              "      <th>3</th>\n",
              "      <td>IndiGo</td>\n",
              "      <td>Kolkata</td>\n",
              "      <td>Banglore</td>\n",
              "      <td>CCU → NAG → BLR</td>\n",
              "      <td>5h 25m</td>\n",
              "      <td>1 stop</td>\n",
              "      <td>No info</td>\n",
              "      <td>6218</td>\n",
              "      <td>5</td>\n",
              "      <td>12</td>\n",
              "      <td>18</td>\n",
              "      <td>5</td>\n",
              "      <td>23</td>\n",
              "      <td>30</td>\n",
              "    </tr>\n",
              "    <tr>\n",
              "      <th>4</th>\n",
              "      <td>IndiGo</td>\n",
              "      <td>Banglore</td>\n",
              "      <td>New Delhi</td>\n",
              "      <td>BLR → NAG → DEL</td>\n",
              "      <td>4h 45m</td>\n",
              "      <td>1 stop</td>\n",
              "      <td>No info</td>\n",
              "      <td>13302</td>\n",
              "      <td>3</td>\n",
              "      <td>1</td>\n",
              "      <td>16</td>\n",
              "      <td>50</td>\n",
              "      <td>21</td>\n",
              "      <td>35</td>\n",
              "    </tr>\n",
              "  </tbody>\n",
              "</table>\n",
              "</div>"
            ],
            "text/plain": [
              "       Airline    Source Destination                  Route Duration  \\\n",
              "0       IndiGo  Banglore   New Delhi              BLR → DEL   2h 50m   \n",
              "1    Air India   Kolkata    Banglore  CCU → IXR → BBI → BLR   7h 25m   \n",
              "2  Jet Airways     Delhi      Cochin  DEL → LKO → BOM → COK      19h   \n",
              "3       IndiGo   Kolkata    Banglore        CCU → NAG → BLR   5h 25m   \n",
              "4       IndiGo  Banglore   New Delhi        BLR → NAG → DEL   4h 45m   \n",
              "\n",
              "  Total_Stops Additional_Info  Price  day_of_Journey  month_of_Journey  \\\n",
              "0    non-stop         No info   3897              24                 3   \n",
              "1     2 stops         No info   7662               5                 1   \n",
              "2     2 stops         No info  13882               6                 9   \n",
              "3      1 stop         No info   6218               5                12   \n",
              "4      1 stop         No info  13302               3                 1   \n",
              "\n",
              "   hour_of_Dep  min_of_Dep  hour_of_arrival  min_of_arrival  \n",
              "0           22          20                1              10  \n",
              "1            5          50               13              15  \n",
              "2            9          25                4              25  \n",
              "3           18           5               23              30  \n",
              "4           16          50               21              35  "
            ]
          },
          "metadata": {},
          "execution_count": 139
        }
      ]
    },
    {
      "cell_type": "markdown",
      "metadata": {
        "id": "09tbR5-Vqm0z"
      },
      "source": [
        "Time taken by plane to reach destination is called Duration\n",
        "\n",
        "It is the differnce betwwen Departure Time and Arrival time\n",
        "\n",
        "Assigning and converting Duration column into list"
      ]
    },
    {
      "cell_type": "code",
      "metadata": {
        "id": "ZFi9cYQCs6hv"
      },
      "source": [
        "duration = list(train_data[\"Duration\"])\n",
        "\n",
        "for i in range(len(duration)):\n",
        "    if len(duration[i].split()) != 2:    # Check if duration contains only hour or mins\n",
        "        if \"h\" in duration[i]:\n",
        "            duration[i] = duration[i].strip() + \" 0m\"   # Adds 0 minute\n",
        "        else:\n",
        "            duration[i] = \"0h \" + duration[i]           # Adds 0 hour\n",
        "\n",
        "duration_hours = []\n",
        "duration_mins = []\n",
        "for i in range(len(duration)):\n",
        "    duration_hours.append(int(duration[i].split(sep = \"h\")[0]))    # Extract hours from duration\n",
        "    duration_mins.append(int(duration[i].split(sep = \"m\")[0].split()[-1]))   # Extracts only minutes from duration"
      ],
      "execution_count": 140,
      "outputs": []
    },
    {
      "cell_type": "code",
      "metadata": {
        "id": "ZhdQjYyWQ8-Q"
      },
      "source": [
        "# Adding duration_hours and duration_mins list to train_data dataframe\n",
        "train_data[\"Duration_hours\"] = duration_hours\n",
        "train_data[\"Duration_mins\"] = duration_mins"
      ],
      "execution_count": 141,
      "outputs": []
    },
    {
      "cell_type": "code",
      "metadata": {
        "colab": {
          "base_uri": "https://localhost:8080/",
          "height": 607
        },
        "id": "xBeM94UTRRnq",
        "outputId": "0f865dc5-b310-4694-b437-f0ae89fa15cc"
      },
      "source": [
        "train_data.head()"
      ],
      "execution_count": 142,
      "outputs": [
        {
          "output_type": "execute_result",
          "data": {
            "text/html": [
              "<div>\n",
              "<style scoped>\n",
              "    .dataframe tbody tr th:only-of-type {\n",
              "        vertical-align: middle;\n",
              "    }\n",
              "\n",
              "    .dataframe tbody tr th {\n",
              "        vertical-align: top;\n",
              "    }\n",
              "\n",
              "    .dataframe thead th {\n",
              "        text-align: right;\n",
              "    }\n",
              "</style>\n",
              "<table border=\"1\" class=\"dataframe\">\n",
              "  <thead>\n",
              "    <tr style=\"text-align: right;\">\n",
              "      <th></th>\n",
              "      <th>Airline</th>\n",
              "      <th>Source</th>\n",
              "      <th>Destination</th>\n",
              "      <th>Route</th>\n",
              "      <th>Duration</th>\n",
              "      <th>Total_Stops</th>\n",
              "      <th>Additional_Info</th>\n",
              "      <th>Price</th>\n",
              "      <th>day_of_Journey</th>\n",
              "      <th>month_of_Journey</th>\n",
              "      <th>hour_of_Dep</th>\n",
              "      <th>min_of_Dep</th>\n",
              "      <th>hour_of_arrival</th>\n",
              "      <th>min_of_arrival</th>\n",
              "      <th>Duration_hours</th>\n",
              "      <th>Duration_mins</th>\n",
              "    </tr>\n",
              "  </thead>\n",
              "  <tbody>\n",
              "    <tr>\n",
              "      <th>0</th>\n",
              "      <td>IndiGo</td>\n",
              "      <td>Banglore</td>\n",
              "      <td>New Delhi</td>\n",
              "      <td>BLR → DEL</td>\n",
              "      <td>2h 50m</td>\n",
              "      <td>non-stop</td>\n",
              "      <td>No info</td>\n",
              "      <td>3897</td>\n",
              "      <td>24</td>\n",
              "      <td>3</td>\n",
              "      <td>22</td>\n",
              "      <td>20</td>\n",
              "      <td>1</td>\n",
              "      <td>10</td>\n",
              "      <td>2</td>\n",
              "      <td>50</td>\n",
              "    </tr>\n",
              "    <tr>\n",
              "      <th>1</th>\n",
              "      <td>Air India</td>\n",
              "      <td>Kolkata</td>\n",
              "      <td>Banglore</td>\n",
              "      <td>CCU → IXR → BBI → BLR</td>\n",
              "      <td>7h 25m</td>\n",
              "      <td>2 stops</td>\n",
              "      <td>No info</td>\n",
              "      <td>7662</td>\n",
              "      <td>5</td>\n",
              "      <td>1</td>\n",
              "      <td>5</td>\n",
              "      <td>50</td>\n",
              "      <td>13</td>\n",
              "      <td>15</td>\n",
              "      <td>7</td>\n",
              "      <td>25</td>\n",
              "    </tr>\n",
              "    <tr>\n",
              "      <th>2</th>\n",
              "      <td>Jet Airways</td>\n",
              "      <td>Delhi</td>\n",
              "      <td>Cochin</td>\n",
              "      <td>DEL → LKO → BOM → COK</td>\n",
              "      <td>19h</td>\n",
              "      <td>2 stops</td>\n",
              "      <td>No info</td>\n",
              "      <td>13882</td>\n",
              "      <td>6</td>\n",
              "      <td>9</td>\n",
              "      <td>9</td>\n",
              "      <td>25</td>\n",
              "      <td>4</td>\n",
              "      <td>25</td>\n",
              "      <td>19</td>\n",
              "      <td>0</td>\n",
              "    </tr>\n",
              "    <tr>\n",
              "      <th>3</th>\n",
              "      <td>IndiGo</td>\n",
              "      <td>Kolkata</td>\n",
              "      <td>Banglore</td>\n",
              "      <td>CCU → NAG → BLR</td>\n",
              "      <td>5h 25m</td>\n",
              "      <td>1 stop</td>\n",
              "      <td>No info</td>\n",
              "      <td>6218</td>\n",
              "      <td>5</td>\n",
              "      <td>12</td>\n",
              "      <td>18</td>\n",
              "      <td>5</td>\n",
              "      <td>23</td>\n",
              "      <td>30</td>\n",
              "      <td>5</td>\n",
              "      <td>25</td>\n",
              "    </tr>\n",
              "    <tr>\n",
              "      <th>4</th>\n",
              "      <td>IndiGo</td>\n",
              "      <td>Banglore</td>\n",
              "      <td>New Delhi</td>\n",
              "      <td>BLR → NAG → DEL</td>\n",
              "      <td>4h 45m</td>\n",
              "      <td>1 stop</td>\n",
              "      <td>No info</td>\n",
              "      <td>13302</td>\n",
              "      <td>3</td>\n",
              "      <td>1</td>\n",
              "      <td>16</td>\n",
              "      <td>50</td>\n",
              "      <td>21</td>\n",
              "      <td>35</td>\n",
              "      <td>4</td>\n",
              "      <td>45</td>\n",
              "    </tr>\n",
              "  </tbody>\n",
              "</table>\n",
              "</div>"
            ],
            "text/plain": [
              "       Airline    Source Destination                  Route Duration  \\\n",
              "0       IndiGo  Banglore   New Delhi              BLR → DEL   2h 50m   \n",
              "1    Air India   Kolkata    Banglore  CCU → IXR → BBI → BLR   7h 25m   \n",
              "2  Jet Airways     Delhi      Cochin  DEL → LKO → BOM → COK      19h   \n",
              "3       IndiGo   Kolkata    Banglore        CCU → NAG → BLR   5h 25m   \n",
              "4       IndiGo  Banglore   New Delhi        BLR → NAG → DEL   4h 45m   \n",
              "\n",
              "  Total_Stops Additional_Info  Price  day_of_Journey  month_of_Journey  \\\n",
              "0    non-stop         No info   3897              24                 3   \n",
              "1     2 stops         No info   7662               5                 1   \n",
              "2     2 stops         No info  13882               6                 9   \n",
              "3      1 stop         No info   6218               5                12   \n",
              "4      1 stop         No info  13302               3                 1   \n",
              "\n",
              "   hour_of_Dep  min_of_Dep  hour_of_arrival  min_of_arrival  Duration_hours  \\\n",
              "0           22          20                1              10               2   \n",
              "1            5          50               13              15               7   \n",
              "2            9          25                4              25              19   \n",
              "3           18           5               23              30               5   \n",
              "4           16          50               21              35               4   \n",
              "\n",
              "   Duration_mins  \n",
              "0             50  \n",
              "1             25  \n",
              "2              0  \n",
              "3             25  \n",
              "4             45  "
            ]
          },
          "metadata": {},
          "execution_count": 142
        }
      ]
    },
    {
      "cell_type": "code",
      "metadata": {
        "id": "qXY10p-6RWIz"
      },
      "source": [
        "train_data.drop(['Duration'], axis=1,inplace=True)"
      ],
      "execution_count": 143,
      "outputs": []
    },
    {
      "cell_type": "code",
      "metadata": {
        "colab": {
          "base_uri": "https://localhost:8080/",
          "height": 607
        },
        "id": "MLILRQorR8Hu",
        "outputId": "a383406d-3585-4256-9afe-55bcac532d52"
      },
      "source": [
        "train_data.head()"
      ],
      "execution_count": 144,
      "outputs": [
        {
          "output_type": "execute_result",
          "data": {
            "text/html": [
              "<div>\n",
              "<style scoped>\n",
              "    .dataframe tbody tr th:only-of-type {\n",
              "        vertical-align: middle;\n",
              "    }\n",
              "\n",
              "    .dataframe tbody tr th {\n",
              "        vertical-align: top;\n",
              "    }\n",
              "\n",
              "    .dataframe thead th {\n",
              "        text-align: right;\n",
              "    }\n",
              "</style>\n",
              "<table border=\"1\" class=\"dataframe\">\n",
              "  <thead>\n",
              "    <tr style=\"text-align: right;\">\n",
              "      <th></th>\n",
              "      <th>Airline</th>\n",
              "      <th>Source</th>\n",
              "      <th>Destination</th>\n",
              "      <th>Route</th>\n",
              "      <th>Total_Stops</th>\n",
              "      <th>Additional_Info</th>\n",
              "      <th>Price</th>\n",
              "      <th>day_of_Journey</th>\n",
              "      <th>month_of_Journey</th>\n",
              "      <th>hour_of_Dep</th>\n",
              "      <th>min_of_Dep</th>\n",
              "      <th>hour_of_arrival</th>\n",
              "      <th>min_of_arrival</th>\n",
              "      <th>Duration_hours</th>\n",
              "      <th>Duration_mins</th>\n",
              "    </tr>\n",
              "  </thead>\n",
              "  <tbody>\n",
              "    <tr>\n",
              "      <th>0</th>\n",
              "      <td>IndiGo</td>\n",
              "      <td>Banglore</td>\n",
              "      <td>New Delhi</td>\n",
              "      <td>BLR → DEL</td>\n",
              "      <td>non-stop</td>\n",
              "      <td>No info</td>\n",
              "      <td>3897</td>\n",
              "      <td>24</td>\n",
              "      <td>3</td>\n",
              "      <td>22</td>\n",
              "      <td>20</td>\n",
              "      <td>1</td>\n",
              "      <td>10</td>\n",
              "      <td>2</td>\n",
              "      <td>50</td>\n",
              "    </tr>\n",
              "    <tr>\n",
              "      <th>1</th>\n",
              "      <td>Air India</td>\n",
              "      <td>Kolkata</td>\n",
              "      <td>Banglore</td>\n",
              "      <td>CCU → IXR → BBI → BLR</td>\n",
              "      <td>2 stops</td>\n",
              "      <td>No info</td>\n",
              "      <td>7662</td>\n",
              "      <td>5</td>\n",
              "      <td>1</td>\n",
              "      <td>5</td>\n",
              "      <td>50</td>\n",
              "      <td>13</td>\n",
              "      <td>15</td>\n",
              "      <td>7</td>\n",
              "      <td>25</td>\n",
              "    </tr>\n",
              "    <tr>\n",
              "      <th>2</th>\n",
              "      <td>Jet Airways</td>\n",
              "      <td>Delhi</td>\n",
              "      <td>Cochin</td>\n",
              "      <td>DEL → LKO → BOM → COK</td>\n",
              "      <td>2 stops</td>\n",
              "      <td>No info</td>\n",
              "      <td>13882</td>\n",
              "      <td>6</td>\n",
              "      <td>9</td>\n",
              "      <td>9</td>\n",
              "      <td>25</td>\n",
              "      <td>4</td>\n",
              "      <td>25</td>\n",
              "      <td>19</td>\n",
              "      <td>0</td>\n",
              "    </tr>\n",
              "    <tr>\n",
              "      <th>3</th>\n",
              "      <td>IndiGo</td>\n",
              "      <td>Kolkata</td>\n",
              "      <td>Banglore</td>\n",
              "      <td>CCU → NAG → BLR</td>\n",
              "      <td>1 stop</td>\n",
              "      <td>No info</td>\n",
              "      <td>6218</td>\n",
              "      <td>5</td>\n",
              "      <td>12</td>\n",
              "      <td>18</td>\n",
              "      <td>5</td>\n",
              "      <td>23</td>\n",
              "      <td>30</td>\n",
              "      <td>5</td>\n",
              "      <td>25</td>\n",
              "    </tr>\n",
              "    <tr>\n",
              "      <th>4</th>\n",
              "      <td>IndiGo</td>\n",
              "      <td>Banglore</td>\n",
              "      <td>New Delhi</td>\n",
              "      <td>BLR → NAG → DEL</td>\n",
              "      <td>1 stop</td>\n",
              "      <td>No info</td>\n",
              "      <td>13302</td>\n",
              "      <td>3</td>\n",
              "      <td>1</td>\n",
              "      <td>16</td>\n",
              "      <td>50</td>\n",
              "      <td>21</td>\n",
              "      <td>35</td>\n",
              "      <td>4</td>\n",
              "      <td>45</td>\n",
              "    </tr>\n",
              "  </tbody>\n",
              "</table>\n",
              "</div>"
            ],
            "text/plain": [
              "       Airline    Source Destination                  Route Total_Stops  \\\n",
              "0       IndiGo  Banglore   New Delhi              BLR → DEL    non-stop   \n",
              "1    Air India   Kolkata    Banglore  CCU → IXR → BBI → BLR     2 stops   \n",
              "2  Jet Airways     Delhi      Cochin  DEL → LKO → BOM → COK     2 stops   \n",
              "3       IndiGo   Kolkata    Banglore        CCU → NAG → BLR      1 stop   \n",
              "4       IndiGo  Banglore   New Delhi        BLR → NAG → DEL      1 stop   \n",
              "\n",
              "  Additional_Info  Price  day_of_Journey  month_of_Journey  hour_of_Dep  \\\n",
              "0         No info   3897              24                 3           22   \n",
              "1         No info   7662               5                 1            5   \n",
              "2         No info  13882               6                 9            9   \n",
              "3         No info   6218               5                12           18   \n",
              "4         No info  13302               3                 1           16   \n",
              "\n",
              "   min_of_Dep  hour_of_arrival  min_of_arrival  Duration_hours  Duration_mins  \n",
              "0          20                1              10               2             50  \n",
              "1          50               13              15               7             25  \n",
              "2          25                4              25              19              0  \n",
              "3           5               23              30               5             25  \n",
              "4          50               21              35               4             45  "
            ]
          },
          "metadata": {},
          "execution_count": 144
        }
      ]
    },
    {
      "cell_type": "code",
      "metadata": {
        "id": "eBG6N9dBrf8_"
      },
      "source": [
        ""
      ],
      "execution_count": null,
      "outputs": []
    },
    {
      "cell_type": "markdown",
      "metadata": {
        "id": "jwCmmQWAryuu"
      },
      "source": [
        "Visualize the Count of flights month wise using countplot in seaborn\n"
      ]
    },
    {
      "cell_type": "code",
      "metadata": {
        "colab": {
          "base_uri": "https://localhost:8080/",
          "height": 621
        },
        "id": "SnDFi9pIrf5D",
        "outputId": "4bd1ce36-79f0-4f02-a1cf-906f78cc1ef9"
      },
      "source": [
        "plt.figure(figsize = (15, 10))\n",
        "plt.title('Count of flights month wise')\n",
        "\n",
        "ax=sns.countplot(x = 'month_of_Journey', data = train_data)\n",
        "\n",
        "plt.xlabel('Month')\n",
        "plt.ylabel('Count of flights')\n",
        "for p in ax.patches:\n",
        "    ax.annotate(int(p.get_height()), (p.get_x()+0.25, p.get_height()+1), va='bottom',\n",
        "                    color= 'black')"
      ],
      "execution_count": 145,
      "outputs": [
        {
          "output_type": "display_data",
          "data": {
            "image/png": "[encoded data removed]",
            "text/plain": [
              "<Figure size 1080x720 with 1 Axes>"
            ]
          },
          "metadata": {
            "needs_background": "light"
          }
        }
      ]
    },
    {
      "cell_type": "code",
      "metadata": {
        "id": "5XhQbFARrf1D"
      },
      "source": [
        ""
      ],
      "execution_count": null,
      "outputs": []
    },
    {
      "cell_type": "code",
      "metadata": {
        "id": "9-yAgN0qrfyo"
      },
      "source": [
        ""
      ],
      "execution_count": null,
      "outputs": []
    },
    {
      "cell_type": "code",
      "metadata": {
        "id": "3DBj50LPrfu6"
      },
      "source": [
        ""
      ],
      "execution_count": null,
      "outputs": []
    },
    {
      "cell_type": "markdown",
      "metadata": {
        "id": "Wkfn9L2_SDwq"
      },
      "source": [
        "\n",
        "Handling Categorical Data\n",
        "One can find many ways to handle categorical data. Some of them categorical data are,\n",
        "\n",
        "**Nominal data** --> data are not in any order --> **OneHotEncoder** is used in this case\n",
        "\n",
        "**Ordinal data** --> data are in order --> **LabelEncoder** is used in this case"
      ]
    },
    {
      "cell_type": "code",
      "metadata": {
        "colab": {
          "base_uri": "https://localhost:8080/"
        },
        "id": "YX52oeENR-Tv",
        "outputId": "e9ebb7eb-c014-47e4-f518-df518921a125"
      },
      "source": [
        "train_data['Airline'].value_counts()"
      ],
      "execution_count": 146,
      "outputs": [
        {
          "output_type": "execute_result",
          "data": {
            "text/plain": [
              "Jet Airways                          3849\n",
              "IndiGo                               2053\n",
              "Air India                            1751\n",
              "Multiple carriers                    1196\n",
              "SpiceJet                              818\n",
              "Vistara                               479\n",
              "Air Asia                              319\n",
              "GoAir                                 194\n",
              "Multiple carriers Premium economy      13\n",
              "Jet Airways Business                    6\n",
              "Vistara Premium economy                 3\n",
              "Trujet                                  1\n",
              "Name: Airline, dtype: int64"
            ]
          },
          "metadata": {},
          "execution_count": 146
        }
      ]
    },
    {
      "cell_type": "markdown",
      "metadata": {
        "id": "HA3SjbwfswOL"
      },
      "source": [
        "Visualize the Count of flights with different Airlines"
      ]
    },
    {
      "cell_type": "code",
      "metadata": {
        "colab": {
          "base_uri": "https://localhost:8080/",
          "height": 789
        },
        "id": "cZ5KfoAksuVK",
        "outputId": "32c43543-9b79-4af8-ea2c-376f799dc9f5"
      },
      "source": [
        "plt.figure(figsize = (15, 10))\n",
        "plt.title('Count of flights with different Airlines')\n",
        "ax=sns.countplot(x = 'Airline', data =train_data)\n",
        "plt.xlabel('Airline')\n",
        "plt.ylabel('Count of flights')\n",
        "plt.xticks(rotation = 90)\n",
        "for p in ax.patches:\n",
        "    ax.annotate(int(p.get_height()), (p.get_x()+0.25, p.get_height()+1), va='bottom',\n",
        "                    color= 'black')\n",
        "    \n",
        "#There are more number of flights of Jet Airways.\n",
        "#Jet Airways Business, Vistara Premium economy, Trujet have actually almost negligible flights."
      ],
      "execution_count": 147,
      "outputs": [
        {
          "output_type": "display_data",
          "data": {
            "image/png": "[encoded data removed]",
            "text/plain": [
              "<Figure size 1080x720 with 1 Axes>"
            ]
          },
          "metadata": {
            "needs_background": "light"
          }
        }
      ]
    },
    {
      "cell_type": "markdown",
      "metadata": {
        "id": "Uu1hip4VtMAR"
      },
      "source": [
        "Visualize Airline vs Price using catplot"
      ]
    },
    {
      "cell_type": "code",
      "metadata": {
        "colab": {
          "base_uri": "https://localhost:8080/",
          "height": 407
        },
        "id": "bIwxYV1hSbtE",
        "outputId": "5a956012-ebef-4663-bf04-5e7648f81644"
      },
      "source": [
        "# Airline vs Price. plot the categorical features price Vs Airlines\n",
        "sns.catplot(y = \"Price\", x = \"Airline\", data = train_data.sort_values(\"Price\", ascending = False), kind=\"boxen\", height = 6, aspect = 3)\n",
        "plt.show()\n",
        "\n",
        "# From graph we can see that Jet Airways Business have the highest Price.\n",
        "# Apart from the first Airline almost all are having almost similar median"
      ],
      "execution_count": 148,
      "outputs": [
        {
          "output_type": "display_data",
          "data": {
            "image/png": "[encoded data removed]",
            "text/plain": [
              "<Figure size 1296x432 with 1 Axes>"
            ]
          },
          "metadata": {
            "needs_background": "light"
          }
        }
      ]
    },
    {
      "cell_type": "code",
      "metadata": {
        "colab": {
          "base_uri": "https://localhost:8080/"
        },
        "id": "oOZVhwawW9o2",
        "outputId": "8b9b52fc-bdd0-4cae-fb66-fddf1e57ef9c"
      },
      "source": [
        "#As airline is nominal categorical values, we will use onehot encoding.\n",
        "airline = train_data[['Airline']]\n",
        "print(airline)"
      ],
      "execution_count": 149,
      "outputs": [
        {
          "output_type": "stream",
          "name": "stdout",
          "text": [
            "           Airline\n",
            "0           IndiGo\n",
            "1        Air India\n",
            "2      Jet Airways\n",
            "3           IndiGo\n",
            "4           IndiGo\n",
            "...            ...\n",
            "10678     Air Asia\n",
            "10679    Air India\n",
            "10680  Jet Airways\n",
            "10681      Vistara\n",
            "10682    Air India\n",
            "\n",
            "[10682 rows x 1 columns]\n"
          ]
        }
      ]
    },
    {
      "cell_type": "code",
      "metadata": {
        "colab": {
          "base_uri": "https://localhost:8080/",
          "height": 261
        },
        "id": "SUk3-n05W9m-",
        "outputId": "9ae97707-6e6b-4783-c6c3-abeace49d181"
      },
      "source": [
        "#function used for onehotencoding.\n",
        "airline= pd.get_dummies(airline, drop_first=True)   \n",
        "#drop_first : drop the airline column from train data set\n",
        "airline.head()"
      ],
      "execution_count": 150,
      "outputs": [
        {
          "output_type": "execute_result",
          "data": {
            "text/html": [
              "<div>\n",
              "<style scoped>\n",
              "    .dataframe tbody tr th:only-of-type {\n",
              "        vertical-align: middle;\n",
              "    }\n",
              "\n",
              "    .dataframe tbody tr th {\n",
              "        vertical-align: top;\n",
              "    }\n",
              "\n",
              "    .dataframe thead th {\n",
              "        text-align: right;\n",
              "    }\n",
              "</style>\n",
              "<table border=\"1\" class=\"dataframe\">\n",
              "  <thead>\n",
              "    <tr style=\"text-align: right;\">\n",
              "      <th></th>\n",
              "      <th>Airline_Air India</th>\n",
              "      <th>Airline_GoAir</th>\n",
              "      <th>Airline_IndiGo</th>\n",
              "      <th>Airline_Jet Airways</th>\n",
              "      <th>Airline_Jet Airways Business</th>\n",
              "      <th>Airline_Multiple carriers</th>\n",
              "      <th>Airline_Multiple carriers Premium economy</th>\n",
              "      <th>Airline_SpiceJet</th>\n",
              "      <th>Airline_Trujet</th>\n",
              "      <th>Airline_Vistara</th>\n",
              "      <th>Airline_Vistara Premium economy</th>\n",
              "    </tr>\n",
              "  </thead>\n",
              "  <tbody>\n",
              "    <tr>\n",
              "      <th>0</th>\n",
              "      <td>0</td>\n",
              "      <td>0</td>\n",
              "      <td>1</td>\n",
              "      <td>0</td>\n",
              "      <td>0</td>\n",
              "      <td>0</td>\n",
              "      <td>0</td>\n",
              "      <td>0</td>\n",
              "      <td>0</td>\n",
              "      <td>0</td>\n",
              "      <td>0</td>\n",
              "    </tr>\n",
              "    <tr>\n",
              "      <th>1</th>\n",
              "      <td>1</td>\n",
              "      <td>0</td>\n",
              "      <td>0</td>\n",
              "      <td>0</td>\n",
              "      <td>0</td>\n",
              "      <td>0</td>\n",
              "      <td>0</td>\n",
              "      <td>0</td>\n",
              "      <td>0</td>\n",
              "      <td>0</td>\n",
              "      <td>0</td>\n",
              "    </tr>\n",
              "    <tr>\n",
              "      <th>2</th>\n",
              "      <td>0</td>\n",
              "      <td>0</td>\n",
              "      <td>0</td>\n",
              "      <td>1</td>\n",
              "      <td>0</td>\n",
              "      <td>0</td>\n",
              "      <td>0</td>\n",
              "      <td>0</td>\n",
              "      <td>0</td>\n",
              "      <td>0</td>\n",
              "      <td>0</td>\n",
              "    </tr>\n",
              "    <tr>\n",
              "      <th>3</th>\n",
              "      <td>0</td>\n",
              "      <td>0</td>\n",
              "      <td>1</td>\n",
              "      <td>0</td>\n",
              "      <td>0</td>\n",
              "      <td>0</td>\n",
              "      <td>0</td>\n",
              "      <td>0</td>\n",
              "      <td>0</td>\n",
              "      <td>0</td>\n",
              "      <td>0</td>\n",
              "    </tr>\n",
              "    <tr>\n",
              "      <th>4</th>\n",
              "      <td>0</td>\n",
              "      <td>0</td>\n",
              "      <td>1</td>\n",
              "      <td>0</td>\n",
              "      <td>0</td>\n",
              "      <td>0</td>\n",
              "      <td>0</td>\n",
              "      <td>0</td>\n",
              "      <td>0</td>\n",
              "      <td>0</td>\n",
              "      <td>0</td>\n",
              "    </tr>\n",
              "  </tbody>\n",
              "</table>\n",
              "</div>"
            ],
            "text/plain": [
              "   Airline_Air India  Airline_GoAir  Airline_IndiGo  Airline_Jet Airways  \\\n",
              "0                  0              0               1                    0   \n",
              "1                  1              0               0                    0   \n",
              "2                  0              0               0                    1   \n",
              "3                  0              0               1                    0   \n",
              "4                  0              0               1                    0   \n",
              "\n",
              "   Airline_Jet Airways Business  Airline_Multiple carriers  \\\n",
              "0                             0                          0   \n",
              "1                             0                          0   \n",
              "2                             0                          0   \n",
              "3                             0                          0   \n",
              "4                             0                          0   \n",
              "\n",
              "   Airline_Multiple carriers Premium economy  Airline_SpiceJet  \\\n",
              "0                                          0                 0   \n",
              "1                                          0                 0   \n",
              "2                                          0                 0   \n",
              "3                                          0                 0   \n",
              "4                                          0                 0   \n",
              "\n",
              "   Airline_Trujet  Airline_Vistara  Airline_Vistara Premium economy  \n",
              "0               0                0                                0  \n",
              "1               0                0                                0  \n",
              "2               0                0                                0  \n",
              "3               0                0                                0  \n",
              "4               0                0                                0  "
            ]
          },
          "metadata": {},
          "execution_count": 150
        }
      ]
    },
    {
      "cell_type": "code",
      "metadata": {
        "colab": {
          "base_uri": "https://localhost:8080/"
        },
        "id": "gqxogwEIW9kV",
        "outputId": "f25015ee-acfe-4906-834b-f503e4c8ee17"
      },
      "source": [
        "#next feature column is 'Source'\n",
        "train_data['Source'].value_counts()"
      ],
      "execution_count": 151,
      "outputs": [
        {
          "output_type": "execute_result",
          "data": {
            "text/plain": [
              "Delhi       4536\n",
              "Kolkata     2871\n",
              "Banglore    2197\n",
              "Mumbai       697\n",
              "Chennai      381\n",
              "Name: Source, dtype: int64"
            ]
          },
          "metadata": {},
          "execution_count": 151
        }
      ]
    },
    {
      "cell_type": "markdown",
      "metadata": {
        "id": "APTwdEIwuZlY"
      },
      "source": [
        "Source vs Price. \n",
        "Plot the categorical features Source vs price using boxplot\n"
      ]
    },
    {
      "cell_type": "code",
      "metadata": {
        "colab": {
          "base_uri": "https://localhost:8080/",
          "height": 407
        },
        "id": "RkOOnVoVW9hj",
        "outputId": "20269c00-9d72-4043-cb6c-c7033126d76e"
      },
      "source": [
        "sns.catplot(y = \"Price\", x = \"Source\", data = train_data.sort_values(\"Price\", ascending = False), kind=\"boxen\", height = 6, aspect = 3)\n",
        "plt.show()"
      ],
      "execution_count": 152,
      "outputs": [
        {
          "output_type": "display_data",
          "data": {
            "image/png": "[encoded data removed]",
            "text/plain": [
              "<Figure size 1296x432 with 1 Axes>"
            ]
          },
          "metadata": {
            "needs_background": "light"
          }
        }
      ]
    },
    {
      "cell_type": "code",
      "metadata": {
        "colab": {
          "base_uri": "https://localhost:8080/",
          "height": 206
        },
        "id": "siERJopSW9e4",
        "outputId": "59c5f342-400f-48a5-e8ca-a78cca8c8187"
      },
      "source": [
        "source= train_data[['Source']]\n",
        "source.head()"
      ],
      "execution_count": 153,
      "outputs": [
        {
          "output_type": "execute_result",
          "data": {
            "text/html": [
              "<div>\n",
              "<style scoped>\n",
              "    .dataframe tbody tr th:only-of-type {\n",
              "        vertical-align: middle;\n",
              "    }\n",
              "\n",
              "    .dataframe tbody tr th {\n",
              "        vertical-align: top;\n",
              "    }\n",
              "\n",
              "    .dataframe thead th {\n",
              "        text-align: right;\n",
              "    }\n",
              "</style>\n",
              "<table border=\"1\" class=\"dataframe\">\n",
              "  <thead>\n",
              "    <tr style=\"text-align: right;\">\n",
              "      <th></th>\n",
              "      <th>Source</th>\n",
              "    </tr>\n",
              "  </thead>\n",
              "  <tbody>\n",
              "    <tr>\n",
              "      <th>0</th>\n",
              "      <td>Banglore</td>\n",
              "    </tr>\n",
              "    <tr>\n",
              "      <th>1</th>\n",
              "      <td>Kolkata</td>\n",
              "    </tr>\n",
              "    <tr>\n",
              "      <th>2</th>\n",
              "      <td>Delhi</td>\n",
              "    </tr>\n",
              "    <tr>\n",
              "      <th>3</th>\n",
              "      <td>Kolkata</td>\n",
              "    </tr>\n",
              "    <tr>\n",
              "      <th>4</th>\n",
              "      <td>Banglore</td>\n",
              "    </tr>\n",
              "  </tbody>\n",
              "</table>\n",
              "</div>"
            ],
            "text/plain": [
              "     Source\n",
              "0  Banglore\n",
              "1   Kolkata\n",
              "2     Delhi\n",
              "3   Kolkata\n",
              "4  Banglore"
            ]
          },
          "metadata": {},
          "execution_count": 153
        }
      ]
    },
    {
      "cell_type": "code",
      "metadata": {
        "colab": {
          "base_uri": "https://localhost:8080/",
          "height": 206
        },
        "id": "UYRk9a1XW9cO",
        "outputId": "1d4f9dfb-cc62-487d-9405-329a8a56eaa5"
      },
      "source": [
        "#function used for onehotencoding.\n",
        "source= pd.get_dummies(source, drop_first=True)   \n",
        "#drop_first : drop the airline column from train data set\n",
        "source.head()"
      ],
      "execution_count": 154,
      "outputs": [
        {
          "output_type": "execute_result",
          "data": {
            "text/html": [
              "<div>\n",
              "<style scoped>\n",
              "    .dataframe tbody tr th:only-of-type {\n",
              "        vertical-align: middle;\n",
              "    }\n",
              "\n",
              "    .dataframe tbody tr th {\n",
              "        vertical-align: top;\n",
              "    }\n",
              "\n",
              "    .dataframe thead th {\n",
              "        text-align: right;\n",
              "    }\n",
              "</style>\n",
              "<table border=\"1\" class=\"dataframe\">\n",
              "  <thead>\n",
              "    <tr style=\"text-align: right;\">\n",
              "      <th></th>\n",
              "      <th>Source_Chennai</th>\n",
              "      <th>Source_Delhi</th>\n",
              "      <th>Source_Kolkata</th>\n",
              "      <th>Source_Mumbai</th>\n",
              "    </tr>\n",
              "  </thead>\n",
              "  <tbody>\n",
              "    <tr>\n",
              "      <th>0</th>\n",
              "      <td>0</td>\n",
              "      <td>0</td>\n",
              "      <td>0</td>\n",
              "      <td>0</td>\n",
              "    </tr>\n",
              "    <tr>\n",
              "      <th>1</th>\n",
              "      <td>0</td>\n",
              "      <td>0</td>\n",
              "      <td>1</td>\n",
              "      <td>0</td>\n",
              "    </tr>\n",
              "    <tr>\n",
              "      <th>2</th>\n",
              "      <td>0</td>\n",
              "      <td>1</td>\n",
              "      <td>0</td>\n",
              "      <td>0</td>\n",
              "    </tr>\n",
              "    <tr>\n",
              "      <th>3</th>\n",
              "      <td>0</td>\n",
              "      <td>0</td>\n",
              "      <td>1</td>\n",
              "      <td>0</td>\n",
              "    </tr>\n",
              "    <tr>\n",
              "      <th>4</th>\n",
              "      <td>0</td>\n",
              "      <td>0</td>\n",
              "      <td>0</td>\n",
              "      <td>0</td>\n",
              "    </tr>\n",
              "  </tbody>\n",
              "</table>\n",
              "</div>"
            ],
            "text/plain": [
              "   Source_Chennai  Source_Delhi  Source_Kolkata  Source_Mumbai\n",
              "0               0             0               0              0\n",
              "1               0             0               1              0\n",
              "2               0             1               0              0\n",
              "3               0             0               1              0\n",
              "4               0             0               0              0"
            ]
          },
          "metadata": {},
          "execution_count": 154
        }
      ]
    },
    {
      "cell_type": "code",
      "metadata": {
        "colab": {
          "base_uri": "https://localhost:8080/"
        },
        "id": "ixvVwDuuW9Zd",
        "outputId": "397c3dc7-ffd8-43e2-e5e5-efa3ffdf0a65"
      },
      "source": [
        "#next feature col :  'Destination'\n",
        "train_data['Destination'].value_counts()"
      ],
      "execution_count": 155,
      "outputs": [
        {
          "output_type": "execute_result",
          "data": {
            "text/plain": [
              "Cochin       4536\n",
              "Banglore     2871\n",
              "Delhi        1265\n",
              "New Delhi     932\n",
              "Hyderabad     697\n",
              "Kolkata       381\n",
              "Name: Destination, dtype: int64"
            ]
          },
          "metadata": {},
          "execution_count": 155
        }
      ]
    },
    {
      "cell_type": "markdown",
      "metadata": {
        "id": "W3Hpvu9iu5Zd"
      },
      "source": [
        "Plot the categorical features Destination vs price using boxplot"
      ]
    },
    {
      "cell_type": "code",
      "metadata": {
        "colab": {
          "base_uri": "https://localhost:8080/",
          "height": 407
        },
        "id": "XbhjfRaqHoQO",
        "outputId": "91b6a30e-4927-4cf7-9564-74091c7cb126"
      },
      "source": [
        "sns.catplot(y = \"Price\", x = \"Destination\", data = train_data, kind=\"boxen\", height = 6, aspect = 3)\n",
        "plt.show()"
      ],
      "execution_count": 156,
      "outputs": [
        {
          "output_type": "display_data",
          "data": {
            "image/png": "[encoded data removed]",
            "text/plain": [
              "<Figure size 1296x432 with 1 Axes>"
            ]
          },
          "metadata": {
            "needs_background": "light"
          }
        }
      ]
    },
    {
      "cell_type": "code",
      "metadata": {
        "colab": {
          "base_uri": "https://localhost:8080/",
          "height": 206
        },
        "id": "-WZKRWp9cnkf",
        "outputId": "54460f35-316a-4092-b25f-44b4c414aa3d"
      },
      "source": [
        "#function used for onehotencoding.\n",
        "destination=train_data[['Destination']]\n",
        "destination= pd.get_dummies(destination, drop_first=True)   \n",
        "#drop_first : drop the airline column from train data set\n",
        "destination.head()"
      ],
      "execution_count": 157,
      "outputs": [
        {
          "output_type": "execute_result",
          "data": {
            "text/html": [
              "<div>\n",
              "<style scoped>\n",
              "    .dataframe tbody tr th:only-of-type {\n",
              "        vertical-align: middle;\n",
              "    }\n",
              "\n",
              "    .dataframe tbody tr th {\n",
              "        vertical-align: top;\n",
              "    }\n",
              "\n",
              "    .dataframe thead th {\n",
              "        text-align: right;\n",
              "    }\n",
              "</style>\n",
              "<table border=\"1\" class=\"dataframe\">\n",
              "  <thead>\n",
              "    <tr style=\"text-align: right;\">\n",
              "      <th></th>\n",
              "      <th>Destination_Cochin</th>\n",
              "      <th>Destination_Delhi</th>\n",
              "      <th>Destination_Hyderabad</th>\n",
              "      <th>Destination_Kolkata</th>\n",
              "      <th>Destination_New Delhi</th>\n",
              "    </tr>\n",
              "  </thead>\n",
              "  <tbody>\n",
              "    <tr>\n",
              "      <th>0</th>\n",
              "      <td>0</td>\n",
              "      <td>0</td>\n",
              "      <td>0</td>\n",
              "      <td>0</td>\n",
              "      <td>1</td>\n",
              "    </tr>\n",
              "    <tr>\n",
              "      <th>1</th>\n",
              "      <td>0</td>\n",
              "      <td>0</td>\n",
              "      <td>0</td>\n",
              "      <td>0</td>\n",
              "      <td>0</td>\n",
              "    </tr>\n",
              "    <tr>\n",
              "      <th>2</th>\n",
              "      <td>1</td>\n",
              "      <td>0</td>\n",
              "      <td>0</td>\n",
              "      <td>0</td>\n",
              "      <td>0</td>\n",
              "    </tr>\n",
              "    <tr>\n",
              "      <th>3</th>\n",
              "      <td>0</td>\n",
              "      <td>0</td>\n",
              "      <td>0</td>\n",
              "      <td>0</td>\n",
              "      <td>0</td>\n",
              "    </tr>\n",
              "    <tr>\n",
              "      <th>4</th>\n",
              "      <td>0</td>\n",
              "      <td>0</td>\n",
              "      <td>0</td>\n",
              "      <td>0</td>\n",
              "      <td>1</td>\n",
              "    </tr>\n",
              "  </tbody>\n",
              "</table>\n",
              "</div>"
            ],
            "text/plain": [
              "   Destination_Cochin  Destination_Delhi  Destination_Hyderabad  \\\n",
              "0                   0                  0                      0   \n",
              "1                   0                  0                      0   \n",
              "2                   1                  0                      0   \n",
              "3                   0                  0                      0   \n",
              "4                   0                  0                      0   \n",
              "\n",
              "   Destination_Kolkata  Destination_New Delhi  \n",
              "0                    0                      1  \n",
              "1                    0                      0  \n",
              "2                    0                      0  \n",
              "3                    0                      0  \n",
              "4                    0                      1  "
            ]
          },
          "metadata": {},
          "execution_count": 157
        }
      ]
    },
    {
      "cell_type": "code",
      "metadata": {
        "colab": {
          "base_uri": "https://localhost:8080/"
        },
        "id": "iGuODe4Lcneq",
        "outputId": "6fa789ed-a8a0-4132-ac00-06198c41b9f6"
      },
      "source": [
        "#From Route and Total_stops providing same insight. Both are related to each other. So we can drop the Route\n",
        "train_data['Route']"
      ],
      "execution_count": 158,
      "outputs": [
        {
          "output_type": "execute_result",
          "data": {
            "text/plain": [
              "0                    BLR → DEL\n",
              "1        CCU → IXR → BBI → BLR\n",
              "2        DEL → LKO → BOM → COK\n",
              "3              CCU → NAG → BLR\n",
              "4              BLR → NAG → DEL\n",
              "                 ...          \n",
              "10678                CCU → BLR\n",
              "10679                CCU → BLR\n",
              "10680                BLR → DEL\n",
              "10681                BLR → DEL\n",
              "10682    DEL → GOI → BOM → COK\n",
              "Name: Route, Length: 10682, dtype: object"
            ]
          },
          "metadata": {},
          "execution_count": 158
        }
      ]
    },
    {
      "cell_type": "code",
      "metadata": {
        "id": "5EONmCmOcnRT"
      },
      "source": [
        "#drop col Route\n",
        "train_data.drop(['Route'],axis=1, inplace=True)"
      ],
      "execution_count": 159,
      "outputs": []
    },
    {
      "cell_type": "code",
      "metadata": {
        "colab": {
          "base_uri": "https://localhost:8080/",
          "height": 243
        },
        "id": "Rs8uPaF5kCR1",
        "outputId": "f264ec86-6cbd-4b04-a7b1-ac9a0824a6ac"
      },
      "source": [
        "train_data.head()"
      ],
      "execution_count": 160,
      "outputs": [
        {
          "output_type": "execute_result",
          "data": {
            "text/html": [
              "<div>\n",
              "<style scoped>\n",
              "    .dataframe tbody tr th:only-of-type {\n",
              "        vertical-align: middle;\n",
              "    }\n",
              "\n",
              "    .dataframe tbody tr th {\n",
              "        vertical-align: top;\n",
              "    }\n",
              "\n",
              "    .dataframe thead th {\n",
              "        text-align: right;\n",
              "    }\n",
              "</style>\n",
              "<table border=\"1\" class=\"dataframe\">\n",
              "  <thead>\n",
              "    <tr style=\"text-align: right;\">\n",
              "      <th></th>\n",
              "      <th>Airline</th>\n",
              "      <th>Source</th>\n",
              "      <th>Destination</th>\n",
              "      <th>Total_Stops</th>\n",
              "      <th>Additional_Info</th>\n",
              "      <th>Price</th>\n",
              "      <th>day_of_Journey</th>\n",
              "      <th>month_of_Journey</th>\n",
              "      <th>hour_of_Dep</th>\n",
              "      <th>min_of_Dep</th>\n",
              "      <th>hour_of_arrival</th>\n",
              "      <th>min_of_arrival</th>\n",
              "      <th>Duration_hours</th>\n",
              "      <th>Duration_mins</th>\n",
              "    </tr>\n",
              "  </thead>\n",
              "  <tbody>\n",
              "    <tr>\n",
              "      <th>0</th>\n",
              "      <td>IndiGo</td>\n",
              "      <td>Banglore</td>\n",
              "      <td>New Delhi</td>\n",
              "      <td>non-stop</td>\n",
              "      <td>No info</td>\n",
              "      <td>3897</td>\n",
              "      <td>24</td>\n",
              "      <td>3</td>\n",
              "      <td>22</td>\n",
              "      <td>20</td>\n",
              "      <td>1</td>\n",
              "      <td>10</td>\n",
              "      <td>2</td>\n",
              "      <td>50</td>\n",
              "    </tr>\n",
              "    <tr>\n",
              "      <th>1</th>\n",
              "      <td>Air India</td>\n",
              "      <td>Kolkata</td>\n",
              "      <td>Banglore</td>\n",
              "      <td>2 stops</td>\n",
              "      <td>No info</td>\n",
              "      <td>7662</td>\n",
              "      <td>5</td>\n",
              "      <td>1</td>\n",
              "      <td>5</td>\n",
              "      <td>50</td>\n",
              "      <td>13</td>\n",
              "      <td>15</td>\n",
              "      <td>7</td>\n",
              "      <td>25</td>\n",
              "    </tr>\n",
              "    <tr>\n",
              "      <th>2</th>\n",
              "      <td>Jet Airways</td>\n",
              "      <td>Delhi</td>\n",
              "      <td>Cochin</td>\n",
              "      <td>2 stops</td>\n",
              "      <td>No info</td>\n",
              "      <td>13882</td>\n",
              "      <td>6</td>\n",
              "      <td>9</td>\n",
              "      <td>9</td>\n",
              "      <td>25</td>\n",
              "      <td>4</td>\n",
              "      <td>25</td>\n",
              "      <td>19</td>\n",
              "      <td>0</td>\n",
              "    </tr>\n",
              "    <tr>\n",
              "      <th>3</th>\n",
              "      <td>IndiGo</td>\n",
              "      <td>Kolkata</td>\n",
              "      <td>Banglore</td>\n",
              "      <td>1 stop</td>\n",
              "      <td>No info</td>\n",
              "      <td>6218</td>\n",
              "      <td>5</td>\n",
              "      <td>12</td>\n",
              "      <td>18</td>\n",
              "      <td>5</td>\n",
              "      <td>23</td>\n",
              "      <td>30</td>\n",
              "      <td>5</td>\n",
              "      <td>25</td>\n",
              "    </tr>\n",
              "    <tr>\n",
              "      <th>4</th>\n",
              "      <td>IndiGo</td>\n",
              "      <td>Banglore</td>\n",
              "      <td>New Delhi</td>\n",
              "      <td>1 stop</td>\n",
              "      <td>No info</td>\n",
              "      <td>13302</td>\n",
              "      <td>3</td>\n",
              "      <td>1</td>\n",
              "      <td>16</td>\n",
              "      <td>50</td>\n",
              "      <td>21</td>\n",
              "      <td>35</td>\n",
              "      <td>4</td>\n",
              "      <td>45</td>\n",
              "    </tr>\n",
              "  </tbody>\n",
              "</table>\n",
              "</div>"
            ],
            "text/plain": [
              "       Airline    Source Destination Total_Stops Additional_Info  Price  \\\n",
              "0       IndiGo  Banglore   New Delhi    non-stop         No info   3897   \n",
              "1    Air India   Kolkata    Banglore     2 stops         No info   7662   \n",
              "2  Jet Airways     Delhi      Cochin     2 stops         No info  13882   \n",
              "3       IndiGo   Kolkata    Banglore      1 stop         No info   6218   \n",
              "4       IndiGo  Banglore   New Delhi      1 stop         No info  13302   \n",
              "\n",
              "   day_of_Journey  month_of_Journey  hour_of_Dep  min_of_Dep  hour_of_arrival  \\\n",
              "0              24                 3           22          20                1   \n",
              "1               5                 1            5          50               13   \n",
              "2               6                 9            9          25                4   \n",
              "3               5                12           18           5               23   \n",
              "4               3                 1           16          50               21   \n",
              "\n",
              "   min_of_arrival  Duration_hours  Duration_mins  \n",
              "0              10               2             50  \n",
              "1              15               7             25  \n",
              "2              25              19              0  \n",
              "3              30               5             25  \n",
              "4              35               4             45  "
            ]
          },
          "metadata": {},
          "execution_count": 160
        }
      ]
    },
    {
      "cell_type": "code",
      "metadata": {
        "colab": {
          "base_uri": "https://localhost:8080/"
        },
        "id": "CNmUpjKfkIVX",
        "outputId": "327b1eb0-0639-439f-cc71-32b1cca29691"
      },
      "source": [
        "train_data['Additional_Info'].value_counts()"
      ],
      "execution_count": 161,
      "outputs": [
        {
          "output_type": "execute_result",
          "data": {
            "text/plain": [
              "No info                         8344\n",
              "In-flight meal not included     1982\n",
              "No check-in baggage included     320\n",
              "1 Long layover                    19\n",
              "Change airports                    7\n",
              "Business class                     4\n",
              "No Info                            3\n",
              "1 Short layover                    1\n",
              "Red-eye flight                     1\n",
              "2 Long layover                     1\n",
              "Name: Additional_Info, dtype: int64"
            ]
          },
          "metadata": {},
          "execution_count": 161
        }
      ]
    },
    {
      "cell_type": "code",
      "metadata": {
        "id": "tjIl6T-UkISH"
      },
      "source": [
        "#Drop Add Info col as well since it doesnt have much information (number of 'No info' : 8344)\n",
        "train_data.drop(['Additional_Info'],axis=1, inplace=True)"
      ],
      "execution_count": 162,
      "outputs": []
    },
    {
      "cell_type": "code",
      "metadata": {
        "colab": {
          "base_uri": "https://localhost:8080/",
          "height": 243
        },
        "id": "gzKfvgtYkIPi",
        "outputId": "6b45bed3-5d0a-424d-980f-4f06d3f0a3c6"
      },
      "source": [
        "train_data.head()"
      ],
      "execution_count": 163,
      "outputs": [
        {
          "output_type": "execute_result",
          "data": {
            "text/html": [
              "<div>\n",
              "<style scoped>\n",
              "    .dataframe tbody tr th:only-of-type {\n",
              "        vertical-align: middle;\n",
              "    }\n",
              "\n",
              "    .dataframe tbody tr th {\n",
              "        vertical-align: top;\n",
              "    }\n",
              "\n",
              "    .dataframe thead th {\n",
              "        text-align: right;\n",
              "    }\n",
              "</style>\n",
              "<table border=\"1\" class=\"dataframe\">\n",
              "  <thead>\n",
              "    <tr style=\"text-align: right;\">\n",
              "      <th></th>\n",
              "      <th>Airline</th>\n",
              "      <th>Source</th>\n",
              "      <th>Destination</th>\n",
              "      <th>Total_Stops</th>\n",
              "      <th>Price</th>\n",
              "      <th>day_of_Journey</th>\n",
              "      <th>month_of_Journey</th>\n",
              "      <th>hour_of_Dep</th>\n",
              "      <th>min_of_Dep</th>\n",
              "      <th>hour_of_arrival</th>\n",
              "      <th>min_of_arrival</th>\n",
              "      <th>Duration_hours</th>\n",
              "      <th>Duration_mins</th>\n",
              "    </tr>\n",
              "  </thead>\n",
              "  <tbody>\n",
              "    <tr>\n",
              "      <th>0</th>\n",
              "      <td>IndiGo</td>\n",
              "      <td>Banglore</td>\n",
              "      <td>New Delhi</td>\n",
              "      <td>non-stop</td>\n",
              "      <td>3897</td>\n",
              "      <td>24</td>\n",
              "      <td>3</td>\n",
              "      <td>22</td>\n",
              "      <td>20</td>\n",
              "      <td>1</td>\n",
              "      <td>10</td>\n",
              "      <td>2</td>\n",
              "      <td>50</td>\n",
              "    </tr>\n",
              "    <tr>\n",
              "      <th>1</th>\n",
              "      <td>Air India</td>\n",
              "      <td>Kolkata</td>\n",
              "      <td>Banglore</td>\n",
              "      <td>2 stops</td>\n",
              "      <td>7662</td>\n",
              "      <td>5</td>\n",
              "      <td>1</td>\n",
              "      <td>5</td>\n",
              "      <td>50</td>\n",
              "      <td>13</td>\n",
              "      <td>15</td>\n",
              "      <td>7</td>\n",
              "      <td>25</td>\n",
              "    </tr>\n",
              "    <tr>\n",
              "      <th>2</th>\n",
              "      <td>Jet Airways</td>\n",
              "      <td>Delhi</td>\n",
              "      <td>Cochin</td>\n",
              "      <td>2 stops</td>\n",
              "      <td>13882</td>\n",
              "      <td>6</td>\n",
              "      <td>9</td>\n",
              "      <td>9</td>\n",
              "      <td>25</td>\n",
              "      <td>4</td>\n",
              "      <td>25</td>\n",
              "      <td>19</td>\n",
              "      <td>0</td>\n",
              "    </tr>\n",
              "    <tr>\n",
              "      <th>3</th>\n",
              "      <td>IndiGo</td>\n",
              "      <td>Kolkata</td>\n",
              "      <td>Banglore</td>\n",
              "      <td>1 stop</td>\n",
              "      <td>6218</td>\n",
              "      <td>5</td>\n",
              "      <td>12</td>\n",
              "      <td>18</td>\n",
              "      <td>5</td>\n",
              "      <td>23</td>\n",
              "      <td>30</td>\n",
              "      <td>5</td>\n",
              "      <td>25</td>\n",
              "    </tr>\n",
              "    <tr>\n",
              "      <th>4</th>\n",
              "      <td>IndiGo</td>\n",
              "      <td>Banglore</td>\n",
              "      <td>New Delhi</td>\n",
              "      <td>1 stop</td>\n",
              "      <td>13302</td>\n",
              "      <td>3</td>\n",
              "      <td>1</td>\n",
              "      <td>16</td>\n",
              "      <td>50</td>\n",
              "      <td>21</td>\n",
              "      <td>35</td>\n",
              "      <td>4</td>\n",
              "      <td>45</td>\n",
              "    </tr>\n",
              "  </tbody>\n",
              "</table>\n",
              "</div>"
            ],
            "text/plain": [
              "       Airline    Source Destination Total_Stops  Price  day_of_Journey  \\\n",
              "0       IndiGo  Banglore   New Delhi    non-stop   3897              24   \n",
              "1    Air India   Kolkata    Banglore     2 stops   7662               5   \n",
              "2  Jet Airways     Delhi      Cochin     2 stops  13882               6   \n",
              "3       IndiGo   Kolkata    Banglore      1 stop   6218               5   \n",
              "4       IndiGo  Banglore   New Delhi      1 stop  13302               3   \n",
              "\n",
              "   month_of_Journey  hour_of_Dep  min_of_Dep  hour_of_arrival  min_of_arrival  \\\n",
              "0                 3           22          20                1              10   \n",
              "1                 1            5          50               13              15   \n",
              "2                 9            9          25                4              25   \n",
              "3                12           18           5               23              30   \n",
              "4                 1           16          50               21              35   \n",
              "\n",
              "   Duration_hours  Duration_mins  \n",
              "0               2             50  \n",
              "1               7             25  \n",
              "2              19              0  \n",
              "3               5             25  \n",
              "4               4             45  "
            ]
          },
          "metadata": {},
          "execution_count": 163
        }
      ]
    },
    {
      "cell_type": "code",
      "metadata": {
        "colab": {
          "base_uri": "https://localhost:8080/"
        },
        "id": "lMgS4y8MmxPq",
        "outputId": "b9c576bf-a07c-4dac-b02b-0c954ce83c50"
      },
      "source": [
        "train_data[\"Total_Stops\"].value_counts()"
      ],
      "execution_count": null,
      "outputs": [
        {
          "output_type": "execute_result",
          "data": {
            "text/plain": [
              "1 stop      5625\n",
              "non-stop    3491\n",
              "2 stops     1520\n",
              "3 stops       45\n",
              "4 stops        1\n",
              "Name: Total_Stops, dtype: int64"
            ]
          },
          "metadata": {},
          "execution_count": 54
        }
      ]
    },
    {
      "cell_type": "code",
      "metadata": {
        "colab": {
          "base_uri": "https://localhost:8080/",
          "height": 655
        },
        "id": "9tO861MewQyO",
        "outputId": "54663f8e-60a8-44ac-bf85-523c24a2119d"
      },
      "source": [
        "plt.figure(figsize = (15, 10))\n",
        "plt.title('Count of Total Stops')\n",
        "ax=sns.countplot(x = 'Total_Stops', data =train_data)\n",
        "plt.xlabel('stops')\n",
        "plt.ylabel('Count of Total_Stops')\n",
        "plt.xticks(rotation = 90)\n",
        "for p in ax.patches:\n",
        "    ax.annotate(int(p.get_height()), (p.get_x()+0.25, p.get_height()+1), va='bottom',\n",
        "                    color= 'black')"
      ],
      "execution_count": 165,
      "outputs": [
        {
          "output_type": "display_data",
          "data": {
            "image/png": "[encoded data removed]",
            "text/plain": [
              "<Figure size 1080x720 with 1 Axes>"
            ]
          },
          "metadata": {
            "needs_background": "light"
          }
        }
      ]
    },
    {
      "cell_type": "markdown",
      "metadata": {
        "id": "3TFhxya3xL_M"
      },
      "source": [
        "In the case of 'Total_Stops'\n",
        "\n",
        "As this is case of Ordinal Categorical type we perform LabelEncoder.\n",
        "\n",
        "Here Values are assigned with corresponding keys"
      ]
    },
    {
      "cell_type": "code",
      "metadata": {
        "id": "xG8Aeg3_mxMy"
      },
      "source": [
        "train_data.replace({\"non-stop\": 0, \"1 stop\": 1, \"2 stops\": 2, \"3 stops\": 3, \"4 stops\": 4}, inplace = True)"
      ],
      "execution_count": 166,
      "outputs": []
    },
    {
      "cell_type": "code",
      "metadata": {
        "colab": {
          "base_uri": "https://localhost:8080/",
          "height": 243
        },
        "id": "bnhKsxkumxKh",
        "outputId": "c06056f8-d6ce-459f-f4bd-8896f4a20c7c"
      },
      "source": [
        "train_data.head()"
      ],
      "execution_count": 167,
      "outputs": [
        {
          "output_type": "execute_result",
          "data": {
            "text/html": [
              "<div>\n",
              "<style scoped>\n",
              "    .dataframe tbody tr th:only-of-type {\n",
              "        vertical-align: middle;\n",
              "    }\n",
              "\n",
              "    .dataframe tbody tr th {\n",
              "        vertical-align: top;\n",
              "    }\n",
              "\n",
              "    .dataframe thead th {\n",
              "        text-align: right;\n",
              "    }\n",
              "</style>\n",
              "<table border=\"1\" class=\"dataframe\">\n",
              "  <thead>\n",
              "    <tr style=\"text-align: right;\">\n",
              "      <th></th>\n",
              "      <th>Airline</th>\n",
              "      <th>Source</th>\n",
              "      <th>Destination</th>\n",
              "      <th>Total_Stops</th>\n",
              "      <th>Price</th>\n",
              "      <th>day_of_Journey</th>\n",
              "      <th>month_of_Journey</th>\n",
              "      <th>hour_of_Dep</th>\n",
              "      <th>min_of_Dep</th>\n",
              "      <th>hour_of_arrival</th>\n",
              "      <th>min_of_arrival</th>\n",
              "      <th>Duration_hours</th>\n",
              "      <th>Duration_mins</th>\n",
              "    </tr>\n",
              "  </thead>\n",
              "  <tbody>\n",
              "    <tr>\n",
              "      <th>0</th>\n",
              "      <td>IndiGo</td>\n",
              "      <td>Banglore</td>\n",
              "      <td>New Delhi</td>\n",
              "      <td>0</td>\n",
              "      <td>3897</td>\n",
              "      <td>24</td>\n",
              "      <td>3</td>\n",
              "      <td>22</td>\n",
              "      <td>20</td>\n",
              "      <td>1</td>\n",
              "      <td>10</td>\n",
              "      <td>2</td>\n",
              "      <td>50</td>\n",
              "    </tr>\n",
              "    <tr>\n",
              "      <th>1</th>\n",
              "      <td>Air India</td>\n",
              "      <td>Kolkata</td>\n",
              "      <td>Banglore</td>\n",
              "      <td>2</td>\n",
              "      <td>7662</td>\n",
              "      <td>5</td>\n",
              "      <td>1</td>\n",
              "      <td>5</td>\n",
              "      <td>50</td>\n",
              "      <td>13</td>\n",
              "      <td>15</td>\n",
              "      <td>7</td>\n",
              "      <td>25</td>\n",
              "    </tr>\n",
              "    <tr>\n",
              "      <th>2</th>\n",
              "      <td>Jet Airways</td>\n",
              "      <td>Delhi</td>\n",
              "      <td>Cochin</td>\n",
              "      <td>2</td>\n",
              "      <td>13882</td>\n",
              "      <td>6</td>\n",
              "      <td>9</td>\n",
              "      <td>9</td>\n",
              "      <td>25</td>\n",
              "      <td>4</td>\n",
              "      <td>25</td>\n",
              "      <td>19</td>\n",
              "      <td>0</td>\n",
              "    </tr>\n",
              "    <tr>\n",
              "      <th>3</th>\n",
              "      <td>IndiGo</td>\n",
              "      <td>Kolkata</td>\n",
              "      <td>Banglore</td>\n",
              "      <td>1</td>\n",
              "      <td>6218</td>\n",
              "      <td>5</td>\n",
              "      <td>12</td>\n",
              "      <td>18</td>\n",
              "      <td>5</td>\n",
              "      <td>23</td>\n",
              "      <td>30</td>\n",
              "      <td>5</td>\n",
              "      <td>25</td>\n",
              "    </tr>\n",
              "    <tr>\n",
              "      <th>4</th>\n",
              "      <td>IndiGo</td>\n",
              "      <td>Banglore</td>\n",
              "      <td>New Delhi</td>\n",
              "      <td>1</td>\n",
              "      <td>13302</td>\n",
              "      <td>3</td>\n",
              "      <td>1</td>\n",
              "      <td>16</td>\n",
              "      <td>50</td>\n",
              "      <td>21</td>\n",
              "      <td>35</td>\n",
              "      <td>4</td>\n",
              "      <td>45</td>\n",
              "    </tr>\n",
              "  </tbody>\n",
              "</table>\n",
              "</div>"
            ],
            "text/plain": [
              "       Airline    Source Destination  Total_Stops  Price  day_of_Journey  \\\n",
              "0       IndiGo  Banglore   New Delhi            0   3897              24   \n",
              "1    Air India   Kolkata    Banglore            2   7662               5   \n",
              "2  Jet Airways     Delhi      Cochin            2  13882               6   \n",
              "3       IndiGo   Kolkata    Banglore            1   6218               5   \n",
              "4       IndiGo  Banglore   New Delhi            1  13302               3   \n",
              "\n",
              "   month_of_Journey  hour_of_Dep  min_of_Dep  hour_of_arrival  min_of_arrival  \\\n",
              "0                 3           22          20                1              10   \n",
              "1                 1            5          50               13              15   \n",
              "2                 9            9          25                4              25   \n",
              "3                12           18           5               23              30   \n",
              "4                 1           16          50               21              35   \n",
              "\n",
              "   Duration_hours  Duration_mins  \n",
              "0               2             50  \n",
              "1               7             25  \n",
              "2              19              0  \n",
              "3               5             25  \n",
              "4               4             45  "
            ]
          },
          "metadata": {},
          "execution_count": 167
        }
      ]
    },
    {
      "cell_type": "markdown",
      "metadata": {
        "id": "TPaZgP-QxgaE"
      },
      "source": [
        "Concatenate both catagorical and numerical data"
      ]
    },
    {
      "cell_type": "code",
      "metadata": {
        "id": "a-jSgjNomxHv"
      },
      "source": [
        "# Concatenate dataframe --> train_data + Airline + Source + Destination\n",
        "final_Train_data = pd.concat([train_data, airline, source, destination], axis = 1)"
      ],
      "execution_count": 170,
      "outputs": []
    },
    {
      "cell_type": "code",
      "metadata": {
        "colab": {
          "base_uri": "https://localhost:8080/",
          "height": 278
        },
        "id": "8Nr93OL7U_uM",
        "outputId": "76d2d642-3d01-403e-a2d9-410ab2a780c0"
      },
      "source": [
        "final_Train_data.head()"
      ],
      "execution_count": 171,
      "outputs": [
        {
          "output_type": "execute_result",
          "data": {
            "text/html": [
              "<div>\n",
              "<style scoped>\n",
              "    .dataframe tbody tr th:only-of-type {\n",
              "        vertical-align: middle;\n",
              "    }\n",
              "\n",
              "    .dataframe tbody tr th {\n",
              "        vertical-align: top;\n",
              "    }\n",
              "\n",
              "    .dataframe thead th {\n",
              "        text-align: right;\n",
              "    }\n",
              "</style>\n",
              "<table border=\"1\" class=\"dataframe\">\n",
              "  <thead>\n",
              "    <tr style=\"text-align: right;\">\n",
              "      <th></th>\n",
              "      <th>Airline</th>\n",
              "      <th>Source</th>\n",
              "      <th>Destination</th>\n",
              "      <th>Total_Stops</th>\n",
              "      <th>Price</th>\n",
              "      <th>day_of_Journey</th>\n",
              "      <th>month_of_Journey</th>\n",
              "      <th>hour_of_Dep</th>\n",
              "      <th>min_of_Dep</th>\n",
              "      <th>hour_of_arrival</th>\n",
              "      <th>min_of_arrival</th>\n",
              "      <th>Duration_hours</th>\n",
              "      <th>Duration_mins</th>\n",
              "      <th>Airline_Air India</th>\n",
              "      <th>Airline_GoAir</th>\n",
              "      <th>Airline_IndiGo</th>\n",
              "      <th>Airline_Jet Airways</th>\n",
              "      <th>Airline_Jet Airways Business</th>\n",
              "      <th>Airline_Multiple carriers</th>\n",
              "      <th>Airline_Multiple carriers Premium economy</th>\n",
              "      <th>Airline_SpiceJet</th>\n",
              "      <th>Airline_Trujet</th>\n",
              "      <th>Airline_Vistara</th>\n",
              "      <th>Airline_Vistara Premium economy</th>\n",
              "      <th>Source_Chennai</th>\n",
              "      <th>Source_Delhi</th>\n",
              "      <th>Source_Kolkata</th>\n",
              "      <th>Source_Mumbai</th>\n",
              "      <th>Destination_Cochin</th>\n",
              "      <th>Destination_Delhi</th>\n",
              "      <th>Destination_Hyderabad</th>\n",
              "      <th>Destination_Kolkata</th>\n",
              "      <th>Destination_New Delhi</th>\n",
              "    </tr>\n",
              "  </thead>\n",
              "  <tbody>\n",
              "    <tr>\n",
              "      <th>0</th>\n",
              "      <td>IndiGo</td>\n",
              "      <td>Banglore</td>\n",
              "      <td>New Delhi</td>\n",
              "      <td>0</td>\n",
              "      <td>3897</td>\n",
              "      <td>24</td>\n",
              "      <td>3</td>\n",
              "      <td>22</td>\n",
              "      <td>20</td>\n",
              "      <td>1</td>\n",
              "      <td>10</td>\n",
              "      <td>2</td>\n",
              "      <td>50</td>\n",
              "      <td>0</td>\n",
              "      <td>0</td>\n",
              "      <td>1</td>\n",
              "      <td>0</td>\n",
              "      <td>0</td>\n",
              "      <td>0</td>\n",
              "      <td>0</td>\n",
              "      <td>0</td>\n",
              "      <td>0</td>\n",
              "      <td>0</td>\n",
              "      <td>0</td>\n",
              "      <td>0</td>\n",
              "      <td>0</td>\n",
              "      <td>0</td>\n",
              "      <td>0</td>\n",
              "      <td>0</td>\n",
              "      <td>0</td>\n",
              "      <td>0</td>\n",
              "      <td>0</td>\n",
              "      <td>1</td>\n",
              "    </tr>\n",
              "    <tr>\n",
              "      <th>1</th>\n",
              "      <td>Air India</td>\n",
              "      <td>Kolkata</td>\n",
              "      <td>Banglore</td>\n",
              "      <td>2</td>\n",
              "      <td>7662</td>\n",
              "      <td>5</td>\n",
              "      <td>1</td>\n",
              "      <td>5</td>\n",
              "      <td>50</td>\n",
              "      <td>13</td>\n",
              "      <td>15</td>\n",
              "      <td>7</td>\n",
              "      <td>25</td>\n",
              "      <td>1</td>\n",
              "      <td>0</td>\n",
              "      <td>0</td>\n",
              "      <td>0</td>\n",
              "      <td>0</td>\n",
              "      <td>0</td>\n",
              "      <td>0</td>\n",
              "      <td>0</td>\n",
              "      <td>0</td>\n",
              "      <td>0</td>\n",
              "      <td>0</td>\n",
              "      <td>0</td>\n",
              "      <td>0</td>\n",
              "      <td>1</td>\n",
              "      <td>0</td>\n",
              "      <td>0</td>\n",
              "      <td>0</td>\n",
              "      <td>0</td>\n",
              "      <td>0</td>\n",
              "      <td>0</td>\n",
              "    </tr>\n",
              "    <tr>\n",
              "      <th>2</th>\n",
              "      <td>Jet Airways</td>\n",
              "      <td>Delhi</td>\n",
              "      <td>Cochin</td>\n",
              "      <td>2</td>\n",
              "      <td>13882</td>\n",
              "      <td>6</td>\n",
              "      <td>9</td>\n",
              "      <td>9</td>\n",
              "      <td>25</td>\n",
              "      <td>4</td>\n",
              "      <td>25</td>\n",
              "      <td>19</td>\n",
              "      <td>0</td>\n",
              "      <td>0</td>\n",
              "      <td>0</td>\n",
              "      <td>0</td>\n",
              "      <td>1</td>\n",
              "      <td>0</td>\n",
              "      <td>0</td>\n",
              "      <td>0</td>\n",
              "      <td>0</td>\n",
              "      <td>0</td>\n",
              "      <td>0</td>\n",
              "      <td>0</td>\n",
              "      <td>0</td>\n",
              "      <td>1</td>\n",
              "      <td>0</td>\n",
              "      <td>0</td>\n",
              "      <td>1</td>\n",
              "      <td>0</td>\n",
              "      <td>0</td>\n",
              "      <td>0</td>\n",
              "      <td>0</td>\n",
              "    </tr>\n",
              "    <tr>\n",
              "      <th>3</th>\n",
              "      <td>IndiGo</td>\n",
              "      <td>Kolkata</td>\n",
              "      <td>Banglore</td>\n",
              "      <td>1</td>\n",
              "      <td>6218</td>\n",
              "      <td>5</td>\n",
              "      <td>12</td>\n",
              "      <td>18</td>\n",
              "      <td>5</td>\n",
              "      <td>23</td>\n",
              "      <td>30</td>\n",
              "      <td>5</td>\n",
              "      <td>25</td>\n",
              "      <td>0</td>\n",
              "      <td>0</td>\n",
              "      <td>1</td>\n",
              "      <td>0</td>\n",
              "      <td>0</td>\n",
              "      <td>0</td>\n",
              "      <td>0</td>\n",
              "      <td>0</td>\n",
              "      <td>0</td>\n",
              "      <td>0</td>\n",
              "      <td>0</td>\n",
              "      <td>0</td>\n",
              "      <td>0</td>\n",
              "      <td>1</td>\n",
              "      <td>0</td>\n",
              "      <td>0</td>\n",
              "      <td>0</td>\n",
              "      <td>0</td>\n",
              "      <td>0</td>\n",
              "      <td>0</td>\n",
              "    </tr>\n",
              "    <tr>\n",
              "      <th>4</th>\n",
              "      <td>IndiGo</td>\n",
              "      <td>Banglore</td>\n",
              "      <td>New Delhi</td>\n",
              "      <td>1</td>\n",
              "      <td>13302</td>\n",
              "      <td>3</td>\n",
              "      <td>1</td>\n",
              "      <td>16</td>\n",
              "      <td>50</td>\n",
              "      <td>21</td>\n",
              "      <td>35</td>\n",
              "      <td>4</td>\n",
              "      <td>45</td>\n",
              "      <td>0</td>\n",
              "      <td>0</td>\n",
              "      <td>1</td>\n",
              "      <td>0</td>\n",
              "      <td>0</td>\n",
              "      <td>0</td>\n",
              "      <td>0</td>\n",
              "      <td>0</td>\n",
              "      <td>0</td>\n",
              "      <td>0</td>\n",
              "      <td>0</td>\n",
              "      <td>0</td>\n",
              "      <td>0</td>\n",
              "      <td>0</td>\n",
              "      <td>0</td>\n",
              "      <td>0</td>\n",
              "      <td>0</td>\n",
              "      <td>0</td>\n",
              "      <td>0</td>\n",
              "      <td>1</td>\n",
              "    </tr>\n",
              "  </tbody>\n",
              "</table>\n",
              "</div>"
            ],
            "text/plain": [
              "       Airline    Source Destination  Total_Stops  Price  day_of_Journey  \\\n",
              "0       IndiGo  Banglore   New Delhi            0   3897              24   \n",
              "1    Air India   Kolkata    Banglore            2   7662               5   \n",
              "2  Jet Airways     Delhi      Cochin            2  13882               6   \n",
              "3       IndiGo   Kolkata    Banglore            1   6218               5   \n",
              "4       IndiGo  Banglore   New Delhi            1  13302               3   \n",
              "\n",
              "   month_of_Journey  hour_of_Dep  min_of_Dep  hour_of_arrival  min_of_arrival  \\\n",
              "0                 3           22          20                1              10   \n",
              "1                 1            5          50               13              15   \n",
              "2                 9            9          25                4              25   \n",
              "3                12           18           5               23              30   \n",
              "4                 1           16          50               21              35   \n",
              "\n",
              "   Duration_hours  Duration_mins  Airline_Air India  Airline_GoAir  \\\n",
              "0               2             50                  0              0   \n",
              "1               7             25                  1              0   \n",
              "2              19              0                  0              0   \n",
              "3               5             25                  0              0   \n",
              "4               4             45                  0              0   \n",
              "\n",
              "   Airline_IndiGo  Airline_Jet Airways  Airline_Jet Airways Business  \\\n",
              "0               1                    0                             0   \n",
              "1               0                    0                             0   \n",
              "2               0                    1                             0   \n",
              "3               1                    0                             0   \n",
              "4               1                    0                             0   \n",
              "\n",
              "   Airline_Multiple carriers  Airline_Multiple carriers Premium economy  \\\n",
              "0                          0                                          0   \n",
              "1                          0                                          0   \n",
              "2                          0                                          0   \n",
              "3                          0                                          0   \n",
              "4                          0                                          0   \n",
              "\n",
              "   Airline_SpiceJet  Airline_Trujet  Airline_Vistara  \\\n",
              "0                 0               0                0   \n",
              "1                 0               0                0   \n",
              "2                 0               0                0   \n",
              "3                 0               0                0   \n",
              "4                 0               0                0   \n",
              "\n",
              "   Airline_Vistara Premium economy  Source_Chennai  Source_Delhi  \\\n",
              "0                                0               0             0   \n",
              "1                                0               0             0   \n",
              "2                                0               0             1   \n",
              "3                                0               0             0   \n",
              "4                                0               0             0   \n",
              "\n",
              "   Source_Kolkata  Source_Mumbai  Destination_Cochin  Destination_Delhi  \\\n",
              "0               0              0                   0                  0   \n",
              "1               1              0                   0                  0   \n",
              "2               0              0                   1                  0   \n",
              "3               1              0                   0                  0   \n",
              "4               0              0                   0                  0   \n",
              "\n",
              "   Destination_Hyderabad  Destination_Kolkata  Destination_New Delhi  \n",
              "0                      0                    0                      1  \n",
              "1                      0                    0                      0  \n",
              "2                      0                    0                      0  \n",
              "3                      0                    0                      0  \n",
              "4                      0                    0                      1  "
            ]
          },
          "metadata": {},
          "execution_count": 171
        }
      ]
    },
    {
      "cell_type": "code",
      "metadata": {
        "id": "36EjXl70x2-P"
      },
      "source": [
        "#Drop \"Airline\", \"Source\", \"Destination\"\n",
        "final_Train_data.drop([\"Airline\", \"Source\", \"Destination\"], axis = 1, inplace = True)"
      ],
      "execution_count": 172,
      "outputs": []
    },
    {
      "cell_type": "code",
      "metadata": {
        "colab": {
          "base_uri": "https://localhost:8080/",
          "height": 261
        },
        "id": "F0pknIRxmxFC",
        "outputId": "4287de38-cfa9-43db-9c1c-6ecceb096d23"
      },
      "source": [
        "final_Train_data.head()"
      ],
      "execution_count": 173,
      "outputs": [
        {
          "output_type": "execute_result",
          "data": {
            "text/html": [
              "<div>\n",
              "<style scoped>\n",
              "    .dataframe tbody tr th:only-of-type {\n",
              "        vertical-align: middle;\n",
              "    }\n",
              "\n",
              "    .dataframe tbody tr th {\n",
              "        vertical-align: top;\n",
              "    }\n",
              "\n",
              "    .dataframe thead th {\n",
              "        text-align: right;\n",
              "    }\n",
              "</style>\n",
              "<table border=\"1\" class=\"dataframe\">\n",
              "  <thead>\n",
              "    <tr style=\"text-align: right;\">\n",
              "      <th></th>\n",
              "      <th>Total_Stops</th>\n",
              "      <th>Price</th>\n",
              "      <th>day_of_Journey</th>\n",
              "      <th>month_of_Journey</th>\n",
              "      <th>hour_of_Dep</th>\n",
              "      <th>min_of_Dep</th>\n",
              "      <th>hour_of_arrival</th>\n",
              "      <th>min_of_arrival</th>\n",
              "      <th>Duration_hours</th>\n",
              "      <th>Duration_mins</th>\n",
              "      <th>Airline_Air India</th>\n",
              "      <th>Airline_GoAir</th>\n",
              "      <th>Airline_IndiGo</th>\n",
              "      <th>Airline_Jet Airways</th>\n",
              "      <th>Airline_Jet Airways Business</th>\n",
              "      <th>Airline_Multiple carriers</th>\n",
              "      <th>Airline_Multiple carriers Premium economy</th>\n",
              "      <th>Airline_SpiceJet</th>\n",
              "      <th>Airline_Trujet</th>\n",
              "      <th>Airline_Vistara</th>\n",
              "      <th>Airline_Vistara Premium economy</th>\n",
              "      <th>Source_Chennai</th>\n",
              "      <th>Source_Delhi</th>\n",
              "      <th>Source_Kolkata</th>\n",
              "      <th>Source_Mumbai</th>\n",
              "      <th>Destination_Cochin</th>\n",
              "      <th>Destination_Delhi</th>\n",
              "      <th>Destination_Hyderabad</th>\n",
              "      <th>Destination_Kolkata</th>\n",
              "      <th>Destination_New Delhi</th>\n",
              "    </tr>\n",
              "  </thead>\n",
              "  <tbody>\n",
              "    <tr>\n",
              "      <th>0</th>\n",
              "      <td>0</td>\n",
              "      <td>3897</td>\n",
              "      <td>24</td>\n",
              "      <td>3</td>\n",
              "      <td>22</td>\n",
              "      <td>20</td>\n",
              "      <td>1</td>\n",
              "      <td>10</td>\n",
              "      <td>2</td>\n",
              "      <td>50</td>\n",
              "      <td>0</td>\n",
              "      <td>0</td>\n",
              "      <td>1</td>\n",
              "      <td>0</td>\n",
              "      <td>0</td>\n",
              "      <td>0</td>\n",
              "      <td>0</td>\n",
              "      <td>0</td>\n",
              "      <td>0</td>\n",
              "      <td>0</td>\n",
              "      <td>0</td>\n",
              "      <td>0</td>\n",
              "      <td>0</td>\n",
              "      <td>0</td>\n",
              "      <td>0</td>\n",
              "      <td>0</td>\n",
              "      <td>0</td>\n",
              "      <td>0</td>\n",
              "      <td>0</td>\n",
              "      <td>1</td>\n",
              "    </tr>\n",
              "    <tr>\n",
              "      <th>1</th>\n",
              "      <td>2</td>\n",
              "      <td>7662</td>\n",
              "      <td>5</td>\n",
              "      <td>1</td>\n",
              "      <td>5</td>\n",
              "      <td>50</td>\n",
              "      <td>13</td>\n",
              "      <td>15</td>\n",
              "      <td>7</td>\n",
              "      <td>25</td>\n",
              "      <td>1</td>\n",
              "      <td>0</td>\n",
              "      <td>0</td>\n",
              "      <td>0</td>\n",
              "      <td>0</td>\n",
              "      <td>0</td>\n",
              "      <td>0</td>\n",
              "      <td>0</td>\n",
              "      <td>0</td>\n",
              "      <td>0</td>\n",
              "      <td>0</td>\n",
              "      <td>0</td>\n",
              "      <td>0</td>\n",
              "      <td>1</td>\n",
              "      <td>0</td>\n",
              "      <td>0</td>\n",
              "      <td>0</td>\n",
              "      <td>0</td>\n",
              "      <td>0</td>\n",
              "      <td>0</td>\n",
              "    </tr>\n",
              "    <tr>\n",
              "      <th>2</th>\n",
              "      <td>2</td>\n",
              "      <td>13882</td>\n",
              "      <td>6</td>\n",
              "      <td>9</td>\n",
              "      <td>9</td>\n",
              "      <td>25</td>\n",
              "      <td>4</td>\n",
              "      <td>25</td>\n",
              "      <td>19</td>\n",
              "      <td>0</td>\n",
              "      <td>0</td>\n",
              "      <td>0</td>\n",
              "      <td>0</td>\n",
              "      <td>1</td>\n",
              "      <td>0</td>\n",
              "      <td>0</td>\n",
              "      <td>0</td>\n",
              "      <td>0</td>\n",
              "      <td>0</td>\n",
              "      <td>0</td>\n",
              "      <td>0</td>\n",
              "      <td>0</td>\n",
              "      <td>1</td>\n",
              "      <td>0</td>\n",
              "      <td>0</td>\n",
              "      <td>1</td>\n",
              "      <td>0</td>\n",
              "      <td>0</td>\n",
              "      <td>0</td>\n",
              "      <td>0</td>\n",
              "    </tr>\n",
              "    <tr>\n",
              "      <th>3</th>\n",
              "      <td>1</td>\n",
              "      <td>6218</td>\n",
              "      <td>5</td>\n",
              "      <td>12</td>\n",
              "      <td>18</td>\n",
              "      <td>5</td>\n",
              "      <td>23</td>\n",
              "      <td>30</td>\n",
              "      <td>5</td>\n",
              "      <td>25</td>\n",
              "      <td>0</td>\n",
              "      <td>0</td>\n",
              "      <td>1</td>\n",
              "      <td>0</td>\n",
              "      <td>0</td>\n",
              "      <td>0</td>\n",
              "      <td>0</td>\n",
              "      <td>0</td>\n",
              "      <td>0</td>\n",
              "      <td>0</td>\n",
              "      <td>0</td>\n",
              "      <td>0</td>\n",
              "      <td>0</td>\n",
              "      <td>1</td>\n",
              "      <td>0</td>\n",
              "      <td>0</td>\n",
              "      <td>0</td>\n",
              "      <td>0</td>\n",
              "      <td>0</td>\n",
              "      <td>0</td>\n",
              "    </tr>\n",
              "    <tr>\n",
              "      <th>4</th>\n",
              "      <td>1</td>\n",
              "      <td>13302</td>\n",
              "      <td>3</td>\n",
              "      <td>1</td>\n",
              "      <td>16</td>\n",
              "      <td>50</td>\n",
              "      <td>21</td>\n",
              "      <td>35</td>\n",
              "      <td>4</td>\n",
              "      <td>45</td>\n",
              "      <td>0</td>\n",
              "      <td>0</td>\n",
              "      <td>1</td>\n",
              "      <td>0</td>\n",
              "      <td>0</td>\n",
              "      <td>0</td>\n",
              "      <td>0</td>\n",
              "      <td>0</td>\n",
              "      <td>0</td>\n",
              "      <td>0</td>\n",
              "      <td>0</td>\n",
              "      <td>0</td>\n",
              "      <td>0</td>\n",
              "      <td>0</td>\n",
              "      <td>0</td>\n",
              "      <td>0</td>\n",
              "      <td>0</td>\n",
              "      <td>0</td>\n",
              "      <td>0</td>\n",
              "      <td>1</td>\n",
              "    </tr>\n",
              "  </tbody>\n",
              "</table>\n",
              "</div>"
            ],
            "text/plain": [
              "   Total_Stops  Price  day_of_Journey  month_of_Journey  hour_of_Dep  \\\n",
              "0            0   3897              24                 3           22   \n",
              "1            2   7662               5                 1            5   \n",
              "2            2  13882               6                 9            9   \n",
              "3            1   6218               5                12           18   \n",
              "4            1  13302               3                 1           16   \n",
              "\n",
              "   min_of_Dep  hour_of_arrival  min_of_arrival  Duration_hours  Duration_mins  \\\n",
              "0          20                1              10               2             50   \n",
              "1          50               13              15               7             25   \n",
              "2          25                4              25              19              0   \n",
              "3           5               23              30               5             25   \n",
              "4          50               21              35               4             45   \n",
              "\n",
              "   Airline_Air India  Airline_GoAir  Airline_IndiGo  Airline_Jet Airways  \\\n",
              "0                  0              0               1                    0   \n",
              "1                  1              0               0                    0   \n",
              "2                  0              0               0                    1   \n",
              "3                  0              0               1                    0   \n",
              "4                  0              0               1                    0   \n",
              "\n",
              "   Airline_Jet Airways Business  Airline_Multiple carriers  \\\n",
              "0                             0                          0   \n",
              "1                             0                          0   \n",
              "2                             0                          0   \n",
              "3                             0                          0   \n",
              "4                             0                          0   \n",
              "\n",
              "   Airline_Multiple carriers Premium economy  Airline_SpiceJet  \\\n",
              "0                                          0                 0   \n",
              "1                                          0                 0   \n",
              "2                                          0                 0   \n",
              "3                                          0                 0   \n",
              "4                                          0                 0   \n",
              "\n",
              "   Airline_Trujet  Airline_Vistara  Airline_Vistara Premium economy  \\\n",
              "0               0                0                                0   \n",
              "1               0                0                                0   \n",
              "2               0                0                                0   \n",
              "3               0                0                                0   \n",
              "4               0                0                                0   \n",
              "\n",
              "   Source_Chennai  Source_Delhi  Source_Kolkata  Source_Mumbai  \\\n",
              "0               0             0               0              0   \n",
              "1               0             0               1              0   \n",
              "2               0             1               0              0   \n",
              "3               0             0               1              0   \n",
              "4               0             0               0              0   \n",
              "\n",
              "   Destination_Cochin  Destination_Delhi  Destination_Hyderabad  \\\n",
              "0                   0                  0                      0   \n",
              "1                   0                  0                      0   \n",
              "2                   1                  0                      0   \n",
              "3                   0                  0                      0   \n",
              "4                   0                  0                      0   \n",
              "\n",
              "   Destination_Kolkata  Destination_New Delhi  \n",
              "0                    0                      1  \n",
              "1                    0                      0  \n",
              "2                    0                      0  \n",
              "3                    0                      0  \n",
              "4                    0                      1  "
            ]
          },
          "metadata": {},
          "execution_count": 173
        }
      ]
    },
    {
      "cell_type": "code",
      "metadata": {
        "colab": {
          "base_uri": "https://localhost:8080/"
        },
        "id": "iDlJdWUHkINR",
        "outputId": "10d8e7e5-64e0-426c-aab1-1360b1090868"
      },
      "source": [
        "final_Train_data.info()"
      ],
      "execution_count": 175,
      "outputs": [
        {
          "output_type": "stream",
          "name": "stdout",
          "text": [
            "<class 'pandas.core.frame.DataFrame'>\n",
            "Int64Index: 10682 entries, 0 to 10682\n",
            "Data columns (total 30 columns):\n",
            " #   Column                                     Non-Null Count  Dtype\n",
            "---  ------                                     --------------  -----\n",
            " 0   Total_Stops                                10682 non-null  int64\n",
            " 1   Price                                      10682 non-null  int64\n",
            " 2   day_of_Journey                             10682 non-null  int64\n",
            " 3   month_of_Journey                           10682 non-null  int64\n",
            " 4   hour_of_Dep                                10682 non-null  int64\n",
            " 5   min_of_Dep                                 10682 non-null  int64\n",
            " 6   hour_of_arrival                            10682 non-null  int64\n",
            " 7   min_of_arrival                             10682 non-null  int64\n",
            " 8   Duration_hours                             10682 non-null  int64\n",
            " 9   Duration_mins                              10682 non-null  int64\n",
            " 10  Airline_Air India                          10682 non-null  uint8\n",
            " 11  Airline_GoAir                              10682 non-null  uint8\n",
            " 12  Airline_IndiGo                             10682 non-null  uint8\n",
            " 13  Airline_Jet Airways                        10682 non-null  uint8\n",
            " 14  Airline_Jet Airways Business               10682 non-null  uint8\n",
            " 15  Airline_Multiple carriers                  10682 non-null  uint8\n",
            " 16  Airline_Multiple carriers Premium economy  10682 non-null  uint8\n",
            " 17  Airline_SpiceJet                           10682 non-null  uint8\n",
            " 18  Airline_Trujet                             10682 non-null  uint8\n",
            " 19  Airline_Vistara                            10682 non-null  uint8\n",
            " 20  Airline_Vistara Premium economy            10682 non-null  uint8\n",
            " 21  Source_Chennai                             10682 non-null  uint8\n",
            " 22  Source_Delhi                               10682 non-null  uint8\n",
            " 23  Source_Kolkata                             10682 non-null  uint8\n",
            " 24  Source_Mumbai                              10682 non-null  uint8\n",
            " 25  Destination_Cochin                         10682 non-null  uint8\n",
            " 26  Destination_Delhi                          10682 non-null  uint8\n",
            " 27  Destination_Hyderabad                      10682 non-null  uint8\n",
            " 28  Destination_Kolkata                        10682 non-null  uint8\n",
            " 29  Destination_New Delhi                      10682 non-null  uint8\n",
            "dtypes: int64(10), uint8(20)\n",
            "memory usage: 1.4 MB\n"
          ]
        }
      ]
    },
    {
      "cell_type": "markdown",
      "metadata": {
        "id": "44LX18xIsaDH"
      },
      "source": [
        "**TEST DATA preprocessing**\n",
        "\n",
        "Follow the same steps used in preprocessing for train data"
      ]
    },
    {
      "cell_type": "code",
      "metadata": {
        "colab": {
          "base_uri": "https://localhost:8080/"
        },
        "id": "0F7Wxu0rqr3f",
        "outputId": "32921d54-106d-44e4-fd54-baaa2c389dda"
      },
      "source": [
        "# Preprocessing\n",
        "\n",
        "test_data= pd.read_excel('/content/Test_set.xlsx')\n",
        "\n",
        "print(\"Test data Info\")\n",
        "print(\"----------------------------------------------------------------------------------------------------------------------------------------------\")\n",
        "print(test_data.info())\n",
        "\n",
        "print(\"Count of Null values :\")\n",
        "print(\"----------------------------------------------------------------------------------------------------------------------------------------------\")\n",
        "test_data.dropna(inplace = True)\n",
        "print(test_data.isnull().sum())"
      ],
      "execution_count": 176,
      "outputs": [
        {
          "output_type": "stream",
          "name": "stdout",
          "text": [
            "Test data Info\n",
            "----------------------------------------------------------------------------------------------------------------------------------------------\n",
            "<class 'pandas.core.frame.DataFrame'>\n",
            "RangeIndex: 2671 entries, 0 to 2670\n",
            "Data columns (total 10 columns):\n",
            " #   Column           Non-Null Count  Dtype \n",
            "---  ------           --------------  ----- \n",
            " 0   Airline          2671 non-null   object\n",
            " 1   Date_of_Journey  2671 non-null   object\n",
            " 2   Source           2671 non-null   object\n",
            " 3   Destination      2671 non-null   object\n",
            " 4   Route            2671 non-null   object\n",
            " 5   Dep_Time         2671 non-null   object\n",
            " 6   Arrival_Time     2671 non-null   object\n",
            " 7   Duration         2671 non-null   object\n",
            " 8   Total_Stops      2671 non-null   object\n",
            " 9   Additional_Info  2671 non-null   object\n",
            "dtypes: object(10)\n",
            "memory usage: 208.8+ KB\n",
            "None\n",
            "Count of Null values :\n",
            "----------------------------------------------------------------------------------------------------------------------------------------------\n",
            "Airline            0\n",
            "Date_of_Journey    0\n",
            "Source             0\n",
            "Destination        0\n",
            "Route              0\n",
            "Dep_Time           0\n",
            "Arrival_Time       0\n",
            "Duration           0\n",
            "Total_Stops        0\n",
            "Additional_Info    0\n",
            "dtype: int64\n"
          ]
        }
      ]
    },
    {
      "cell_type": "markdown",
      "metadata": {
        "id": "BJMvg9FmQ_-1"
      },
      "source": [
        "Test Data Preprocessing\n",
        "\n",
        "Apply all preprocessing steps on test data in order to avoid the data leakage."
      ]
    },
    {
      "cell_type": "code",
      "metadata": {
        "colab": {
          "base_uri": "https://localhost:8080/",
          "height": 275
        },
        "id": "yaacRCQAQu4o",
        "outputId": "4e37ff17-a8f5-48e1-920a-2624ae3960c9"
      },
      "source": [
        "#day_of_Journey\n",
        "test_data['day_of_Journey']= pd.to_datetime(test_data['Date_of_Journey']).dt.day\n",
        "test_data['month_of_Journey']= pd.to_datetime(test_data['Date_of_Journey']).dt.month\n",
        "test_data['day_of_Journey']\n",
        "test_data['month_of_Journey']\n",
        "test_data.drop(['Date_of_Journey'],axis=1,inplace=True)\n",
        "test_data.head()"
      ],
      "execution_count": 177,
      "outputs": [
        {
          "output_type": "execute_result",
          "data": {
            "text/html": [
              "<div>\n",
              "<style scoped>\n",
              "    .dataframe tbody tr th:only-of-type {\n",
              "        vertical-align: middle;\n",
              "    }\n",
              "\n",
              "    .dataframe tbody tr th {\n",
              "        vertical-align: top;\n",
              "    }\n",
              "\n",
              "    .dataframe thead th {\n",
              "        text-align: right;\n",
              "    }\n",
              "</style>\n",
              "<table border=\"1\" class=\"dataframe\">\n",
              "  <thead>\n",
              "    <tr style=\"text-align: right;\">\n",
              "      <th></th>\n",
              "      <th>Airline</th>\n",
              "      <th>Source</th>\n",
              "      <th>Destination</th>\n",
              "      <th>Route</th>\n",
              "      <th>Dep_Time</th>\n",
              "      <th>Arrival_Time</th>\n",
              "      <th>Duration</th>\n",
              "      <th>Total_Stops</th>\n",
              "      <th>Additional_Info</th>\n",
              "      <th>day_of_Journey</th>\n",
              "      <th>month_of_Journey</th>\n",
              "    </tr>\n",
              "  </thead>\n",
              "  <tbody>\n",
              "    <tr>\n",
              "      <th>0</th>\n",
              "      <td>Jet Airways</td>\n",
              "      <td>Delhi</td>\n",
              "      <td>Cochin</td>\n",
              "      <td>DEL → BOM → COK</td>\n",
              "      <td>17:30</td>\n",
              "      <td>04:25 07 Jun</td>\n",
              "      <td>10h 55m</td>\n",
              "      <td>1 stop</td>\n",
              "      <td>No info</td>\n",
              "      <td>6</td>\n",
              "      <td>6</td>\n",
              "    </tr>\n",
              "    <tr>\n",
              "      <th>1</th>\n",
              "      <td>IndiGo</td>\n",
              "      <td>Kolkata</td>\n",
              "      <td>Banglore</td>\n",
              "      <td>CCU → MAA → BLR</td>\n",
              "      <td>06:20</td>\n",
              "      <td>10:20</td>\n",
              "      <td>4h</td>\n",
              "      <td>1 stop</td>\n",
              "      <td>No info</td>\n",
              "      <td>5</td>\n",
              "      <td>12</td>\n",
              "    </tr>\n",
              "    <tr>\n",
              "      <th>2</th>\n",
              "      <td>Jet Airways</td>\n",
              "      <td>Delhi</td>\n",
              "      <td>Cochin</td>\n",
              "      <td>DEL → BOM → COK</td>\n",
              "      <td>19:15</td>\n",
              "      <td>19:00 22 May</td>\n",
              "      <td>23h 45m</td>\n",
              "      <td>1 stop</td>\n",
              "      <td>In-flight meal not included</td>\n",
              "      <td>21</td>\n",
              "      <td>5</td>\n",
              "    </tr>\n",
              "    <tr>\n",
              "      <th>3</th>\n",
              "      <td>Multiple carriers</td>\n",
              "      <td>Delhi</td>\n",
              "      <td>Cochin</td>\n",
              "      <td>DEL → BOM → COK</td>\n",
              "      <td>08:00</td>\n",
              "      <td>21:00</td>\n",
              "      <td>13h</td>\n",
              "      <td>1 stop</td>\n",
              "      <td>No info</td>\n",
              "      <td>21</td>\n",
              "      <td>5</td>\n",
              "    </tr>\n",
              "    <tr>\n",
              "      <th>4</th>\n",
              "      <td>Air Asia</td>\n",
              "      <td>Banglore</td>\n",
              "      <td>Delhi</td>\n",
              "      <td>BLR → DEL</td>\n",
              "      <td>23:55</td>\n",
              "      <td>02:45 25 Jun</td>\n",
              "      <td>2h 50m</td>\n",
              "      <td>non-stop</td>\n",
              "      <td>No info</td>\n",
              "      <td>24</td>\n",
              "      <td>6</td>\n",
              "    </tr>\n",
              "  </tbody>\n",
              "</table>\n",
              "</div>"
            ],
            "text/plain": [
              "             Airline    Source Destination            Route Dep_Time  \\\n",
              "0        Jet Airways     Delhi      Cochin  DEL → BOM → COK    17:30   \n",
              "1             IndiGo   Kolkata    Banglore  CCU → MAA → BLR    06:20   \n",
              "2        Jet Airways     Delhi      Cochin  DEL → BOM → COK    19:15   \n",
              "3  Multiple carriers     Delhi      Cochin  DEL → BOM → COK    08:00   \n",
              "4           Air Asia  Banglore       Delhi        BLR → DEL    23:55   \n",
              "\n",
              "   Arrival_Time Duration Total_Stops              Additional_Info  \\\n",
              "0  04:25 07 Jun  10h 55m      1 stop                      No info   \n",
              "1         10:20       4h      1 stop                      No info   \n",
              "2  19:00 22 May  23h 45m      1 stop  In-flight meal not included   \n",
              "3         21:00      13h      1 stop                      No info   \n",
              "4  02:45 25 Jun   2h 50m    non-stop                      No info   \n",
              "\n",
              "   day_of_Journey  month_of_Journey  \n",
              "0               6                 6  \n",
              "1               5                12  \n",
              "2              21                 5  \n",
              "3              21                 5  \n",
              "4              24                 6  "
            ]
          },
          "metadata": {},
          "execution_count": 177
        }
      ]
    },
    {
      "cell_type": "code",
      "metadata": {
        "id": "MG_fgJW1Qu1M"
      },
      "source": [
        "#Dep_Time\n",
        "test_data['hour_of_Dep']= pd.to_datetime(test_data['Dep_Time']).dt.hour\n",
        "test_data['min_of_Dep']= pd.to_datetime(test_data['Dep_Time']).dt.minute\n",
        "test_data.drop(['Dep_Time'],axis=1,inplace=True)"
      ],
      "execution_count": 178,
      "outputs": []
    },
    {
      "cell_type": "code",
      "metadata": {
        "id": "aRISCZQaQuy9"
      },
      "source": [
        "#Arrival_Time\n",
        "test_data['hour_of_arrival']= pd.to_datetime(test_data['Arrival_Time']).dt.hour\n",
        "test_data['min_of_arrival']= pd.to_datetime(test_data['Arrival_Time']).dt.minute\n",
        "test_data.drop(['Arrival_Time'],axis=1, inplace=True)"
      ],
      "execution_count": 179,
      "outputs": []
    },
    {
      "cell_type": "code",
      "metadata": {
        "colab": {
          "base_uri": "https://localhost:8080/"
        },
        "id": "oRNBL1bDQuwL",
        "outputId": "172f72fc-11ec-48ff-e232-ddc53df26aa3"
      },
      "source": [
        "#Duration\n",
        "list1=list(test_data['Duration'])\n",
        "print(list1)\n",
        "\n",
        "duration = list(test_data[\"Duration\"])\n",
        "\n",
        "for i in range(len(duration)):\n",
        "    if len(duration[i].split()) != 2:    # Check if duration contains only hour or mins\n",
        "        if \"h\" in duration[i]:\n",
        "            duration[i] = duration[i].strip() + \" 0m\"   # Adds 0 minute\n",
        "        else:\n",
        "            duration[i] = \"0h \" + duration[i]           # Adds 0 hour\n",
        "            \n",
        "duration_hours = []\n",
        "duration_mins = []\n",
        "for i in range(len(duration)):\n",
        "    duration_hours.append(int(duration[i].split(sep = \"h\")[0]))    # Extract hours from duration\n",
        "    duration_mins.append(int(duration[i].split(sep = \"m\")[0].split()[-1]))   # Extracts only minutes from duration\n",
        "\n",
        "test_data[\"Duration_hours\"] = duration_hours\n",
        "test_data[\"Duration_mins\"] = duration_mins\n",
        "test_data.drop(['Duration'], axis=1,inplace=True)"
      ],
      "execution_count": 180,
      "outputs": [
        {
          "output_type": "stream",
          "name": "stdout",
          "text": [
            "['10h 55m', '4h', '23h 45m', '13h', '2h 50m', '18h 20m', '15h 5m', '5h 15m', '2h 45m', '6h 5m', '28h 55m', '9h 20m', '10h 15m', '4h 40m', '17h 20m', '10h 50m', '9h 15m', '12h 15m', '9h 10m', '9h 20m', '14h 50m', '14h 5m', '11h 35m', '13h 30m', '2h 50m', '12h 25m', '2h 30m', '25h 30m', '19h 25m', '7h', '2h 30m', '11h 40m', '7h 5m', '3h', '1h 25m', '2h 40m', '1h 25m', '6h 5m', '17h 5m', '10h 40m', '2h 30m', '12h 30m', '1h 30m', '23h 40m', '5h 15m', '2h 20m', '23h 35m', '1h 30m', '27h 40m', '13h 30m', '28h 20m', '5h 45m', '26h 25m', '5h 40m', '2h 15m', '2h 55m', '5h 45m', '7h 30m', '5h 20m', '25h 50m', '13h 15m', '26h 20m', '5h 45m', '5h 40m', '2h 40m', '2h 50m', '5h 25m', '8h 45m', '3h', '7h 20m', '1h 30m', '21h 10m', '16h', '7h 50m', '1h 30m', '3h', '2h 50m', '19h 25m', '2h 55m', '14h 5m', '2h 50m', '16h 5m', '5h 55m', '2h 30m', '10h 15m', '13h 50m', '2h 15m', '11h 55m', '2h 30m', '13h 20m', '18h 10m', '28h 10m', '5h', '23h 15m', '1h 15m', '1h 20m', '13h 25m', '6h 15m', '1h 20m', '10h 10m', '4h 35m', '11h', '7h 50m', '12h 20m', '2h 30m', '15h 10m', '1h 30m', '19h', '13h 45m', '12h 20m', '9h 50m', '14h 5m', '2h 35m', '4h 40m', '7h 15m', '23h', '10h 25m', '5h 5m', '22h 45m', '8h 40m', '27h 40m', '11h 30m', '2h 35m', '2h 45m', '5h 15m', '15h 40m', '2h 30m', '2h 35m', '9h 20m', '2h 50m', '8h 40m', '5h 20m', '5h 45m', '2h 30m', '2h 45m', '7h 55m', '19h 25m', '2h 50m', '2h 45m', '12h 50m', '2h 45m', '25h 25m', '10h 20m', '8h 30m', '3h', '12h 45m', '3h', '2h 30m', '12h 10m', '22h 30m', '7h 55m', '7h 45m', '7h', '2h 55m', '2h 30m', '2h 55m', '2h 40m', '2h 50m', '21h 55m', '1h 30m', '3h', '6h 30m', '3h', '2h 35m', '2h 50m', '2h 45m', '26h 20m', '2h 20m', '8h 40m', '2h 25m', '23h', '9h 20m', '2h 55m', '2h 45m', '25h 45m', '2h 30m', '5h 15m', '33h 20m', '15h 40m', '14h 5m', '12h 25m', '1h 30m', '2h 20m', '11h 25m', '10h 15m', '15h 15m', '14h 30m', '8h', '7h 50m', '2h 20m', '13h', '12h 30m', '1h 30m', '10h 40m', '21h 15m', '2h 25m', '26h 50m', '16h 50m', '2h 45m', '9h 5m', '10h 10m', '16h 45m', '22h 30m', '2h 15m', '11h 15m', '2h 40m', '19h 25m', '22h 55m', '11h 35m', '17h 45m', '3h', '23h 10m', '25h 20m', '5h 20m', '7h 45m', '23h 50m', '6h 5m', '14h 25m', '17h 5m', '24h 50m', '2h 50m', '10h 30m', '7h 15m', '2h 20m', '2h 30m', '19h 40m', '2h 35m', '1h 30m', '6h 20m', '16h 45m', '18h 20m', '27h 20m', '1h 25m', '9h 25m', '2h 55m', '5h 10m', '7h 40m', '2h 45m', '6h 35m', '16h 5m', '28h 50m', '13h', '14h 35m', '3h', '10h 25m', '19h 55m', '13h 30m', '2h 40m', '11h', '14h 5m', '23h', '38h', '6h 15m', '4h 45m', '6h 25m', '21h 40m', '9h 5m', '3h 5m', '23h 10m', '4h 55m', '16h 10m', '1h 30m', '3h', '6h 45m', '2h 45m', '2h 50m', '13h 30m', '3h', '7h 5m', '11h 45m', '6h', '22h 25m', '2h 50m', '14h 30m', '6h 25m', '2h 40m', '15h 10m', '19h 10m', '5h 45m', '2h 55m', '10h 25m', '9h 10m', '12h 45m', '24h', '14h 40m', '2h 40m', '2h 55m', '22h 30m', '5h', '15h 40m', '5h 20m', '20h 30m', '23h 40m', '16h 15m', '22h 55m', '8h 15m', '8h 25m', '23h 5m', '19h 30m', '26h 20m', '5h 15m', '2h 50m', '2h 15m', '12h 30m', '25h 10m', '14h 5m', '21h 25m', '1h 30m', '8h 40m', '4h 50m', '2h 50m', '10h 25m', '18h 25m', '9h 50m', '1h 25m', '19h 40m', '6h 20m', '9h 50m', '10h 10m', '4h 5m', '23h 45m', '3h', '15h 5m', '16h 45m', '16h 40m', '2h 25m', '28h', '24h 55m', '10h 25m', '18h 25m', '3h', '2h 50m', '1h 20m', '2h 50m', '5h 5m', '3h', '6h 55m', '28h 10m', '8h 20m', '26h', '2h 55m', '12h 45m', '9h', '1h 20m', '20h 55m', '2h 35m', '23h 20m', '4h 50m', '27h 35m', '8h 25m', '21h 35m', '15h 30m', '12h 20m', '14h', '28h 40m', '14h 45m', '11h 10m', '22h 30m', '6h 15m', '9h 15m', '2h 35m', '4h 35m', '1h 30m', '13h', '16h 5m', '11h 45m', '1h 25m', '12h 25m', '2h 55m', '20h', '2h 55m', '14h 30m', '2h 40m', '2h 35m', '24h 15m', '12h 30m', '12h', '25h 45m', '5h 25m', '8h 40m', '20h 10m', '11h 15m', '14h', '2h 45m', '9h', '14h 30m', '1h 30m', '2h 35m', '2h 30m', '13h 20m', '23h 50m', '12h', '2h 50m', '2h 40m', '27h 45m', '15h 15m', '8h 15m', '2h 55m', '20h 35m', '2h 50m', '11h 5m', '2h 45m', '14h 30m', '2h 30m', '7h 40m', '22h 55m', '2h 35m', '12h 35m', '7h 50m', '12h 15m', '10h 25m', '2h 20m', '25h', '10h', '18h 50m', '2h 50m', '26h 20m', '18h 45m', '13h', '8h 5m', '5h', '4h 25m', '14h 55m', '15h 5m', '22h 5m', '1h 30m', '3h', '2h 40m', '10h 25m', '9h 45m', '25h 55m', '25h 5m', '1h 30m', '2h 25m', '2h 35m', '20h', '4h 10m', '10h 55m', '8h 40m', '8h 40m', '16h 50m', '1h 20m', '9h 35m', '2h 15m', '11h 45m', '9h 20m', '26h 55m', '2h 35m', '11h 50m', '9h 15m', '7h 35m', '17h 5m', '11h 50m', '22h 30m', '5h 35m', '9h 5m', '2h 45m', '5h 45m', '11h 45m', '5h 30m', '35h 35m', '17h 15m', '15h 45m', '12h 45m', '3h 15m', '18h 45m', '20h 55m', '3h 15m', '2h 30m', '16h 25m', '22h 30m', '24h 55m', '2h 20m', '12h 10m', '10h 50m', '10h 25m', '2h 35m', '2h 40m', '27h 35m', '25h 40m', '12h 15m', '11h 30m', '12h 40m', '5h 55m', '16h', '7h 40m', '12h 55m', '10h 35m', '10h', '8h 25m', '5h 10m', '31h 55m', '7h 30m', '8h 40m', '2h 20m', '2h 25m', '23h 10m', '26h 55m', '2h 50m', '9h 50m', '5h 20m', '15h 10m', '8h', '20h 45m', '2h 20m', '21h 25m', '10h 20m', '10h 35m', '2h 30m', '11h 10m', '38h 15m', '6h', '2h 50m', '1h 30m', '10h 20m', '16h 25m', '13h 45m', '6h 20m', '2h 35m', '2h 20m', '3h 5m', '13h', '2h 50m', '6h', '22h 55m', '24h 45m', '1h 35m', '24h 30m', '2h 45m', '1h 30m', '7h 35m', '34h 30m', '6h 20m', '13h 50m', '2h 50m', '17h 20m', '7h 5m', '23h 20m', '2h 45m', '2h 45m', '2h 45m', '2h 25m', '9h 50m', '1h 35m', '21h 55m', '10h 15m', '2h 55m', '12h 15m', '7h 5m', '2h 35m', '1h 25m', '14h 5m', '3h 15m', '5h 30m', '23h 30m', '5h 25m', '1h 35m', '1h 20m', '2h 50m', '2h 55m', '24h 45m', '11h 40m', '7h 35m', '20h 55m', '3h 5m', '23h 30m', '21h 35m', '3h', '10h 15m', '3h', '9h 20m', '10h 35m', '20h 55m', '6h 10m', '13h 20m', '14h 45m', '13h 20m', '22h 5m', '9h 30m', '6h 5m', '2h 40m', '13h', '12h 20m', '12h 20m', '16h 5m', '8h 55m', '6h 30m', '1h 30m', '2h 50m', '2h 50m', '3h 15m', '7h 35m', '1h 25m', '8h', '26h 35m', '14h 30m', '6h 35m', '14h 5m', '8h 40m', '5h 10m', '22h 30m', '11h 15m', '7h 30m', '2h 50m', '2h 15m', '15h 35m', '5h 50m', '5h 30m', '5h 15m', '20h 20m', '23h 55m', '4h 35m', '5h 35m', '12h 10m', '1h 25m', '4h', '2h 50m', '1h 30m', '25h', '14h 30m', '7h 15m', '16h 5m', '6h', '5h 15m', '10h 15m', '12h', '25h 50m', '1h 30m', '22h 10m', '1h 35m', '2h 25m', '5h 15m', '10h 15m', '7h 35m', '20h 15m', '18h 20m', '2h 35m', '10h 15m', '10h 25m', '3h 5m', '14h 5m', '13h 55m', '4h 5m', '4h 5m', '12h 25m', '9h 25m', '2h 15m', '5h 55m', '8h', '2h 45m', '14h 25m', '25h 30m', '6h 35m', '3h 40m', '2h 35m', '9h 50m', '2h 45m', '11h 15m', '7h 15m', '7h 15m', '7h 55m', '2h 45m', '16h 45m', '5h 15m', '33h 15m', '2h 55m', '25h 35m', '2h 20m', '5h 30m', '2h 45m', '12h 50m', '2h 50m', '3h 5m', '26h 25m', '13h 20m', '17h 55m', '3h', '24h 10m', '2h 40m', '18h 20m', '6h 15m', '12h 15m', '3h 40m', '29h 35m', '2h 55m', '14h 5m', '4h 5m', '5h 20m', '12h 40m', '7h 30m', '2h 35m', '19h 25m', '2h 35m', '2h 25m', '6h 35m', '8h 45m', '20h 55m', '27h 5m', '20h 45m', '2h 45m', '8h 55m', '5h 15m', '11h 45m', '15h 45m', '15h 35m', '15h 25m', '23h 50m', '16h 5m', '3h 10m', '13h 35m', '9h', '2h 55m', '19h 25m', '1h 30m', '13h 45m', '2h 30m', '28h 50m', '8h 50m', '5h 45m', '35h 35m', '6h 20m', '6h 40m', '9h 45m', '6h 25m', '20h', '26h 25m', '2h 50m', '10h', '5h 15m', '5h 30m', '2h 50m', '6h 25m', '2h 20m', '2h 25m', '30h 20m', '20h 10m', '6h 25m', '6h 25m', '2h 30m', '2h 20m', '8h 30m', '13h 30m', '8h 30m', '14h 25m', '16h 15m', '6h 20m', '2h 50m', '17h 45m', '15h 55m', '2h 30m', '9h 50m', '10h 25m', '3h', '13h 50m', '3h 5m', '13h 30m', '5h 30m', '16h 25m', '4h 55m', '2h 45m', '2h 50m', '7h 20m', '3h', '2h 45m', '2h 20m', '19h 40m', '16h 25m', '2h 45m', '22h 55m', '1h 20m', '11h 45m', '8h 55m', '13h 20m', '2h 50m', '9h 35m', '2h 45m', '12h 35m', '2h 55m', '21h 55m', '2h 40m', '7h 45m', '10h 15m', '21h 5m', '6h 10m', '26h 40m', '8h 25m', '37h 20m', '3h 40m', '7h 20m', '8h 25m', '21h 10m', '2h 45m', '2h 50m', '29h 20m', '22h 55m', '2h 20m', '14h 30m', '1h 30m', '4h 55m', '2h 55m', '9h 10m', '5h 30m', '27h 5m', '13h 20m', '8h 25m', '22h 30m', '12h 35m', '2h 20m', '6h 25m', '11h', '9h', '8h 30m', '13h 5m', '2h 45m', '11h 45m', '13h', '1h 30m', '12h 10m', '5h', '29h 40m', '10h 40m', '10h 25m', '20h', '10h 5m', '7h 15m', '13h 45m', '2h 25m', '2h 50m', '2h 45m', '13h 25m', '27h 35m', '12h 25m', '21h 35m', '28h 20m', '17h 55m', '8h 50m', '1h 30m', '26h', '10h 20m', '14h 35m', '3h', '2h 20m', '2h 55m', '2h 45m', '25h 45m', '11h 30m', '2h 35m', '3h', '11h 40m', '2h 55m', '4h 30m', '11h 30m', '9h 20m', '2h 50m', '7h 15m', '2h 50m', '26h 20m', '4h 50m', '2h 35m', '2h 50m', '8h 25m', '9h 50m', '18h 20m', '11h 25m', '12h 25m', '8h 45m', '2h 20m', '11h 55m', '26h 20m', '2h 40m', '8h 20m', '5h 35m', '11h 5m', '20h 20m', '2h 25m', '14h', '27h 35m', '33h 15m', '2h 30m', '13h 30m', '6h 30m', '2h 45m', '2h 45m', '2h 55m', '29h 20m', '21h 20m', '2h 45m', '2h 55m', '27h 45m', '13h 10m', '2h 50m', '2h 25m', '8h 5m', '2h 40m', '2h 55m', '22h 30m', '24h 45m', '7h 35m', '2h 45m', '21h 15m', '2h 50m', '16h', '12h 30m', '19h 55m', '13h 20m', '27h 45m', '2h 25m', '2h 35m', '1h 15m', '2h 55m', '23h 30m', '11h 45m', '3h 5m', '2h 35m', '7h 45m', '11h', '9h 45m', '13h', '2h 15m', '5h 55m', '2h 45m', '11h 5m', '2h 30m', '2h 45m', '5h 20m', '24h 50m', '9h 45m', '15h 25m', '4h 30m', '22h 55m', '3h 15m', '5h 40m', '2h 15m', '2h 50m', '7h 15m', '7h 45m', '2h 45m', '17h 35m', '5h', '15h 10m', '8h 25m', '2h 50m', '2h 20m', '9h', '5h 25m', '5h 40m', '2h 50m', '10h', '9h 20m', '3h', '33h 45m', '2h 55m', '10h 30m', '6h 40m', '12h 10m', '2h 40m', '6h 50m', '2h 45m', '5h', '16h 45m', '13h 20m', '5h 10m', '1h 25m', '8h 25m', '2h 35m', '22h 45m', '10h 10m', '2h 45m', '35h 35m', '11h 25m', '2h 45m', '9h 45m', '2h 30m', '1h 20m', '22h 25m', '11h 45m', '1h 30m', '18h 45m', '1h 30m', '13h 20m', '12h 15m', '2h 35m', '9h 30m', '24h 10m', '4h 50m', '15h 15m', '2h 50m', '24h', '26h 10m', '2h 50m', '3h', '15h 55m', '11h 50m', '2h 25m', '9h 20m', '2h 55m', '1h 30m', '8h 30m', '2h 45m', '23h 10m', '2h 50m', '24h 50m', '2h 55m', '5h 55m', '14h 45m', '15h 45m', '9h 45m', '7h 55m', '6h 25m', '2h 35m', '2h 55m', '22h 55m', '14h 35m', '13h 20m', '6h 45m', '22h 10m', '21h 55m', '16h 35m', '2h 50m', '13h 20m', '1h 25m', '2h 55m', '36h 25m', '7h 15m', '4h 35m', '14h 5m', '3h 45m', '1h 25m', '3h 15m', '3h', '2h 15m', '19h 30m', '9h', '11h 45m', '6h 20m', '26h 35m', '14h', '26h', '3h', '20h 10m', '2h 30m', '9h', '8h 30m', '14h 20m', '2h 55m', '2h 30m', '2h 30m', '15h 40m', '10h 35m', '1h 30m', '2h 50m', '1h 30m', '3h 15m', '1h 30m', '7h 50m', '2h 50m', '19h 55m', '12h 50m', '21h 55m', '2h 50m', '3h 10m', '1h 30m', '7h 15m', '14h 5m', '12h 10m', '2h 50m', '3h', '5h', '10h 15m', '2h 50m', '10h', '22h 15m', '7h 45m', '1h 25m', '9h 30m', '16h 50m', '11h 45m', '21h 35m', '1h 25m', '10h 10m', '10h 25m', '3h', '9h 20m', '22h 5m', '3h', '17h 25m', '31h 10m', '5h 20m', '23h 10m', '21h 35m', '17h 25m', '23h 40m', '2h 30m', '6h 50m', '7h 35m', '24h 5m', '3h', '9h 15m', '14h 20m', '2h 30m', '13h', '22h 15m', '2h 45m', '2h 35m', '3h', '5h 45m', '15h 45m', '6h 10m', '22h 25m', '2h 45m', '4h 5m', '5h 5m', '2h 35m', '13h 30m', '15h 30m', '5h', '2h 55m', '23h 40m', '6h 35m', '23h 40m', '33h 15m', '2h 35m', '11h 30m', '1h 30m', '2h 50m', '23h', '2h 20m', '24h 55m', '2h 45m', '2h 15m', '19h 25m', '5h 15m', '3h 15m', '13h', '4h 45m', '12h 35m', '10h 25m', '15h 25m', '4h 50m', '1h 20m', '23h 45m', '13h 55m', '2h 55m', '20h 25m', '1h 20m', '2h 50m', '1h 30m', '1h 30m', '2h 45m', '10h 15m', '2h 35m', '2h 30m', '2h 20m', '24h 45m', '6h 5m', '1h 30m', '12h 10m', '1h 30m', '12h 10m', '2h 50m', '2h 55m', '2h 35m', '21h 25m', '7h 40m', '7h 45m', '3h', '9h 20m', '18h 30m', '1h 15m', '2h 20m', '3h', '2h 45m', '26h 55m', '10h 40m', '26h 15m', '30h 40m', '23h 40m', '2h 20m', '4h 50m', '23h 40m', '10h 30m', '12h 45m', '23h 50m', '3h', '14h 30m', '14h 55m', '26h 15m', '2h 20m', '2h 20m', '1h 25m', '30h', '9h 20m', '2h 40m', '5h 10m', '7h 35m', '3h', '7h 40m', '27h 10m', '2h 30m', '1h 30m', '15h 40m', '13h 20m', '8h 20m', '11h', '7h 45m', '8h 25m', '11h 5m', '24h 45m', '2h 45m', '24h 40m', '2h 55m', '7h 5m', '1h 15m', '27h 5m', '13h 30m', '25h 30m', '15h 30m', '3h 40m', '8h 50m', '15h 20m', '9h 15m', '13h 55m', '2h 30m', '8h', '12h', '13h 30m', '2h 50m', '13h', '11h', '7h 10m', '28h 15m', '5h 50m', '2h 30m', '22h 55m', '10h 30m', '11h 30m', '20h 15m', '15h 25m', '5h 20m', '8h', '2h 40m', '14h 10m', '2h 40m', '26h 20m', '2h 20m', '16h 50m', '11h 15m', '2h 20m', '2h 45m', '9h 30m', '26h 35m', '9h 50m', '8h', '3h 15m', '30h 20m', '6h 35m', '28h', '6h 15m', '2h 15m', '5h 5m', '18h 40m', '23h 30m', '20h 15m', '21h 10m', '3h', '1h 30m', '19h 55m', '12h 10m', '9h 30m', '16h 45m', '13h 20m', '37h 20m', '26h 35m', '8h', '10h 30m', '16h 50m', '8h', '27h 50m', '8h 10m', '39h 5m', '3h', '20h', '8h 15m', '2h 55m', '14h', '13h 30m', '2h 50m', '23h 45m', '6h 35m', '2h 50m', '13h', '1h 30m', '19h 25m', '22h 55m', '7h 30m', '8h', '2h 35m', '7h 30m', '2h 50m', '5h 55m', '1h 30m', '13h 20m', '23h 50m', '16h 15m', '7h', '18h 45m', '5h 15m', '23h 40m', '8h 40m', '13h 20m', '15h 30m', '24h 55m', '12h 45m', '13h 30m', '8h 30m', '2h 50m', '1h 30m', '14h 20m', '22h 10m', '11h 40m', '23h 40m', '2h 45m', '9h 20m', '2h 30m', '2h 30m', '25h 40m', '3h', '10h 30m', '7h 5m', '1h 30m', '2h 35m', '14h 5m', '23h 30m', '10h', '13h 45m', '12h 45m', '28h 40m', '9h 20m', '11h 25m', '16h 20m', '6h 10m', '21h 15m', '27h 10m', '1h 30m', '23h 40m', '28h 15m', '13h 20m', '13h 20m', '12h 30m', '24h 10m', '20h 15m', '7h 35m', '7h 20m', '2h 45m', '14h 50m', '12h 5m', '2h 15m', '13h 15m', '2h 55m', '2h 45m', '25h 25m', '2h 45m', '19h 15m', '1h 30m', '14h 5m', '2h 50m', '1h 30m', '23h 40m', '12h 45m', '23h 50m', '29h 55m', '19h 30m', '1h 30m', '8h', '12h 45m', '11h 30m', '25h 40m', '14h 5m', '25h 45m', '38h 15m', '27h', '30h 45m', '2h 35m', '4h 40m', '16h 50m', '2h 55m', '2h 45m', '9h 30m', '2h 55m', '29h 35m', '2h 30m', '2h 50m', '6h 25m', '4h 50m', '21h 25m', '2h 55m', '7h 20m', '16h 5m', '1h 30m', '8h 40m', '8h 20m', '1h 30m', '2h 35m', '9h 30m', '10h', '3h', '3h 15m', '1h 30m', '6h', '2h 15m', '18h 45m', '2h 50m', '8h 20m', '3h', '6h 25m', '11h', '10h 55m', '2h 35m', '7h 30m', '8h 30m', '9h 30m', '8h 30m', '11h', '2h 35m', '12h 20m', '14h 30m', '10h 50m', '1h 20m', '2h 50m', '2h 50m', '7h 20m', '11h', '24h', '27h 40m', '8h 25m', '6h 30m', '13h 20m', '4h 40m', '2h 55m', '8h 10m', '2h 35m', '2h 35m', '8h', '9h 45m', '2h 55m', '2h 50m', '2h 35m', '2h 50m', '8h 10m', '12h 20m', '6h 20m', '26h 35m', '2h 55m', '2h 15m', '6h 35m', '15h 40m', '29h 5m', '14h 55m', '9h 45m', '21h 15m', '13h 15m', '15h 25m', '15h 25m', '14h 5m', '2h 50m', '2h 45m', '2h 50m', '2h 45m', '12h', '32h 5m', '22h 55m', '14h 50m', '12h 25m', '8h 55m', '13h 30m', '1h 30m', '2h 35m', '2h 55m', '23h 30m', '18h 20m', '26h 35m', '5h 45m', '17h 5m', '13h 25m', '7h 55m', '2h 35m', '2h 30m', '8h 30m', '28h', '15h 55m', '32h 20m', '7h 35m', '9h', '2h 30m', '15h', '1h 30m', '10h 15m', '2h 15m', '17h 25m', '14h 35m', '25h 45m', '22h 25m', '2h 45m', '12h 45m', '21h 15m', '11h 45m', '2h 30m', '12h 30m', '15h 50m', '2h 35m', '7h 35m', '36h 25m', '22h 25m', '14h 25m', '2h 50m', '7h 30m', '9h 30m', '22h 40m', '6h 5m', '4h 25m', '2h 55m', '2h 50m', '2h 20m', '2h 40m', '28h', '11h 30m', '3h', '23h 5m', '3h', '28h', '2h 45m', '2h 55m', '9h 45m', '2h 35m', '5h 20m', '2h 55m', '19h 45m', '21h 40m', '7h 5m', '21h 35m', '3h', '2h 45m', '24h 30m', '4h 30m', '2h 45m', '17h 5m', '8h 40m', '14h', '10h 25m', '7h 50m', '11h 35m', '1h 30m', '9h', '25h 50m', '37h 20m', '17h 15m', '10h 25m', '9h 30m', '5h 30m', '11h 5m', '17h 25m', '6h 35m', '2h 55m', '12h 15m', '20h 55m', '28h 20m', '1h 30m', '7h 15m', '2h 55m', '14h 5m', '18h 10m', '2h 20m', '1h 20m', '27h 35m', '7h 45m', '12h 40m', '5h 15m', '16h 35m', '5h 45m', '30h 30m', '1h 25m', '11h 5m', '18h 45m', '23h 50m', '18h', '28h 5m', '27h 35m', '2h 30m', '1h 30m', '2h 20m', '3h', '2h 55m', '6h 40m', '7h 20m', '2h 50m', '27h', '24h 25m', '13h 10m', '11h 15m', '17h 35m', '2h 35m', '2h 30m', '26h 55m', '18h 50m', '6h 30m', '8h 55m', '5h 20m', '14h 20m', '13h', '10h 50m', '16h 40m', '3h 5m', '7h 45m', '2h 30m', '14h 40m', '1h 25m', '2h 55m', '2h 55m', '5h 15m', '13h 50m', '25h 45m', '2h 55m', '10h 10m', '18h 45m', '1h 30m', '2h 20m', '8h 40m', '3h', '28h 40m', '27h 10m', '21h 25m', '20h 20m', '2h 50m', '11h 30m', '12h', '23h 40m', '15h 25m', '10h 30m', '2h 40m', '26h 40m', '15h', '2h 55m', '3h', '7h 30m', '2h 15m', '22h 5m', '4h 55m', '3h', '28h 40m', '28h 15m', '9h 40m', '2h 50m', '9h 30m', '2h 50m', '3h', '24h 50m', '2h 50m', '2h 25m', '12h 10m', '24h 40m', '24h 35m', '14h', '21h 45m', '1h 30m', '11h 30m', '10h 45m', '3h', '2h 55m', '10h', '6h 35m', '1h 30m', '2h 45m', '17h 40m', '7h 55m', '2h 35m', '9h 30m', '6h 15m', '21h 40m', '20h 20m', '3h 10m', '2h 50m', '2h 30m', '20h 10m', '9h 50m', '27h 20m', '5h 10m', '37h 20m', '4h', '2h 45m', '38h', '23h 20m', '1h 25m', '14h 10m', '1h 30m', '8h 20m', '5h 25m', '1h 30m', '2h 45m', '8h 10m', '2h 30m', '6h 15m', '15h 10m', '2h 50m', '25h 40m', '16h 15m', '1h 30m', '27h 35m', '25h 45m', '13h 30m', '12h 20m', '12h 30m', '10h 15m', '27h 40m', '4h 50m', '2h 55m', '14h', '12h 45m', '1h 30m', '20h 20m', '3h 5m', '2h 20m', '1h 30m', '12h 55m', '6h 30m', '11h 45m', '7h 55m', '6h', '8h 5m', '25h 20m', '7h 5m', '3h 10m', '7h 15m', '1h 35m', '19h 10m', '27h 35m', '5h', '5h 5m', '21h 35m', '30h 20m', '1h 30m', '25h 45m', '8h 30m', '9h 50m', '6h 15m', '23h 5m', '1h 30m', '3h 15m', '16h 30m', '5h 15m', '23h 50m', '13h 15m', '25h 55m', '11h 45m', '19h 55m', '2h 50m', '10h 30m', '18h 25m', '1h 25m', '9h', '27h 55m', '5h 30m', '9h 35m', '12h 35m', '6h 10m', '26h 55m', '3h', '2h 35m', '27h 35m', '1h 30m', '2h 55m', '14h 5m', '8h 10m', '3h 10m', '2h 40m', '2h 35m', '18h 20m', '5h 15m', '10h 25m', '2h 35m', '3h 5m', '1h 30m', '37h 20m', '2h 55m', '16h 20m', '1h 20m', '24h 10m', '2h 30m', '3h 10m', '11h', '6h 30m', '2h 30m', '2h 35m', '29h 35m', '11h 5m', '2h 40m', '5h 45m', '2h 45m', '12h 25m', '18h 45m', '5h 15m', '1h 30m', '2h 55m', '7h 30m', '1h 30m', '13h', '15h 55m', '26h 55m', '25h 45m', '2h 15m', '10h 15m', '7h 35m', '16h 55m', '9h 30m', '27h 35m', '4h 25m', '17h 15m', '9h', '26h', '4h 35m', '2h 40m', '2h 45m', '2h 20m', '7h 45m', '3h 5m', '6h 25m', '17h 25m', '3h 15m', '2h 50m', '2h 50m', '12h', '10h 30m', '9h 50m', '2h 45m', '2h 45m', '13h 50m', '8h 30m', '15h', '2h 20m', '15h 5m', '8h 50m', '5h 45m', '11h 40m', '27h 45m', '2h 45m', '11h 50m', '26h 20m', '11h 35m', '6h 5m', '10h 15m', '22h 45m', '10h 30m', '20h 45m', '23h 30m', '2h 25m', '3h', '2h 30m', '1h 30m', '1h 25m', '11h', '11h 15m', '13h 20m', '23h 50m', '2h 55m', '12h 20m', '2h 45m', '2h 20m', '15h', '13h 20m', '15h 50m', '23h 35m', '2h 50m', '4h 55m', '2h 50m', '2h 55m', '3h', '2h 45m', '18h 20m', '8h 5m', '8h 40m', '9h 20m', '12h 55m', '2h 45m', '1h 30m', '1h 30m', '3h 10m', '1h 30m', '8h 35m', '1h 35m', '15h 55m', '25h 5m', '12h 15m', '24h', '19h', '14h 5m', '26h 35m', '6h 30m', '15h 30m', '21h 35m', '8h', '10h', '2h 25m', '4h 50m', '13h 45m', '19h 40m', '5h 30m', '6h 30m', '2h 50m', '2h 55m', '6h 20m', '1h 30m', '7h 40m', '11h 15m', '2h 20m', '6h 40m', '17h 35m', '2h 50m', '8h 25m', '11h 45m', '36h 25m', '2h 25m', '23h 50m', '20h', '4h 50m', '25h 35m', '6h 25m', '7h 30m', '6h 20m', '14h 55m', '2h 30m', '26h', '6h 35m', '1h 20m', '24h', '9h 35m', '5h 15m', '25h 50m', '2h 55m', '13h 20m', '4h 55m', '1h 30m', '25h', '25h 45m', '11h', '13h 20m', '12h', '38h 15m', '2h 50m', '22h 55m', '1h 25m', '14h 20m', '15h 55m', '17h 5m', '10h 15m', '26h 30m', '11h 15m', '22h 55m', '24h 5m', '12h 10m', '3h 15m', '10h 20m', '3h', '15h 40m', '11h', '4h 40m', '2h 30m', '7h 5m', '3h 5m', '5h 15m', '10h', '14h 20m', '5h 55m', '4h 50m', '6h 40m', '15h 20m', '2h 25m', '18h 20m', '3h 15m', '2h 35m', '5h', '23h 50m', '9h 20m', '7h 15m', '2h 25m', '11h 15m', '2h 50m', '19h 25m', '9h 5m', '8h 20m', '25h 35m', '15h 10m', '3h', '27h 40m', '2h 45m', '17h 5m', '16h 5m', '22h 45m', '2h 30m', '7h 30m', '2h 45m', '22h 30m', '2h 40m', '20h 55m', '30h 25m', '3h 15m', '2h 50m', '2h 50m', '18h 20m', '18h 45m', '15h 10m', '27h 45m', '5h 30m', '7h 35m', '2h 45m', '2h 30m', '2h 45m', '10h 10m', '2h 55m', '2h 50m', '7h 40m', '10h 35m', '5h 30m', '27h 30m', '1h 20m', '2h 20m', '11h 30m', '2h 50m', '4h 5m', '12h 30m', '2h 50m', '14h 30m', '2h 35m', '1h 30m', '1h 25m', '6h 40m', '2h 20m', '2h 45m', '3h 10m', '3h 10m', '2h 55m', '24h 30m', '21h 15m', '16h 5m', '30h 30m', '14h 5m', '7h 15m', '6h 25m', '12h 10m', '3h', '10h 15m', '8h 50m', '2h 25m', '2h 15m', '14h 35m', '13h 20m', '2h 35m', '20h 35m', '2h 45m', '11h', '1h 30m', '28h 50m', '21h 55m', '10h 50m', '1h 30m', '2h 45m', '23h 35m', '13h 30m', '11h 45m', '2h 50m', '1h 30m', '16h 25m', '7h 55m', '5h 45m', '16h 50m', '1h 30m', '2h 55m', '14h 55m', '1h 30m', '12h 45m', '6h 55m', '3h', '17h 35m', '14h 25m', '13h 15m', '30h', '3h', '8h 20m', '24h 50m', '5h 45m', '15h 10m', '2h 30m', '19h 25m', '6h 5m', '1h 30m', '22h 15m', '2h 15m', '13h 50m', '8h 40m', '2h 50m', '27h 35m', '12h 5m', '26h 25m', '26h 5m', '3h', '12h 45m', '1h 30m', '3h 5m', '5h 45m', '2h 30m', '1h 30m', '23h 15m', '6h 25m', '6h 20m', '8h 20m', '6h 35m', '36h 25m', '26h 35m', '24h 40m', '25h 20m', '2h 50m', '27h 45m', '7h 5m', '16h 50m', '2h 30m', '15h 30m', '2h 50m', '22h 55m', '15h 10m', '2h 50m', '2h 55m', '1h 30m', '2h 40m', '23h 35m', '2h 50m', '4h 30m', '2h 15m', '6h 40m', '18h 20m', '2h 50m', '11h 50m', '5h 35m', '20h', '1h 30m', '4h 50m', '2h 50m', '13h 25m', '12h 15m', '2h 20m', '3h', '21h 55m', '7h 35m', '2h 50m', '8h 25m', '2h 45m', '1h 30m', '3h', '10h 5m', '14h 50m', '2h 45m', '7h 20m', '6h 25m', '2h 30m', '11h', '9h', '7h 55m', '12h', '2h 45m', '9h 20m', '22h 55m', '9h 35m', '1h 30m', '8h', '26h 55m', '2h 35m', '12h 30m', '5h 15m', '9h 35m', '7h 30m', '19h 25m', '5h 15m', '8h 10m', '2h 55m', '12h 25m', '27h 10m', '23h 45m', '15h 15m', '10h', '9h 30m', '10h', '6h 20m', '12h 30m', '14h 55m', '2h 25m', '2h 55m', '26h 20m', '25h 45m', '33h 15m', '8h 30m', '1h 25m', '2h 30m', '1h 30m', '11h 25m', '20h 10m', '6h 25m', '5h 30m', '1h 25m', '15h 10m', '2h 50m', '22h', '2h 45m', '7h 15m', '2h 15m', '10h', '25h', '3h 5m', '23h 15m', '3h 10m', '13h 45m', '2h 20m', '2h 50m', '7h 30m', '6h 25m', '11h 30m', '11h 50m', '9h 30m', '2h 35m', '15h 40m', '19h 5m', '5h 45m', '14h', '9h 35m', '9h 10m', '10h 30m', '24h 30m', '2h 55m', '5h 10m', '6h 15m', '10h', '23h 45m', '2h 20m', '13h 15m', '5h 20m', '22h 5m', '12h 30m', '2h 50m', '1h 30m', '21h 25m', '17h 25m', '2h 25m', '16h', '2h 15m', '4h 35m', '15h 20m', '12h 30m', '18h', '5h 15m', '1h 25m', '2h 45m', '6h 40m', '5h 30m', '18h 45m', '2h 45m', '13h', '1h 30m', '1h 30m', '8h 40m', '29h 5m', '2h 15m', '26h 35m', '2h 55m', '3h 40m', '23h 30m', '5h 15m', '13h 30m', '13h 30m', '14h 25m', '11h 5m', '7h 30m', '3h', '9h 30m', '3h', '2h 35m', '2h 40m', '20h 45m', '5h 40m', '8h 10m', '10h 20m', '10h 15m', '1h 30m', '9h 40m', '13h 20m', '20h 55m', '10h 15m', '2h 55m', '30h 30m', '26h 10m', '2h 45m', '7h 20m', '14h 35m', '14h 50m', '12h 10m', '13h 30m', '6h 15m', '5h 50m', '3h', '12h 30m', '2h 50m', '12h 30m', '12h 25m', '24h 40m', '10h 55m', '23h 15m', '1h 30m', '11h 25m', '5h 10m', '26h 55m', '18h 45m', '2h 45m', '2h 15m', '19h 25m', '8h', '11h 20m', '13h 15m', '2h 35m', '26h 20m', '8h 55m', '2h 40m', '26h', '16h 45m', '22h', '2h 35m', '10h 40m', '9h 10m', '12h 25m', '4h 35m', '7h 30m', '3h', '9h 15m', '6h 15m', '3h', '20h 20m', '13h 20m', '13h 20m', '22h 25m', '1h 30m', '4h 45m', '2h 35m', '13h 15m', '7h 35m', '27h 10m', '24h 25m', '16h 55m', '5h', '14h 55m', '3h', '12h 15m', '14h 45m', '2h 35m', '1h 30m', '7h 30m', '40h 40m', '23h 15m', '2h 30m', '10h 30m', '26h 20m', '2h 50m', '22h 45m', '18h 20m', '24h 50m', '2h 20m', '2h 40m', '2h 50m', '2h 50m', '23h 15m', '25h 20m', '18h', '13h 30m', '5h 35m', '12h', '3h 15m', '13h 20m', '2h 55m', '2h 50m', '2h 20m', '2h 45m', '2h 45m', '11h 15m', '26h 5m', '1h 30m', '13h 30m', '12h 10m', '12h 30m', '12h 25m', '9h 45m', '8h', '14h 35m', '8h 25m', '3h 5m', '12h 15m', '1h 20m', '3h 15m', '15h 10m', '25h 30m', '17h 25m', '2h 50m', '26h 30m', '1h 30m', '13h 20m', '9h 20m', '16h 15m', '13h 20m', '8h 35m', '4h 25m', '27h 35m', '1h 30m', '5h 15m', '2h 35m', '13h 15m', '2h 50m', '9h', '8h 20m', '27h 45m', '2h 40m', '17h 5m', '5h 15m', '24h 50m', '7h 35m', '8h 50m', '2h 15m', '22h 5m', '22h 5m', '6h 10m', '10h 25m', '11h 15m', '11h 25m', '2h 50m', '22h 50m', '1h 30m', '8h 25m', '11h 25m', '2h 50m', '15h 55m', '3h', '32h 25m', '2h 50m', '17h 30m', '7h 25m', '1h 20m', '2h 40m', '33h 15m', '27h', '5h 40m', '4h 20m', '3h', '6h 20m', '2h 35m', '11h', '2h 45m', '2h 55m', '15h 25m', '2h 45m', '25h 40m', '11h 5m', '24h 20m', '8h 25m', '11h 55m', '4h 30m', '8h 55m', '2h 40m', '2h 45m', '12h 55m', '9h 15m', '15h 15m', '38h 35m', '9h 55m', '2h 40m', '6h 15m', '22h 5m', '1h 20m', '15h 10m', '5h 5m', '14h 20m', '5h 15m', '2h 55m', '1h 30m', '8h 30m', '3h 5m', '26h 55m', '14h', '7h 35m', '9h 30m', '24h 30m', '5h 30m', '38h 20m', '25h 35m', '30h 40m', '2h 35m', '15h 40m', '2h 55m', '18h 30m', '10h 15m', '2h 50m', '1h 30m', '4h 30m', '9h 45m', '2h 25m', '1h 30m', '4h 55m', '8h 50m', '17h 55m', '21h 15m', '11h 25m', '27h 40m', '2h 40m', '10h 10m', '2h 55m', '9h 20m', '14h', '4h 50m', '5h 15m', '17h 35m', '3h 10m', '18h 25m', '2h 30m', '18h 45m', '16h 15m', '6h 20m', '1h 35m', '26h 55m', '2h 35m', '21h 45m', '19h 55m', '23h 40m', '1h 15m', '9h', '5h 30m', '2h 50m', '21h 15m', '11h', '25h 40m', '2h 15m', '9h 15m', '11h 45m', '14h 55m', '2h 40m', '2h 20m', '24h 45m', '3h 15m', '15h 25m', '2h 20m', '5h', '2h 45m', '2h 35m', '3h', '13h 30m', '2h 15m', '1h 15m', '19h 55m', '2h 50m', '13h', '1h 30m', '12h 30m', '21h 55m', '20h 35m', '15h 10m', '7h 20m', '3h', '2h 50m', '1h 20m', '9h 20m', '5h', '1h 20m', '14h', '2h 35m', '10h 45m', '13h 55m', '20h 10m', '2h 30m', '11h 20m', '15h 5m', '5h 15m', '2h 35m', '12h 10m', '12h 45m', '2h 50m', '2h 35m', '9h 15m', '7h 5m', '13h 55m', '3h', '15h 20m', '2h 45m', '7h 35m', '25h 10m', '10h 15m', '13h 20m', '2h 20m', '2h 55m', '2h 55m', '11h', '12h 15m', '27h 20m', '2h 55m', '13h 30m', '7h 30m', '10h', '8h 35m', '16h 45m', '13h', '2h 35m', '1h 30m', '2h 20m', '13h 50m', '10h 50m', '2h 20m', '2h 50m', '12h 50m', '2h 15m', '3h 15m', '29h 5m', '11h 40m', '6h 40m', '2h 45m', '3h', '20h 15m', '2h 55m', '2h 45m', '2h 45m', '22h 30m', '7h 30m', '2h 40m', '16h 5m', '6h 35m', '1h 30m', '2h 30m', '5h 25m', '7h 20m', '13h 20m', '3h 5m', '12h 45m', '19h 55m', '2h 50m', '11h 30m', '13h 45m', '23h 40m', '11h 30m', '9h 20m', '29h 20m', '16h 10m', '3h 15m', '2h 40m', '27h 5m', '12h 30m', '14h 20m', '6h 5m', '24h 40m', '9h 20m', '12h 10m', '14h 20m', '21h 10m', '7h 5m', '5m', '33h 15m', '1h 30m', '8h 15m', '10h 15m', '1h 30m', '23h 55m', '2h 35m', '6h 35m', '15h 15m', '14h 20m']\n"
          ]
        }
      ]
    },
    {
      "cell_type": "code",
      "metadata": {
        "id": "OLnOBMgjQute"
      },
      "source": [
        "#airline\n",
        "airline= test_data[['Airline']]\n",
        "airline= pd.get_dummies(airline, drop_first=True)  "
      ],
      "execution_count": 181,
      "outputs": []
    },
    {
      "cell_type": "code",
      "metadata": {
        "id": "_cQuUPGsQurJ"
      },
      "source": [
        "#Source\n",
        "source= test_data[['Source']]\n",
        "source= pd.get_dummies(source, drop_first=True)"
      ],
      "execution_count": 182,
      "outputs": []
    },
    {
      "cell_type": "code",
      "metadata": {
        "id": "5rjVUzYHQuoh"
      },
      "source": [
        "#Destination\n",
        "destination=test_data[['Destination']]\n",
        "destination= pd.get_dummies(destination, drop_first=True)"
      ],
      "execution_count": 183,
      "outputs": []
    },
    {
      "cell_type": "code",
      "metadata": {
        "id": "Cv5vfeR2QumP"
      },
      "source": [
        "#Route.Drop Route col\n",
        "test_data.drop(['Route'],axis=1, inplace=True)"
      ],
      "execution_count": 184,
      "outputs": []
    },
    {
      "cell_type": "code",
      "metadata": {
        "id": "3eI3OqCcQujB"
      },
      "source": [
        "#Additional_Info. Drop col 'Additional_Info'\n",
        "test_data.drop(['Additional_Info'],axis=1, inplace=True)"
      ],
      "execution_count": 185,
      "outputs": []
    },
    {
      "cell_type": "code",
      "metadata": {
        "id": "aOe5oDy-QueB"
      },
      "source": [
        "#Total_stops\n",
        "test_data.replace({\"non-stop\": 0, \"1 stop\": 1, \"2 stops\": 2, \"3 stops\": 3, \"4 stops\": 4}, inplace = True)"
      ],
      "execution_count": 186,
      "outputs": []
    },
    {
      "cell_type": "code",
      "metadata": {
        "id": "ON4t2BXHR2oW"
      },
      "source": [
        "# Concatenate dataframe --> test_data + Airline + Source + Destination And delete the col of airline, source and destination\n",
        "final_test_data = pd.concat([test_data, airline, source, destination], axis = 1)\n",
        "final_test_data.drop([\"Airline\", \"Source\", \"Destination\"], axis = 1, inplace = True)"
      ],
      "execution_count": 188,
      "outputs": []
    },
    {
      "cell_type": "code",
      "metadata": {
        "colab": {
          "base_uri": "https://localhost:8080/"
        },
        "id": "lD3y6ugKR2jA",
        "outputId": "e1c2456b-b67e-402e-a280-04e5b44e955c"
      },
      "source": [
        "final_test_data.shape\n",
        "final_test_data.info()"
      ],
      "execution_count": 189,
      "outputs": [
        {
          "output_type": "stream",
          "name": "stdout",
          "text": [
            "<class 'pandas.core.frame.DataFrame'>\n",
            "Int64Index: 2671 entries, 0 to 2670\n",
            "Data columns (total 28 columns):\n",
            " #   Column                                     Non-Null Count  Dtype\n",
            "---  ------                                     --------------  -----\n",
            " 0   Total_Stops                                2671 non-null   int64\n",
            " 1   day_of_Journey                             2671 non-null   int64\n",
            " 2   month_of_Journey                           2671 non-null   int64\n",
            " 3   hour_of_Dep                                2671 non-null   int64\n",
            " 4   min_of_Dep                                 2671 non-null   int64\n",
            " 5   hour_of_arrival                            2671 non-null   int64\n",
            " 6   min_of_arrival                             2671 non-null   int64\n",
            " 7   Duration_hours                             2671 non-null   int64\n",
            " 8   Duration_mins                              2671 non-null   int64\n",
            " 9   Airline_Air India                          2671 non-null   uint8\n",
            " 10  Airline_GoAir                              2671 non-null   uint8\n",
            " 11  Airline_IndiGo                             2671 non-null   uint8\n",
            " 12  Airline_Jet Airways                        2671 non-null   uint8\n",
            " 13  Airline_Jet Airways Business               2671 non-null   uint8\n",
            " 14  Airline_Multiple carriers                  2671 non-null   uint8\n",
            " 15  Airline_Multiple carriers Premium economy  2671 non-null   uint8\n",
            " 16  Airline_SpiceJet                           2671 non-null   uint8\n",
            " 17  Airline_Vistara                            2671 non-null   uint8\n",
            " 18  Airline_Vistara Premium economy            2671 non-null   uint8\n",
            " 19  Source_Chennai                             2671 non-null   uint8\n",
            " 20  Source_Delhi                               2671 non-null   uint8\n",
            " 21  Source_Kolkata                             2671 non-null   uint8\n",
            " 22  Source_Mumbai                              2671 non-null   uint8\n",
            " 23  Destination_Cochin                         2671 non-null   uint8\n",
            " 24  Destination_Delhi                          2671 non-null   uint8\n",
            " 25  Destination_Hyderabad                      2671 non-null   uint8\n",
            " 26  Destination_Kolkata                        2671 non-null   uint8\n",
            " 27  Destination_New Delhi                      2671 non-null   uint8\n",
            "dtypes: int64(9), uint8(19)\n",
            "memory usage: 258.2 KB\n"
          ]
        }
      ]
    },
    {
      "cell_type": "code",
      "metadata": {
        "colab": {
          "base_uri": "https://localhost:8080/"
        },
        "id": "9ZmDYRkaR2gT",
        "outputId": "c4e24d1e-1046-410e-d86a-a4d1716915c6"
      },
      "source": [
        "Data_Train.shape\n",
        "Data_Train.info()"
      ],
      "execution_count": null,
      "outputs": [
        {
          "output_type": "stream",
          "name": "stdout",
          "text": [
            "<class 'pandas.core.frame.DataFrame'>\n",
            "Int64Index: 10682 entries, 0 to 10682\n",
            "Data columns (total 30 columns):\n",
            " #   Column                                     Non-Null Count  Dtype\n",
            "---  ------                                     --------------  -----\n",
            " 0   Total_Stops                                10682 non-null  int64\n",
            " 1   Price                                      10682 non-null  int64\n",
            " 2   day_of_Journey                             10682 non-null  int64\n",
            " 3   month_of_Journey                           10682 non-null  int64\n",
            " 4   hour_of_Dep                                10682 non-null  int64\n",
            " 5   min_of_Dep                                 10682 non-null  int64\n",
            " 6   hour_of_arrival                            10682 non-null  int64\n",
            " 7   min_of_arrival                             10682 non-null  int64\n",
            " 8   Duration_hours                             10682 non-null  int64\n",
            " 9   Duration_mins                              10682 non-null  int64\n",
            " 10  Airline_Air India                          10682 non-null  uint8\n",
            " 11  Airline_GoAir                              10682 non-null  uint8\n",
            " 12  Airline_IndiGo                             10682 non-null  uint8\n",
            " 13  Airline_Jet Airways                        10682 non-null  uint8\n",
            " 14  Airline_Jet Airways Business               10682 non-null  uint8\n",
            " 15  Airline_Multiple carriers                  10682 non-null  uint8\n",
            " 16  Airline_Multiple carriers Premium economy  10682 non-null  uint8\n",
            " 17  Airline_SpiceJet                           10682 non-null  uint8\n",
            " 18  Airline_Trujet                             10682 non-null  uint8\n",
            " 19  Airline_Vistara                            10682 non-null  uint8\n",
            " 20  Airline_Vistara Premium economy            10682 non-null  uint8\n",
            " 21  Source_Chennai                             10682 non-null  uint8\n",
            " 22  Source_Delhi                               10682 non-null  uint8\n",
            " 23  Source_Kolkata                             10682 non-null  uint8\n",
            " 24  Source_Mumbai                              10682 non-null  uint8\n",
            " 25  Destination_Cochin                         10682 non-null  uint8\n",
            " 26  Destination_Delhi                          10682 non-null  uint8\n",
            " 27  Destination_Hyderabad                      10682 non-null  uint8\n",
            " 28  Destination_Kolkata                        10682 non-null  uint8\n",
            " 29  Destination_New Delhi                      10682 non-null  uint8\n",
            "dtypes: int64(10), uint8(20)\n",
            "memory usage: 1.4 MB\n"
          ]
        }
      ]
    },
    {
      "cell_type": "markdown",
      "metadata": {
        "id": "wv11TisDzd4I"
      },
      "source": [
        "\n",
        "**Feature Selection**\n",
        "\n",
        "Finding out the best feature which will contribute and have good relation with target variable. Following are some of the feature selection methods,\n",
        "\n",
        "**heatmap**\n",
        "\n",
        "**feature_importance_**\n",
        "\n",
        "**SelectKBest**"
      ]
    },
    {
      "cell_type": "code",
      "metadata": {
        "colab": {
          "base_uri": "https://localhost:8080/"
        },
        "id": "Z7ER5GEg-ueQ",
        "outputId": "e2bc93a4-3eb0-4e40-8493-521bcd4c9ff5"
      },
      "source": [
        "final_Train_data.columns"
      ],
      "execution_count": 190,
      "outputs": [
        {
          "output_type": "execute_result",
          "data": {
            "text/plain": [
              "Index(['Total_Stops', 'Price', 'day_of_Journey', 'month_of_Journey',\n",
              "       'hour_of_Dep', 'min_of_Dep', 'hour_of_arrival', 'min_of_arrival',\n",
              "       'Duration_hours', 'Duration_mins', 'Airline_Air India', 'Airline_GoAir',\n",
              "       'Airline_IndiGo', 'Airline_Jet Airways', 'Airline_Jet Airways Business',\n",
              "       'Airline_Multiple carriers',\n",
              "       'Airline_Multiple carriers Premium economy', 'Airline_SpiceJet',\n",
              "       'Airline_Trujet', 'Airline_Vistara', 'Airline_Vistara Premium economy',\n",
              "       'Source_Chennai', 'Source_Delhi', 'Source_Kolkata', 'Source_Mumbai',\n",
              "       'Destination_Cochin', 'Destination_Delhi', 'Destination_Hyderabad',\n",
              "       'Destination_Kolkata', 'Destination_New Delhi'],\n",
              "      dtype='object')"
            ]
          },
          "metadata": {},
          "execution_count": 190
        }
      ]
    },
    {
      "cell_type": "markdown",
      "metadata": {
        "id": "o_dProhi1-_R"
      },
      "source": [
        "Select the independed features.\n"
      ]
    },
    {
      "cell_type": "code",
      "metadata": {
        "colab": {
          "base_uri": "https://localhost:8080/",
          "height": 261
        },
        "id": "cnE4ElxN7_V1",
        "outputId": "875c3c9d-87ba-4d42-9481-2a71ed3660e6"
      },
      "source": [
        "#Price (dependend) col is not in this list\n",
        "x_independed = final_Train_data.loc[:, ['Total_Stops', 'day_of_Journey', 'month_of_Journey',\n",
        "       'hour_of_Dep', 'min_of_Dep', 'hour_of_arrival', 'min_of_arrival',\n",
        "       'Duration_hours', 'Duration_mins', 'Airline_Air India', 'Airline_GoAir',\n",
        "       'Airline_IndiGo', 'Airline_Jet Airways', 'Airline_Jet Airways Business',\n",
        "       'Airline_Multiple carriers',\n",
        "       'Airline_Multiple carriers Premium economy', 'Airline_SpiceJet',\n",
        "       'Airline_Trujet', 'Airline_Vistara', 'Airline_Vistara Premium economy',\n",
        "       'Source_Chennai', 'Source_Delhi', 'Source_Kolkata', 'Source_Mumbai',\n",
        "       'Destination_Cochin', 'Destination_Delhi', 'Destination_Hyderabad',\n",
        "       'Destination_Kolkata', 'Destination_New Delhi']]\n",
        "x_independed.head()"
      ],
      "execution_count": 195,
      "outputs": [
        {
          "output_type": "execute_result",
          "data": {
            "text/html": [
              "<div>\n",
              "<style scoped>\n",
              "    .dataframe tbody tr th:only-of-type {\n",
              "        vertical-align: middle;\n",
              "    }\n",
              "\n",
              "    .dataframe tbody tr th {\n",
              "        vertical-align: top;\n",
              "    }\n",
              "\n",
              "    .dataframe thead th {\n",
              "        text-align: right;\n",
              "    }\n",
              "</style>\n",
              "<table border=\"1\" class=\"dataframe\">\n",
              "  <thead>\n",
              "    <tr style=\"text-align: right;\">\n",
              "      <th></th>\n",
              "      <th>Total_Stops</th>\n",
              "      <th>day_of_Journey</th>\n",
              "      <th>month_of_Journey</th>\n",
              "      <th>hour_of_Dep</th>\n",
              "      <th>min_of_Dep</th>\n",
              "      <th>hour_of_arrival</th>\n",
              "      <th>min_of_arrival</th>\n",
              "      <th>Duration_hours</th>\n",
              "      <th>Duration_mins</th>\n",
              "      <th>Airline_Air India</th>\n",
              "      <th>Airline_GoAir</th>\n",
              "      <th>Airline_IndiGo</th>\n",
              "      <th>Airline_Jet Airways</th>\n",
              "      <th>Airline_Jet Airways Business</th>\n",
              "      <th>Airline_Multiple carriers</th>\n",
              "      <th>Airline_Multiple carriers Premium economy</th>\n",
              "      <th>Airline_SpiceJet</th>\n",
              "      <th>Airline_Trujet</th>\n",
              "      <th>Airline_Vistara</th>\n",
              "      <th>Airline_Vistara Premium economy</th>\n",
              "      <th>Source_Chennai</th>\n",
              "      <th>Source_Delhi</th>\n",
              "      <th>Source_Kolkata</th>\n",
              "      <th>Source_Mumbai</th>\n",
              "      <th>Destination_Cochin</th>\n",
              "      <th>Destination_Delhi</th>\n",
              "      <th>Destination_Hyderabad</th>\n",
              "      <th>Destination_Kolkata</th>\n",
              "      <th>Destination_New Delhi</th>\n",
              "    </tr>\n",
              "  </thead>\n",
              "  <tbody>\n",
              "    <tr>\n",
              "      <th>0</th>\n",
              "      <td>0</td>\n",
              "      <td>24</td>\n",
              "      <td>3</td>\n",
              "      <td>22</td>\n",
              "      <td>20</td>\n",
              "      <td>1</td>\n",
              "      <td>10</td>\n",
              "      <td>2</td>\n",
              "      <td>50</td>\n",
              "      <td>0</td>\n",
              "      <td>0</td>\n",
              "      <td>1</td>\n",
              "      <td>0</td>\n",
              "      <td>0</td>\n",
              "      <td>0</td>\n",
              "      <td>0</td>\n",
              "      <td>0</td>\n",
              "      <td>0</td>\n",
              "      <td>0</td>\n",
              "      <td>0</td>\n",
              "      <td>0</td>\n",
              "      <td>0</td>\n",
              "      <td>0</td>\n",
              "      <td>0</td>\n",
              "      <td>0</td>\n",
              "      <td>0</td>\n",
              "      <td>0</td>\n",
              "      <td>0</td>\n",
              "      <td>1</td>\n",
              "    </tr>\n",
              "    <tr>\n",
              "      <th>1</th>\n",
              "      <td>2</td>\n",
              "      <td>5</td>\n",
              "      <td>1</td>\n",
              "      <td>5</td>\n",
              "      <td>50</td>\n",
              "      <td>13</td>\n",
              "      <td>15</td>\n",
              "      <td>7</td>\n",
              "      <td>25</td>\n",
              "      <td>1</td>\n",
              "      <td>0</td>\n",
              "      <td>0</td>\n",
              "      <td>0</td>\n",
              "      <td>0</td>\n",
              "      <td>0</td>\n",
              "      <td>0</td>\n",
              "      <td>0</td>\n",
              "      <td>0</td>\n",
              "      <td>0</td>\n",
              "      <td>0</td>\n",
              "      <td>0</td>\n",
              "      <td>0</td>\n",
              "      <td>1</td>\n",
              "      <td>0</td>\n",
              "      <td>0</td>\n",
              "      <td>0</td>\n",
              "      <td>0</td>\n",
              "      <td>0</td>\n",
              "      <td>0</td>\n",
              "    </tr>\n",
              "    <tr>\n",
              "      <th>2</th>\n",
              "      <td>2</td>\n",
              "      <td>6</td>\n",
              "      <td>9</td>\n",
              "      <td>9</td>\n",
              "      <td>25</td>\n",
              "      <td>4</td>\n",
              "      <td>25</td>\n",
              "      <td>19</td>\n",
              "      <td>0</td>\n",
              "      <td>0</td>\n",
              "      <td>0</td>\n",
              "      <td>0</td>\n",
              "      <td>1</td>\n",
              "      <td>0</td>\n",
              "      <td>0</td>\n",
              "      <td>0</td>\n",
              "      <td>0</td>\n",
              "      <td>0</td>\n",
              "      <td>0</td>\n",
              "      <td>0</td>\n",
              "      <td>0</td>\n",
              "      <td>1</td>\n",
              "      <td>0</td>\n",
              "      <td>0</td>\n",
              "      <td>1</td>\n",
              "      <td>0</td>\n",
              "      <td>0</td>\n",
              "      <td>0</td>\n",
              "      <td>0</td>\n",
              "    </tr>\n",
              "    <tr>\n",
              "      <th>3</th>\n",
              "      <td>1</td>\n",
              "      <td>5</td>\n",
              "      <td>12</td>\n",
              "      <td>18</td>\n",
              "      <td>5</td>\n",
              "      <td>23</td>\n",
              "      <td>30</td>\n",
              "      <td>5</td>\n",
              "      <td>25</td>\n",
              "      <td>0</td>\n",
              "      <td>0</td>\n",
              "      <td>1</td>\n",
              "      <td>0</td>\n",
              "      <td>0</td>\n",
              "      <td>0</td>\n",
              "      <td>0</td>\n",
              "      <td>0</td>\n",
              "      <td>0</td>\n",
              "      <td>0</td>\n",
              "      <td>0</td>\n",
              "      <td>0</td>\n",
              "      <td>0</td>\n",
              "      <td>1</td>\n",
              "      <td>0</td>\n",
              "      <td>0</td>\n",
              "      <td>0</td>\n",
              "      <td>0</td>\n",
              "      <td>0</td>\n",
              "      <td>0</td>\n",
              "    </tr>\n",
              "    <tr>\n",
              "      <th>4</th>\n",
              "      <td>1</td>\n",
              "      <td>3</td>\n",
              "      <td>1</td>\n",
              "      <td>16</td>\n",
              "      <td>50</td>\n",
              "      <td>21</td>\n",
              "      <td>35</td>\n",
              "      <td>4</td>\n",
              "      <td>45</td>\n",
              "      <td>0</td>\n",
              "      <td>0</td>\n",
              "      <td>1</td>\n",
              "      <td>0</td>\n",
              "      <td>0</td>\n",
              "      <td>0</td>\n",
              "      <td>0</td>\n",
              "      <td>0</td>\n",
              "      <td>0</td>\n",
              "      <td>0</td>\n",
              "      <td>0</td>\n",
              "      <td>0</td>\n",
              "      <td>0</td>\n",
              "      <td>0</td>\n",
              "      <td>0</td>\n",
              "      <td>0</td>\n",
              "      <td>0</td>\n",
              "      <td>0</td>\n",
              "      <td>0</td>\n",
              "      <td>1</td>\n",
              "    </tr>\n",
              "  </tbody>\n",
              "</table>\n",
              "</div>"
            ],
            "text/plain": [
              "   Total_Stops  day_of_Journey  month_of_Journey  hour_of_Dep  min_of_Dep  \\\n",
              "0            0              24                 3           22          20   \n",
              "1            2               5                 1            5          50   \n",
              "2            2               6                 9            9          25   \n",
              "3            1               5                12           18           5   \n",
              "4            1               3                 1           16          50   \n",
              "\n",
              "   hour_of_arrival  min_of_arrival  Duration_hours  Duration_mins  \\\n",
              "0                1              10               2             50   \n",
              "1               13              15               7             25   \n",
              "2                4              25              19              0   \n",
              "3               23              30               5             25   \n",
              "4               21              35               4             45   \n",
              "\n",
              "   Airline_Air India  Airline_GoAir  Airline_IndiGo  Airline_Jet Airways  \\\n",
              "0                  0              0               1                    0   \n",
              "1                  1              0               0                    0   \n",
              "2                  0              0               0                    1   \n",
              "3                  0              0               1                    0   \n",
              "4                  0              0               1                    0   \n",
              "\n",
              "   Airline_Jet Airways Business  Airline_Multiple carriers  \\\n",
              "0                             0                          0   \n",
              "1                             0                          0   \n",
              "2                             0                          0   \n",
              "3                             0                          0   \n",
              "4                             0                          0   \n",
              "\n",
              "   Airline_Multiple carriers Premium economy  Airline_SpiceJet  \\\n",
              "0                                          0                 0   \n",
              "1                                          0                 0   \n",
              "2                                          0                 0   \n",
              "3                                          0                 0   \n",
              "4                                          0                 0   \n",
              "\n",
              "   Airline_Trujet  Airline_Vistara  Airline_Vistara Premium economy  \\\n",
              "0               0                0                                0   \n",
              "1               0                0                                0   \n",
              "2               0                0                                0   \n",
              "3               0                0                                0   \n",
              "4               0                0                                0   \n",
              "\n",
              "   Source_Chennai  Source_Delhi  Source_Kolkata  Source_Mumbai  \\\n",
              "0               0             0               0              0   \n",
              "1               0             0               1              0   \n",
              "2               0             1               0              0   \n",
              "3               0             0               1              0   \n",
              "4               0             0               0              0   \n",
              "\n",
              "   Destination_Cochin  Destination_Delhi  Destination_Hyderabad  \\\n",
              "0                   0                  0                      0   \n",
              "1                   0                  0                      0   \n",
              "2                   1                  0                      0   \n",
              "3                   0                  0                      0   \n",
              "4                   0                  0                      0   \n",
              "\n",
              "   Destination_Kolkata  Destination_New Delhi  \n",
              "0                    0                      1  \n",
              "1                    0                      0  \n",
              "2                    0                      0  \n",
              "3                    0                      0  \n",
              "4                    0                      1  "
            ]
          },
          "metadata": {},
          "execution_count": 195
        }
      ]
    },
    {
      "cell_type": "code",
      "metadata": {
        "colab": {
          "base_uri": "https://localhost:8080/"
        },
        "id": "EfZY8srtAWx4",
        "outputId": "86862d75-e545-421f-b4c9-0f3c7e6b4aa3"
      },
      "source": [
        "y_depended = final_Train_data.iloc[:, 1]\n",
        "y_depended.head()"
      ],
      "execution_count": 196,
      "outputs": [
        {
          "output_type": "execute_result",
          "data": {
            "text/plain": [
              "0     3897\n",
              "1     7662\n",
              "2    13882\n",
              "3     6218\n",
              "4    13302\n",
              "Name: Price, dtype: int64"
            ]
          },
          "metadata": {},
          "execution_count": 196
        }
      ]
    },
    {
      "cell_type": "markdown",
      "metadata": {
        "id": "lpm2hqEU9YEG"
      },
      "source": [
        "If two or more independent features are highly correlated , we can drop one or two features. To find the important features we are using ExtraTreeRegressor. "
      ]
    },
    {
      "cell_type": "code",
      "metadata": {
        "colab": {
          "base_uri": "https://localhost:8080/",
          "height": 1000
        },
        "id": "h0Evp67x9_Lz",
        "outputId": "7a6a0e94-a8bf-4d56-8c35-921ed9600695"
      },
      "source": [
        "# Finds correlation between Independent and dependent attributes\n",
        "plt.figure(figsize = (18,18))\n",
        "sns.heatmap(train_data.corr(), annot = True, cmap = \"RdYlGn\")\n",
        "\n",
        "plt.show()"
      ],
      "execution_count": 198,
      "outputs": [
        {
          "output_type": "display_data",
          "data": {
            "image/png": "[encoded data removed]",
            "text/plain": [
              "<Figure size 1296x1296 with 2 Axes>"
            ]
          },
          "metadata": {
            "needs_background": "light"
          }
        }
      ]
    },
    {
      "cell_type": "code",
      "metadata": {
        "colab": {
          "base_uri": "https://localhost:8080/"
        },
        "id": "E8wBqAo18Zf6",
        "outputId": "0fea8db0-637e-41fe-84ce-ac98a0d5c0d3"
      },
      "source": [
        "#Find the highly correlated features.\n",
        "#since it is a small data set and only one feature having correlation more than 90%, we are not dropping this from data set\n",
        "correlated_features = set()\n",
        "correlation_matrix = train_data.corr()\n",
        "for i in range(len(correlation_matrix .columns)):\n",
        "    for j in range(i):\n",
        "        if abs(correlation_matrix.iloc[i, j]) > 0.9:\n",
        "            colname = correlation_matrix.columns[i]\n",
        "            correlated_features.add(colname)\n",
        "print(correlated_features)"
      ],
      "execution_count": 205,
      "outputs": [
        {
          "output_type": "stream",
          "name": "stdout",
          "text": [
            "set()\n"
          ]
        }
      ]
    },
    {
      "cell_type": "code",
      "metadata": {
        "colab": {
          "base_uri": "https://localhost:8080/"
        },
        "id": "dSsSR_O59_DA",
        "outputId": "b177ad90-9739-4420-f655-f60e40456603"
      },
      "source": [
        "# Important feature using ExtraTreesRegressor\n",
        "from sklearn.ensemble import ExtraTreesRegressor\n",
        "selection = ExtraTreesRegressor()\n",
        "selection.fit(x_independed, y_depended)"
      ],
      "execution_count": 199,
      "outputs": [
        {
          "output_type": "execute_result",
          "data": {
            "text/plain": [
              "ExtraTreesRegressor(bootstrap=False, ccp_alpha=0.0, criterion='mse',\n",
              "                    max_depth=None, max_features='auto', max_leaf_nodes=None,\n",
              "                    max_samples=None, min_impurity_decrease=0.0,\n",
              "                    min_impurity_split=None, min_samples_leaf=1,\n",
              "                    min_samples_split=2, min_weight_fraction_leaf=0.0,\n",
              "                    n_estimators=100, n_jobs=None, oob_score=False,\n",
              "                    random_state=None, verbose=0, warm_start=False)"
            ]
          },
          "metadata": {},
          "execution_count": 199
        }
      ]
    },
    {
      "cell_type": "code",
      "metadata": {
        "colab": {
          "base_uri": "https://localhost:8080/"
        },
        "id": "stINNh9jAlfl",
        "outputId": "c12e0ccb-8b1d-4d9c-82a7-ffb449602da1"
      },
      "source": [
        "print(selection.feature_importances_)"
      ],
      "execution_count": 200,
      "outputs": [
        {
          "output_type": "stream",
          "name": "stdout",
          "text": [
            "[2.22078464e-01 1.08763130e-01 8.46622995e-02 2.57082550e-02\n",
            " 2.17127152e-02 2.98537327e-02 2.11353948e-02 1.04684092e-01\n",
            " 1.77983959e-02 1.10792216e-02 1.73527118e-03 1.70212132e-02\n",
            " 1.49294990e-01 6.68976670e-02 1.86610706e-02 1.00948813e-03\n",
            " 3.17892467e-03 9.64188998e-05 5.62773240e-03 1.37262181e-04\n",
            " 4.65094111e-04 1.09366253e-02 4.55165908e-03 6.86522194e-03\n",
            " 1.58489922e-02 1.93268385e-02 7.38246558e-03 4.92533256e-04\n",
            " 2.29948316e-02]\n"
          ]
        }
      ]
    },
    {
      "cell_type": "code",
      "metadata": {
        "colab": {
          "base_uri": "https://localhost:8080/",
          "height": 483
        },
        "id": "aVwgg6kfAlcu",
        "outputId": "c99fcac2-3221-4a44-975b-d8940be1b0eb"
      },
      "source": [
        "#plot graph of feature importances for better visualization\n",
        "plt.figure(figsize = (12,8))\n",
        "feat_importances = pd.Series(selection.feature_importances_, index=x_independed.columns)\n",
        "feat_importances.nlargest(20).plot(kind='barh')\n",
        "plt.show()\n",
        "#from the graph , its clear that total_stop has more importance"
      ],
      "execution_count": 201,
      "outputs": [
        {
          "output_type": "display_data",
          "data": {
            "image/png": "[encoded data removed]",
            "text/plain": [
              "<Figure size 864x576 with 1 Axes>"
            ]
          },
          "metadata": {
            "needs_background": "light"
          }
        }
      ]
    },
    {
      "cell_type": "code",
      "metadata": {
        "id": "Qe-4_pa3AlZ-"
      },
      "source": [
        ""
      ],
      "execution_count": null,
      "outputs": []
    },
    {
      "cell_type": "markdown",
      "metadata": {
        "id": "Ry7p-ZHwEqGm"
      },
      "source": [
        "Implement the different algorithms and find the best fit.\n",
        "\n",
        "1. Split dataset into train and test set in order to prediction w.r.t X_test\n"
      ]
    },
    {
      "cell_type": "code",
      "metadata": {
        "id": "yZcEsPPV8E7o",
        "colab": {
          "base_uri": "https://localhost:8080/"
        },
        "outputId": "58b78176-dc4e-4c10-932c-dfe4b2a67247"
      },
      "source": [
        "pip install lazypredict"
      ],
      "execution_count": 206,
      "outputs": [
        {
          "output_type": "stream",
          "name": "stdout",
          "text": [
            "Requirement already satisfied: lazypredict in /usr/local/lib/python3.7/dist-packages (0.2.9)\n",
            "Requirement already satisfied: PyYAML==5.3.1 in /usr/local/lib/python3.7/dist-packages (from lazypredict) (5.3.1)\n",
            "Requirement already satisfied: pytest==5.4.3 in /usr/local/lib/python3.7/dist-packages (from lazypredict) (5.4.3)\n",
            "Requirement already satisfied: six==1.15.0 in /usr/local/lib/python3.7/dist-packages (from lazypredict) (1.15.0)\n",
            "Requirement already satisfied: scipy==1.5.4 in /usr/local/lib/python3.7/dist-packages (from lazypredict) (1.5.4)\n",
            "Requirement already satisfied: click==7.1.2 in /usr/local/lib/python3.7/dist-packages (from lazypredict) (7.1.2)\n",
            "Requirement already satisfied: numpy==1.19.1 in /usr/local/lib/python3.7/dist-packages (from lazypredict) (1.19.1)\n",
            "Requirement already satisfied: scikit-learn==0.23.1 in /usr/local/lib/python3.7/dist-packages (from lazypredict) (0.23.1)\n",
            "Requirement already satisfied: pandas==1.0.5 in /usr/local/lib/python3.7/dist-packages (from lazypredict) (1.0.5)\n",
            "Requirement already satisfied: tqdm==4.56.0 in /usr/local/lib/python3.7/dist-packages (from lazypredict) (4.56.0)\n",
            "Requirement already satisfied: lightgbm==2.3.1 in /usr/local/lib/python3.7/dist-packages (from lazypredict) (2.3.1)\n",
            "Requirement already satisfied: xgboost==1.1.1 in /usr/local/lib/python3.7/dist-packages (from lazypredict) (1.1.1)\n",
            "Requirement already satisfied: joblib==1.0.0 in /usr/local/lib/python3.7/dist-packages (from lazypredict) (1.0.0)\n",
            "Requirement already satisfied: python-dateutil>=2.6.1 in /usr/local/lib/python3.7/dist-packages (from pandas==1.0.5->lazypredict) (2.8.2)\n",
            "Requirement already satisfied: pytz>=2017.2 in /usr/local/lib/python3.7/dist-packages (from pandas==1.0.5->lazypredict) (2018.9)\n",
            "Requirement already satisfied: pluggy<1.0,>=0.12 in /usr/local/lib/python3.7/dist-packages (from pytest==5.4.3->lazypredict) (0.13.1)\n",
            "Requirement already satisfied: more-itertools>=4.0.0 in /usr/local/lib/python3.7/dist-packages (from pytest==5.4.3->lazypredict) (8.8.0)\n",
            "Requirement already satisfied: wcwidth in /usr/local/lib/python3.7/dist-packages (from pytest==5.4.3->lazypredict) (0.2.5)\n",
            "Requirement already satisfied: packaging in /usr/local/lib/python3.7/dist-packages (from pytest==5.4.3->lazypredict) (21.0)\n",
            "Requirement already satisfied: py>=1.5.0 in /usr/local/lib/python3.7/dist-packages (from pytest==5.4.3->lazypredict) (1.10.0)\n",
            "Requirement already satisfied: attrs>=17.4.0 in /usr/local/lib/python3.7/dist-packages (from pytest==5.4.3->lazypredict) (21.2.0)\n",
            "Requirement already satisfied: importlib-metadata>=0.12 in /usr/local/lib/python3.7/dist-packages (from pytest==5.4.3->lazypredict) (4.6.4)\n",
            "Requirement already satisfied: threadpoolctl>=2.0.0 in /usr/local/lib/python3.7/dist-packages (from scikit-learn==0.23.1->lazypredict) (2.2.0)\n",
            "Requirement already satisfied: zipp>=0.5 in /usr/local/lib/python3.7/dist-packages (from importlib-metadata>=0.12->pytest==5.4.3->lazypredict) (3.5.0)\n",
            "Requirement already satisfied: typing-extensions>=3.6.4 in /usr/local/lib/python3.7/dist-packages (from importlib-metadata>=0.12->pytest==5.4.3->lazypredict) (3.7.4.3)\n",
            "Requirement already satisfied: pyparsing>=2.0.2 in /usr/local/lib/python3.7/dist-packages (from packaging->pytest==5.4.3->lazypredict) (2.4.7)\n"
          ]
        }
      ]
    },
    {
      "cell_type": "code",
      "metadata": {
        "id": "PSYfCyPi-Jgr"
      },
      "source": [
        "from sklearn.model_selection import train_test_split\n",
        "X_train, X_test, y_train, y_test = train_test_split(x_independed, y_depended, test_size = 0.2, random_state = 42)\n",
        "#X_train.shape, X_test.shape, y_train.shape, y_test.shape"
      ],
      "execution_count": null,
      "outputs": []
    },
    {
      "cell_type": "code",
      "metadata": {
        "colab": {
          "base_uri": "https://localhost:8080/"
        },
        "id": "Svhnwvl2-2NT",
        "outputId": "a180d00e-90bd-4438-e26c-a221b9d33a8f"
      },
      "source": [
        "print(\"The size of training input is\", X_train.shape)\n",
        "print(\"The size of training output is\", y_train.shape)\n",
        "print(50 *'*')\n",
        "print(\"The size of testing input is\", X_test.shape)\n",
        "print(\"The size of testing output is\", y_test.shape)"
      ],
      "execution_count": 216,
      "outputs": [
        {
          "output_type": "stream",
          "name": "stdout",
          "text": [
            "The size of training input is (8545, 29)\n",
            "The size of training output is (8545,)\n",
            "**************************************************\n",
            "The size of testing input is (2137, 29)\n",
            "The size of testing output is (2137,)\n"
          ]
        }
      ]
    },
    {
      "cell_type": "code",
      "metadata": {
        "id": "0ZOpW1aT6bZW"
      },
      "source": [
        "#find the best alogorithm\n",
        "#import libraries\n",
        "from sklearn.preprocessing import LabelEncoder, MinMaxScaler\n",
        "from sklearn.model_selection import train_test_split, GridSearchCV, cross_val_score, RandomizedSearchCV\n",
        "from lazypredict.Supervised import LazyRegressor\n",
        "from sklearn.linear_model import LinearRegression, ElasticNet, Lasso, Ridge, HuberRegressor, LogisticRegression, BayesianRidge\n",
        "from sklearn.tree import DecisionTreeRegressor, ExtraTreeRegressor\n",
        "from sklearn.ensemble import RandomForestRegressor, AdaBoostRegressor, GradientBoostingRegressor, VotingRegressor\n",
        "from sklearn.neighbors import KNeighborsRegressor\n",
        "from sklearn.svm import SVR\n",
        "from xgboost import XGBRegressor\n",
        "from sklearn.metrics import mean_absolute_error, mean_squared_error\n"
      ],
      "execution_count": 208,
      "outputs": []
    },
    {
      "cell_type": "code",
      "metadata": {
        "id": "ITzNPzxB6bWW"
      },
      "source": [
        "models = [['LinearRegression : ', LinearRegression()],\n",
        "          ['ElasticNet :', ElasticNet()],\n",
        "          ['Lasso : ', Lasso()],\n",
        "          ['Ridge : ', Ridge()],\n",
        "          ['KNeighborsRegressor : ', KNeighborsRegressor()],\n",
        "          ['DecisionTreeRegressor : ', DecisionTreeRegressor()],\n",
        "          ['RandomForestRegressor : ', RandomForestRegressor()],\n",
        "          ['SVR : ', SVR()],\n",
        "          ['AdaBoostRegressor : ', AdaBoostRegressor()],\n",
        "          ['GradientBoostingRegressor : ', GradientBoostingRegressor()],\n",
        "          ['ExtraTreeRegressor : ', ExtraTreeRegressor()],\n",
        "          ['HuberRegressor : ', HuberRegressor()],\n",
        "          ['XGBRegressor : ', XGBRegressor()],\n",
        "          ['BayesianRidge : ', BayesianRidge()]]"
      ],
      "execution_count": 209,
      "outputs": []
    },
    {
      "cell_type": "code",
      "metadata": {
        "colab": {
          "base_uri": "https://localhost:8080/"
        },
        "id": "Dx1UyXIU9oi6",
        "outputId": "a506856e-5aad-420b-f6c3-bdf870174a2d"
      },
      "source": [
        "print(models)"
      ],
      "execution_count": 210,
      "outputs": [
        {
          "output_type": "stream",
          "name": "stdout",
          "text": [
            "[['LinearRegression : ', LinearRegression(copy_X=True, fit_intercept=True, n_jobs=None, normalize=False)], ['ElasticNet :', ElasticNet(alpha=1.0, copy_X=True, fit_intercept=True, l1_ratio=0.5,\n",
            "           max_iter=1000, normalize=False, positive=False, precompute=False,\n",
            "           random_state=None, selection='cyclic', tol=0.0001, warm_start=False)], ['Lasso : ', Lasso(alpha=1.0, copy_X=True, fit_intercept=True, max_iter=1000,\n",
            "      normalize=False, positive=False, precompute=False, random_state=None,\n",
            "      selection='cyclic', tol=0.0001, warm_start=False)], ['Ridge : ', Ridge(alpha=1.0, copy_X=True, fit_intercept=True, max_iter=None,\n",
            "      normalize=False, random_state=None, solver='auto', tol=0.001)], ['KNeighborsRegressor : ', KNeighborsRegressor(algorithm='auto', leaf_size=30, metric='minkowski',\n",
            "                    metric_params=None, n_jobs=None, n_neighbors=5, p=2,\n",
            "                    weights='uniform')], ['DecisionTreeRegressor : ', DecisionTreeRegressor(ccp_alpha=0.0, criterion='mse', max_depth=None,\n",
            "                      max_features=None, max_leaf_nodes=None,\n",
            "                      min_impurity_decrease=0.0, min_impurity_split=None,\n",
            "                      min_samples_leaf=1, min_samples_split=2,\n",
            "                      min_weight_fraction_leaf=0.0, presort='deprecated',\n",
            "                      random_state=None, splitter='best')], ['RandomForestRegressor : ', RandomForestRegressor(bootstrap=True, ccp_alpha=0.0, criterion='mse',\n",
            "                      max_depth=None, max_features='auto', max_leaf_nodes=None,\n",
            "                      max_samples=None, min_impurity_decrease=0.0,\n",
            "                      min_impurity_split=None, min_samples_leaf=1,\n",
            "                      min_samples_split=2, min_weight_fraction_leaf=0.0,\n",
            "                      n_estimators=100, n_jobs=None, oob_score=False,\n",
            "                      random_state=None, verbose=0, warm_start=False)], ['SVR : ', SVR(C=1.0, cache_size=200, coef0=0.0, degree=3, epsilon=0.1, gamma='scale',\n",
            "    kernel='rbf', max_iter=-1, shrinking=True, tol=0.001, verbose=False)], ['AdaBoostRegressor : ', AdaBoostRegressor(base_estimator=None, learning_rate=1.0, loss='linear',\n",
            "                  n_estimators=50, random_state=None)], ['GradientBoostingRegressor : ', GradientBoostingRegressor(alpha=0.9, ccp_alpha=0.0, criterion='friedman_mse',\n",
            "                          init=None, learning_rate=0.1, loss='ls', max_depth=3,\n",
            "                          max_features=None, max_leaf_nodes=None,\n",
            "                          min_impurity_decrease=0.0, min_impurity_split=None,\n",
            "                          min_samples_leaf=1, min_samples_split=2,\n",
            "                          min_weight_fraction_leaf=0.0, n_estimators=100,\n",
            "                          n_iter_no_change=None, presort='deprecated',\n",
            "                          random_state=None, subsample=1.0, tol=0.0001,\n",
            "                          validation_fraction=0.1, verbose=0, warm_start=False)], ['ExtraTreeRegressor : ', ExtraTreeRegressor(ccp_alpha=0.0, criterion='mse', max_depth=None,\n",
            "                   max_features='auto', max_leaf_nodes=None,\n",
            "                   min_impurity_decrease=0.0, min_impurity_split=None,\n",
            "                   min_samples_leaf=1, min_samples_split=2,\n",
            "                   min_weight_fraction_leaf=0.0, random_state=None,\n",
            "                   splitter='random')], ['HuberRegressor : ', HuberRegressor(alpha=0.0001, epsilon=1.35, fit_intercept=True, max_iter=100,\n",
            "               tol=1e-05, warm_start=False)], ['XGBRegressor : ', XGBRegressor(base_score=None, booster=None, colsample_bylevel=None,\n",
            "             colsample_bynode=None, colsample_bytree=None, gamma=None,\n",
            "             gpu_id=None, importance_type='gain', interaction_constraints=None,\n",
            "             learning_rate=None, max_delta_step=None, max_depth=None,\n",
            "             min_child_weight=None, missing=nan, monotone_constraints=None,\n",
            "             n_estimators=100, n_jobs=None, num_parallel_tree=None,\n",
            "             objective='reg:squarederror', random_state=None, reg_alpha=None,\n",
            "             reg_lambda=None, scale_pos_weight=None, subsample=None,\n",
            "             tree_method=None, validate_parameters=None, verbosity=None)], ['BayesianRidge : ', BayesianRidge(alpha_1=1e-06, alpha_2=1e-06, alpha_init=None,\n",
            "              compute_score=False, copy_X=True, fit_intercept=True,\n",
            "              lambda_1=1e-06, lambda_2=1e-06, lambda_init=None, n_iter=300,\n",
            "              normalize=False, tol=0.001, verbose=False)]]\n"
          ]
        }
      ]
    },
    {
      "cell_type": "code",
      "metadata": {
        "colab": {
          "base_uri": "https://localhost:8080/"
        },
        "id": "VZbwntLK6bTm",
        "outputId": "77ce4311-75d2-4d8f-aafa-8f98f2486a72"
      },
      "source": [
        "for name, model in models:\n",
        "    model=model\n",
        "    model.fit(X_train, y_train)\n",
        "    predictions = model.predict(X_test)\n",
        "    print(name, (np.sqrt(mean_squared_error(y_test, predictions))))"
      ],
      "execution_count": 211,
      "outputs": [
        {
          "output_type": "stream",
          "name": "stdout",
          "text": [
            "LinearRegression :  2875.378820303944\n",
            "ElasticNet : 3520.7455916655294\n",
            "Lasso :  2877.470296686765\n",
            "Ridge :  2878.8315343543945\n",
            "KNeighborsRegressor :  3037.051412069077\n",
            "DecisionTreeRegressor :  2496.8048644212013\n",
            "RandomForestRegressor :  2129.2978896863756\n",
            "SVR :  4643.370521026606\n",
            "AdaBoostRegressor :  3538.41691155928\n",
            "GradientBoostingRegressor :  2106.271614687161\n",
            "ExtraTreeRegressor :  2390.9287754781567\n",
            "HuberRegressor :  3158.177092463484\n",
            "XGBRegressor :  1818.4249893522529\n",
            "BayesianRidge :  2875.1706769559164\n"
          ]
        }
      ]
    },
    {
      "cell_type": "markdown",
      "metadata": {
        "id": "IsUjnPLAAv-l"
      },
      "source": [
        "![image.png](data:image/png;base64,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)"
      ]
    },
    {
      "cell_type": "code",
      "metadata": {
        "id": "_qQCSx2w6bRG"
      },
      "source": [
        "#Hyper parameter tuning\n",
        "algorithms = {\n",
        "    'XGBRegressor' : {\n",
        "        'model' : XGBRegressor(),\n",
        "        'param' : {\n",
        "            'learning_rate' : [0.5, 0.8, 0.1, 0.20, 0.25, 0.30],\n",
        "            'max_depth' : [3, 5, 7, 9, 11, 13, 15],\n",
        "            'gamma' : [0.1,0.2, 0.3, 0.4, 0.5],\n",
        "            'min_child_weight' : [1, 3, 5, 7, 9],\n",
        "            'colsample_bytree' : [0.5, 0.8, 0.1, 0.20, 0.25, 0.30]\n",
        "        }\n",
        "    },\n",
        "    'RandomForestRegressor' : {\n",
        "        'model' : RandomForestRegressor(),\n",
        "        'param' : {\n",
        "            'n_estimators' : [300, 500, 700, 1000, 2100],\n",
        "            'max_depth' : [3, 5, 7, 9, 11, 13, 15],\n",
        "            'max_features' : [\"auto\", \"sqrt\", \"log2\"],\n",
        "            'min_samples_split' : [2, 4, 6, 8]\n",
        "        }\n",
        "    },\n",
        "    'GradientBoostingRegressor' : {\n",
        "        'model' : GradientBoostingRegressor(),\n",
        "        'param' : {\n",
        "            'learning_rate' : [0.5, 0.8, 0.1, 0.20, 0.25, 0.30],\n",
        "            'n_estimators' : [300, 500, 700, 1000, 2100],\n",
        "            'criterion' : ['friedman_mse', 'mse']\n",
        "        }\n",
        "    }\n",
        "}"
      ],
      "execution_count": 212,
      "outputs": []
    },
    {
      "cell_type": "code",
      "metadata": {
        "colab": {
          "base_uri": "https://localhost:8080/"
        },
        "id": "vn05NL-x6bOB",
        "outputId": "a27a100c-b35c-40af-ea73-f7aff2e7d80b"
      },
      "source": [
        "score = []\n",
        "for name, mp in algorithms.items() :\n",
        "    rs = RandomizedSearchCV(estimator = mp['model'], param_distributions = mp['param'], cv = 5,random_state=42,n_jobs=1, verbose=2)\n",
        "    rs.fit(X_train, y_train)\n",
        "    score.append({\n",
        "        'model': name,\n",
        "        'score' : rs.best_score_,\n",
        "        'params' : rs.best_params_\n",
        "    })"
      ],
      "execution_count": 213,
      "outputs": [
        {
          "output_type": "stream",
          "name": "stdout",
          "text": [
            "Fitting 5 folds for each of 10 candidates, totalling 50 fits\n",
            "[CV] min_child_weight=1, max_depth=11, learning_rate=0.5, gamma=0.5, colsample_bytree=0.5 \n"
          ]
        },
        {
          "output_type": "stream",
          "name": "stderr",
          "text": [
            "[Parallel(n_jobs=1)]: Using backend SequentialBackend with 1 concurrent workers.\n"
          ]
        },
        {
          "output_type": "stream",
          "name": "stdout",
          "text": [
            "[CV]  min_child_weight=1, max_depth=11, learning_rate=0.5, gamma=0.5, colsample_bytree=0.5, total=   1.1s\n",
            "[CV] min_child_weight=1, max_depth=11, learning_rate=0.5, gamma=0.5, colsample_bytree=0.5 \n"
          ]
        },
        {
          "output_type": "stream",
          "name": "stderr",
          "text": [
            "[Parallel(n_jobs=1)]: Done   1 out of   1 | elapsed:    1.1s remaining:    0.0s\n"
          ]
        },
        {
          "output_type": "stream",
          "name": "stdout",
          "text": [
            "[CV]  min_child_weight=1, max_depth=11, learning_rate=0.5, gamma=0.5, colsample_bytree=0.5, total=   1.1s\n",
            "[CV] min_child_weight=1, max_depth=11, learning_rate=0.5, gamma=0.5, colsample_bytree=0.5 \n",
            "[CV]  min_child_weight=1, max_depth=11, learning_rate=0.5, gamma=0.5, colsample_bytree=0.5, total=   1.1s\n",
            "[CV] min_child_weight=1, max_depth=11, learning_rate=0.5, gamma=0.5, colsample_bytree=0.5 \n",
            "[CV]  min_child_weight=1, max_depth=11, learning_rate=0.5, gamma=0.5, colsample_bytree=0.5, total=   1.0s\n",
            "[CV] min_child_weight=1, max_depth=11, learning_rate=0.5, gamma=0.5, colsample_bytree=0.5 \n",
            "[CV]  min_child_weight=1, max_depth=11, learning_rate=0.5, gamma=0.5, colsample_bytree=0.5, total=   1.0s\n",
            "[CV] min_child_weight=1, max_depth=3, learning_rate=0.25, gamma=0.1, colsample_bytree=0.3 \n",
            "[CV]  min_child_weight=1, max_depth=3, learning_rate=0.25, gamma=0.1, colsample_bytree=0.3, total=   0.3s\n",
            "[CV] min_child_weight=1, max_depth=3, learning_rate=0.25, gamma=0.1, colsample_bytree=0.3 \n",
            "[CV]  min_child_weight=1, max_depth=3, learning_rate=0.25, gamma=0.1, colsample_bytree=0.3, total=   0.2s\n",
            "[CV] min_child_weight=1, max_depth=3, learning_rate=0.25, gamma=0.1, colsample_bytree=0.3 \n",
            "[CV]  min_child_weight=1, max_depth=3, learning_rate=0.25, gamma=0.1, colsample_bytree=0.3, total=   0.2s\n",
            "[CV] min_child_weight=1, max_depth=3, learning_rate=0.25, gamma=0.1, colsample_bytree=0.3 \n",
            "[CV]  min_child_weight=1, max_depth=3, learning_rate=0.25, gamma=0.1, colsample_bytree=0.3, total=   0.3s\n",
            "[CV] min_child_weight=1, max_depth=3, learning_rate=0.25, gamma=0.1, colsample_bytree=0.3 \n",
            "[CV]  min_child_weight=1, max_depth=3, learning_rate=0.25, gamma=0.1, colsample_bytree=0.3, total=   0.3s\n",
            "[CV] min_child_weight=3, max_depth=7, learning_rate=0.3, gamma=0.5, colsample_bytree=0.25 \n",
            "[CV]  min_child_weight=3, max_depth=7, learning_rate=0.3, gamma=0.5, colsample_bytree=0.25, total=   0.4s\n",
            "[CV] min_child_weight=3, max_depth=7, learning_rate=0.3, gamma=0.5, colsample_bytree=0.25 \n",
            "[CV]  min_child_weight=3, max_depth=7, learning_rate=0.3, gamma=0.5, colsample_bytree=0.25, total=   0.4s\n",
            "[CV] min_child_weight=3, max_depth=7, learning_rate=0.3, gamma=0.5, colsample_bytree=0.25 \n",
            "[CV]  min_child_weight=3, max_depth=7, learning_rate=0.3, gamma=0.5, colsample_bytree=0.25, total=   0.4s\n",
            "[CV] min_child_weight=3, max_depth=7, learning_rate=0.3, gamma=0.5, colsample_bytree=0.25 \n",
            "[CV]  min_child_weight=3, max_depth=7, learning_rate=0.3, gamma=0.5, colsample_bytree=0.25, total=   0.4s\n",
            "[CV] min_child_weight=3, max_depth=7, learning_rate=0.3, gamma=0.5, colsample_bytree=0.25 \n",
            "[CV]  min_child_weight=3, max_depth=7, learning_rate=0.3, gamma=0.5, colsample_bytree=0.25, total=   0.4s\n",
            "[CV] min_child_weight=3, max_depth=7, learning_rate=0.25, gamma=0.5, colsample_bytree=0.25 \n",
            "[CV]  min_child_weight=3, max_depth=7, learning_rate=0.25, gamma=0.5, colsample_bytree=0.25, total=   0.4s\n",
            "[CV] min_child_weight=3, max_depth=7, learning_rate=0.25, gamma=0.5, colsample_bytree=0.25 \n",
            "[CV]  min_child_weight=3, max_depth=7, learning_rate=0.25, gamma=0.5, colsample_bytree=0.25, total=   0.4s\n",
            "[CV] min_child_weight=3, max_depth=7, learning_rate=0.25, gamma=0.5, colsample_bytree=0.25 \n",
            "[CV]  min_child_weight=3, max_depth=7, learning_rate=0.25, gamma=0.5, colsample_bytree=0.25, total=   0.4s\n",
            "[CV] min_child_weight=3, max_depth=7, learning_rate=0.25, gamma=0.5, colsample_bytree=0.25 \n",
            "[CV]  min_child_weight=3, max_depth=7, learning_rate=0.25, gamma=0.5, colsample_bytree=0.25, total=   0.4s\n",
            "[CV] min_child_weight=3, max_depth=7, learning_rate=0.25, gamma=0.5, colsample_bytree=0.25 \n",
            "[CV]  min_child_weight=3, max_depth=7, learning_rate=0.25, gamma=0.5, colsample_bytree=0.25, total=   0.4s\n",
            "[CV] min_child_weight=5, max_depth=13, learning_rate=0.3, gamma=0.3, colsample_bytree=0.2 \n",
            "[CV]  min_child_weight=5, max_depth=13, learning_rate=0.3, gamma=0.3, colsample_bytree=0.2, total=   0.6s\n",
            "[CV] min_child_weight=5, max_depth=13, learning_rate=0.3, gamma=0.3, colsample_bytree=0.2 \n",
            "[CV]  min_child_weight=5, max_depth=13, learning_rate=0.3, gamma=0.3, colsample_bytree=0.2, total=   0.6s\n",
            "[CV] min_child_weight=5, max_depth=13, learning_rate=0.3, gamma=0.3, colsample_bytree=0.2 \n",
            "[CV]  min_child_weight=5, max_depth=13, learning_rate=0.3, gamma=0.3, colsample_bytree=0.2, total=   0.6s\n",
            "[CV] min_child_weight=5, max_depth=13, learning_rate=0.3, gamma=0.3, colsample_bytree=0.2 \n",
            "[CV]  min_child_weight=5, max_depth=13, learning_rate=0.3, gamma=0.3, colsample_bytree=0.2, total=   0.6s\n",
            "[CV] min_child_weight=5, max_depth=13, learning_rate=0.3, gamma=0.3, colsample_bytree=0.2 \n",
            "[CV]  min_child_weight=5, max_depth=13, learning_rate=0.3, gamma=0.3, colsample_bytree=0.2, total=   0.6s\n",
            "[CV] min_child_weight=5, max_depth=7, learning_rate=0.25, gamma=0.5, colsample_bytree=0.1 \n",
            "[CV]  min_child_weight=5, max_depth=7, learning_rate=0.25, gamma=0.5, colsample_bytree=0.1, total=   0.2s\n",
            "[CV] min_child_weight=5, max_depth=7, learning_rate=0.25, gamma=0.5, colsample_bytree=0.1 \n",
            "[CV]  min_child_weight=5, max_depth=7, learning_rate=0.25, gamma=0.5, colsample_bytree=0.1, total=   0.2s\n",
            "[CV] min_child_weight=5, max_depth=7, learning_rate=0.25, gamma=0.5, colsample_bytree=0.1 \n",
            "[CV]  min_child_weight=5, max_depth=7, learning_rate=0.25, gamma=0.5, colsample_bytree=0.1, total=   0.2s\n",
            "[CV] min_child_weight=5, max_depth=7, learning_rate=0.25, gamma=0.5, colsample_bytree=0.1 \n",
            "[CV]  min_child_weight=5, max_depth=7, learning_rate=0.25, gamma=0.5, colsample_bytree=0.1, total=   0.2s\n",
            "[CV] min_child_weight=5, max_depth=7, learning_rate=0.25, gamma=0.5, colsample_bytree=0.1 \n",
            "[CV]  min_child_weight=5, max_depth=7, learning_rate=0.25, gamma=0.5, colsample_bytree=0.1, total=   0.2s\n",
            "[CV] min_child_weight=9, max_depth=13, learning_rate=0.8, gamma=0.3, colsample_bytree=0.3 \n",
            "[CV]  min_child_weight=9, max_depth=13, learning_rate=0.8, gamma=0.3, colsample_bytree=0.3, total=   0.8s\n",
            "[CV] min_child_weight=9, max_depth=13, learning_rate=0.8, gamma=0.3, colsample_bytree=0.3 \n",
            "[CV]  min_child_weight=9, max_depth=13, learning_rate=0.8, gamma=0.3, colsample_bytree=0.3, total=   0.8s\n",
            "[CV] min_child_weight=9, max_depth=13, learning_rate=0.8, gamma=0.3, colsample_bytree=0.3 \n",
            "[CV]  min_child_weight=9, max_depth=13, learning_rate=0.8, gamma=0.3, colsample_bytree=0.3, total=   0.8s\n",
            "[CV] min_child_weight=9, max_depth=13, learning_rate=0.8, gamma=0.3, colsample_bytree=0.3 \n",
            "[CV]  min_child_weight=9, max_depth=13, learning_rate=0.8, gamma=0.3, colsample_bytree=0.3, total=   0.8s\n",
            "[CV] min_child_weight=9, max_depth=13, learning_rate=0.8, gamma=0.3, colsample_bytree=0.3 \n",
            "[CV]  min_child_weight=9, max_depth=13, learning_rate=0.8, gamma=0.3, colsample_bytree=0.3, total=   0.8s\n",
            "[CV] min_child_weight=1, max_depth=3, learning_rate=0.3, gamma=0.5, colsample_bytree=0.3 \n",
            "[CV]  min_child_weight=1, max_depth=3, learning_rate=0.3, gamma=0.5, colsample_bytree=0.3, total=   0.2s\n",
            "[CV] min_child_weight=1, max_depth=3, learning_rate=0.3, gamma=0.5, colsample_bytree=0.3 \n",
            "[CV]  min_child_weight=1, max_depth=3, learning_rate=0.3, gamma=0.5, colsample_bytree=0.3, total=   0.2s\n",
            "[CV] min_child_weight=1, max_depth=3, learning_rate=0.3, gamma=0.5, colsample_bytree=0.3 \n",
            "[CV]  min_child_weight=1, max_depth=3, learning_rate=0.3, gamma=0.5, colsample_bytree=0.3, total=   0.2s\n",
            "[CV] min_child_weight=1, max_depth=3, learning_rate=0.3, gamma=0.5, colsample_bytree=0.3 \n",
            "[CV]  min_child_weight=1, max_depth=3, learning_rate=0.3, gamma=0.5, colsample_bytree=0.3, total=   0.3s\n",
            "[CV] min_child_weight=1, max_depth=3, learning_rate=0.3, gamma=0.5, colsample_bytree=0.3 \n",
            "[CV]  min_child_weight=1, max_depth=3, learning_rate=0.3, gamma=0.5, colsample_bytree=0.3, total=   0.3s\n",
            "[CV] min_child_weight=3, max_depth=7, learning_rate=0.8, gamma=0.3, colsample_bytree=0.5 \n",
            "[CV]  min_child_weight=3, max_depth=7, learning_rate=0.8, gamma=0.3, colsample_bytree=0.5, total=   0.6s\n",
            "[CV] min_child_weight=3, max_depth=7, learning_rate=0.8, gamma=0.3, colsample_bytree=0.5 \n",
            "[CV]  min_child_weight=3, max_depth=7, learning_rate=0.8, gamma=0.3, colsample_bytree=0.5, total=   0.6s\n",
            "[CV] min_child_weight=3, max_depth=7, learning_rate=0.8, gamma=0.3, colsample_bytree=0.5 \n",
            "[CV]  min_child_weight=3, max_depth=7, learning_rate=0.8, gamma=0.3, colsample_bytree=0.5, total=   0.6s\n",
            "[CV] min_child_weight=3, max_depth=7, learning_rate=0.8, gamma=0.3, colsample_bytree=0.5 \n",
            "[CV]  min_child_weight=3, max_depth=7, learning_rate=0.8, gamma=0.3, colsample_bytree=0.5, total=   0.6s\n",
            "[CV] min_child_weight=3, max_depth=7, learning_rate=0.8, gamma=0.3, colsample_bytree=0.5 \n",
            "[CV]  min_child_weight=3, max_depth=7, learning_rate=0.8, gamma=0.3, colsample_bytree=0.5, total=   0.6s\n",
            "[CV] min_child_weight=9, max_depth=7, learning_rate=0.1, gamma=0.1, colsample_bytree=0.3 \n",
            "[CV]  min_child_weight=9, max_depth=7, learning_rate=0.1, gamma=0.1, colsample_bytree=0.3, total=   0.5s\n",
            "[CV] min_child_weight=9, max_depth=7, learning_rate=0.1, gamma=0.1, colsample_bytree=0.3 \n",
            "[CV]  min_child_weight=9, max_depth=7, learning_rate=0.1, gamma=0.1, colsample_bytree=0.3, total=   0.5s\n",
            "[CV] min_child_weight=9, max_depth=7, learning_rate=0.1, gamma=0.1, colsample_bytree=0.3 \n",
            "[CV]  min_child_weight=9, max_depth=7, learning_rate=0.1, gamma=0.1, colsample_bytree=0.3, total=   0.4s\n",
            "[CV] min_child_weight=9, max_depth=7, learning_rate=0.1, gamma=0.1, colsample_bytree=0.3 \n",
            "[CV]  min_child_weight=9, max_depth=7, learning_rate=0.1, gamma=0.1, colsample_bytree=0.3, total=   0.5s\n",
            "[CV] min_child_weight=9, max_depth=7, learning_rate=0.1, gamma=0.1, colsample_bytree=0.3 \n",
            "[CV]  min_child_weight=9, max_depth=7, learning_rate=0.1, gamma=0.1, colsample_bytree=0.3, total=   0.5s\n"
          ]
        },
        {
          "output_type": "stream",
          "name": "stderr",
          "text": [
            "[Parallel(n_jobs=1)]: Done  50 out of  50 | elapsed:   25.5s finished\n"
          ]
        },
        {
          "output_type": "stream",
          "name": "stdout",
          "text": [
            "Fitting 5 folds for each of 10 candidates, totalling 50 fits\n",
            "[CV] n_estimators=300, min_samples_split=4, max_features=sqrt, max_depth=7 \n"
          ]
        },
        {
          "output_type": "stream",
          "name": "stderr",
          "text": [
            "[Parallel(n_jobs=1)]: Using backend SequentialBackend with 1 concurrent workers.\n"
          ]
        },
        {
          "output_type": "stream",
          "name": "stdout",
          "text": [
            "[CV]  n_estimators=300, min_samples_split=4, max_features=sqrt, max_depth=7, total=   1.2s\n",
            "[CV] n_estimators=300, min_samples_split=4, max_features=sqrt, max_depth=7 \n"
          ]
        },
        {
          "output_type": "stream",
          "name": "stderr",
          "text": [
            "[Parallel(n_jobs=1)]: Done   1 out of   1 | elapsed:    1.2s remaining:    0.0s\n"
          ]
        },
        {
          "output_type": "stream",
          "name": "stdout",
          "text": [
            "[CV]  n_estimators=300, min_samples_split=4, max_features=sqrt, max_depth=7, total=   1.1s\n",
            "[CV] n_estimators=300, min_samples_split=4, max_features=sqrt, max_depth=7 \n",
            "[CV]  n_estimators=300, min_samples_split=4, max_features=sqrt, max_depth=7, total=   1.1s\n",
            "[CV] n_estimators=300, min_samples_split=4, max_features=sqrt, max_depth=7 \n",
            "[CV]  n_estimators=300, min_samples_split=4, max_features=sqrt, max_depth=7, total=   1.1s\n",
            "[CV] n_estimators=300, min_samples_split=4, max_features=sqrt, max_depth=7 \n",
            "[CV]  n_estimators=300, min_samples_split=4, max_features=sqrt, max_depth=7, total=   1.1s\n",
            "[CV] n_estimators=2100, min_samples_split=6, max_features=sqrt, max_depth=13 \n",
            "[CV]  n_estimators=2100, min_samples_split=6, max_features=sqrt, max_depth=13, total=  11.5s\n",
            "[CV] n_estimators=2100, min_samples_split=6, max_features=sqrt, max_depth=13 \n",
            "[CV]  n_estimators=2100, min_samples_split=6, max_features=sqrt, max_depth=13, total=  11.4s\n",
            "[CV] n_estimators=2100, min_samples_split=6, max_features=sqrt, max_depth=13 \n",
            "[CV]  n_estimators=2100, min_samples_split=6, max_features=sqrt, max_depth=13, total=  11.3s\n",
            "[CV] n_estimators=2100, min_samples_split=6, max_features=sqrt, max_depth=13 \n",
            "[CV]  n_estimators=2100, min_samples_split=6, max_features=sqrt, max_depth=13, total=  11.3s\n",
            "[CV] n_estimators=2100, min_samples_split=6, max_features=sqrt, max_depth=13 \n",
            "[CV]  n_estimators=2100, min_samples_split=6, max_features=sqrt, max_depth=13, total=  11.3s\n",
            "[CV] n_estimators=300, min_samples_split=8, max_features=log2, max_depth=7 \n",
            "[CV]  n_estimators=300, min_samples_split=8, max_features=log2, max_depth=7, total=   1.0s\n",
            "[CV] n_estimators=300, min_samples_split=8, max_features=log2, max_depth=7 \n",
            "[CV]  n_estimators=300, min_samples_split=8, max_features=log2, max_depth=7, total=   1.0s\n",
            "[CV] n_estimators=300, min_samples_split=8, max_features=log2, max_depth=7 \n",
            "[CV]  n_estimators=300, min_samples_split=8, max_features=log2, max_depth=7, total=   1.0s\n",
            "[CV] n_estimators=300, min_samples_split=8, max_features=log2, max_depth=7 \n",
            "[CV]  n_estimators=300, min_samples_split=8, max_features=log2, max_depth=7, total=   1.0s\n",
            "[CV] n_estimators=300, min_samples_split=8, max_features=log2, max_depth=7 \n",
            "[CV]  n_estimators=300, min_samples_split=8, max_features=log2, max_depth=7, total=   1.0s\n",
            "[CV] n_estimators=2100, min_samples_split=4, max_features=auto, max_depth=15 \n",
            "[CV]  n_estimators=2100, min_samples_split=4, max_features=auto, max_depth=15, total=  40.0s\n",
            "[CV] n_estimators=2100, min_samples_split=4, max_features=auto, max_depth=15 \n",
            "[CV]  n_estimators=2100, min_samples_split=4, max_features=auto, max_depth=15, total=  39.6s\n",
            "[CV] n_estimators=2100, min_samples_split=4, max_features=auto, max_depth=15 \n",
            "[CV]  n_estimators=2100, min_samples_split=4, max_features=auto, max_depth=15, total=  39.1s\n",
            "[CV] n_estimators=2100, min_samples_split=4, max_features=auto, max_depth=15 \n",
            "[CV]  n_estimators=2100, min_samples_split=4, max_features=auto, max_depth=15, total=  39.1s\n",
            "[CV] n_estimators=2100, min_samples_split=4, max_features=auto, max_depth=15 \n",
            "[CV]  n_estimators=2100, min_samples_split=4, max_features=auto, max_depth=15, total=  39.1s\n",
            "[CV] n_estimators=500, min_samples_split=8, max_features=log2, max_depth=15 \n",
            "[CV]  n_estimators=500, min_samples_split=8, max_features=log2, max_depth=15, total=   2.6s\n",
            "[CV] n_estimators=500, min_samples_split=8, max_features=log2, max_depth=15 \n",
            "[CV]  n_estimators=500, min_samples_split=8, max_features=log2, max_depth=15, total=   2.6s\n",
            "[CV] n_estimators=500, min_samples_split=8, max_features=log2, max_depth=15 \n",
            "[CV]  n_estimators=500, min_samples_split=8, max_features=log2, max_depth=15, total=   2.6s\n",
            "[CV] n_estimators=500, min_samples_split=8, max_features=log2, max_depth=15 \n",
            "[CV]  n_estimators=500, min_samples_split=8, max_features=log2, max_depth=15, total=   2.6s\n",
            "[CV] n_estimators=500, min_samples_split=8, max_features=log2, max_depth=15 \n",
            "[CV]  n_estimators=500, min_samples_split=8, max_features=log2, max_depth=15, total=   2.6s\n",
            "[CV] n_estimators=1000, min_samples_split=6, max_features=auto, max_depth=5 \n",
            "[CV]  n_estimators=1000, min_samples_split=6, max_features=auto, max_depth=5, total=   8.0s\n",
            "[CV] n_estimators=1000, min_samples_split=6, max_features=auto, max_depth=5 \n",
            "[CV]  n_estimators=1000, min_samples_split=6, max_features=auto, max_depth=5, total=   8.0s\n",
            "[CV] n_estimators=1000, min_samples_split=6, max_features=auto, max_depth=5 \n",
            "[CV]  n_estimators=1000, min_samples_split=6, max_features=auto, max_depth=5, total=   8.0s\n",
            "[CV] n_estimators=1000, min_samples_split=6, max_features=auto, max_depth=5 \n",
            "[CV]  n_estimators=1000, min_samples_split=6, max_features=auto, max_depth=5, total=   8.0s\n",
            "[CV] n_estimators=1000, min_samples_split=6, max_features=auto, max_depth=5 \n",
            "[CV]  n_estimators=1000, min_samples_split=6, max_features=auto, max_depth=5, total=   8.0s\n",
            "[CV] n_estimators=700, min_samples_split=6, max_features=auto, max_depth=7 \n",
            "[CV]  n_estimators=700, min_samples_split=6, max_features=auto, max_depth=7, total=   7.3s\n",
            "[CV] n_estimators=700, min_samples_split=6, max_features=auto, max_depth=7 \n",
            "[CV]  n_estimators=700, min_samples_split=6, max_features=auto, max_depth=7, total=   7.3s\n",
            "[CV] n_estimators=700, min_samples_split=6, max_features=auto, max_depth=7 \n",
            "[CV]  n_estimators=700, min_samples_split=6, max_features=auto, max_depth=7, total=   7.3s\n",
            "[CV] n_estimators=700, min_samples_split=6, max_features=auto, max_depth=7 \n",
            "[CV]  n_estimators=700, min_samples_split=6, max_features=auto, max_depth=7, total=   7.2s\n",
            "[CV] n_estimators=700, min_samples_split=6, max_features=auto, max_depth=7 \n",
            "[CV]  n_estimators=700, min_samples_split=6, max_features=auto, max_depth=7, total=   7.3s\n",
            "[CV] n_estimators=700, min_samples_split=8, max_features=auto, max_depth=7 \n",
            "[CV]  n_estimators=700, min_samples_split=8, max_features=auto, max_depth=7, total=   7.3s\n",
            "[CV] n_estimators=700, min_samples_split=8, max_features=auto, max_depth=7 \n",
            "[CV]  n_estimators=700, min_samples_split=8, max_features=auto, max_depth=7, total=   7.2s\n",
            "[CV] n_estimators=700, min_samples_split=8, max_features=auto, max_depth=7 \n",
            "[CV]  n_estimators=700, min_samples_split=8, max_features=auto, max_depth=7, total=   7.3s\n",
            "[CV] n_estimators=700, min_samples_split=8, max_features=auto, max_depth=7 \n",
            "[CV]  n_estimators=700, min_samples_split=8, max_features=auto, max_depth=7, total=   7.3s\n",
            "[CV] n_estimators=700, min_samples_split=8, max_features=auto, max_depth=7 \n",
            "[CV]  n_estimators=700, min_samples_split=8, max_features=auto, max_depth=7, total=   7.2s\n",
            "[CV] n_estimators=300, min_samples_split=6, max_features=sqrt, max_depth=3 \n",
            "[CV]  n_estimators=300, min_samples_split=6, max_features=sqrt, max_depth=3, total=   0.7s\n",
            "[CV] n_estimators=300, min_samples_split=6, max_features=sqrt, max_depth=3 \n",
            "[CV]  n_estimators=300, min_samples_split=6, max_features=sqrt, max_depth=3, total=   0.7s\n",
            "[CV] n_estimators=300, min_samples_split=6, max_features=sqrt, max_depth=3 \n",
            "[CV]  n_estimators=300, min_samples_split=6, max_features=sqrt, max_depth=3, total=   0.7s\n",
            "[CV] n_estimators=300, min_samples_split=6, max_features=sqrt, max_depth=3 \n",
            "[CV]  n_estimators=300, min_samples_split=6, max_features=sqrt, max_depth=3, total=   0.7s\n",
            "[CV] n_estimators=300, min_samples_split=6, max_features=sqrt, max_depth=3 \n",
            "[CV]  n_estimators=300, min_samples_split=6, max_features=sqrt, max_depth=3, total=   0.7s\n",
            "[CV] n_estimators=700, min_samples_split=6, max_features=auto, max_depth=5 \n",
            "[CV]  n_estimators=700, min_samples_split=6, max_features=auto, max_depth=5, total=   5.6s\n",
            "[CV] n_estimators=700, min_samples_split=6, max_features=auto, max_depth=5 \n",
            "[CV]  n_estimators=700, min_samples_split=6, max_features=auto, max_depth=5, total=   5.6s\n",
            "[CV] n_estimators=700, min_samples_split=6, max_features=auto, max_depth=5 \n",
            "[CV]  n_estimators=700, min_samples_split=6, max_features=auto, max_depth=5, total=   5.6s\n",
            "[CV] n_estimators=700, min_samples_split=6, max_features=auto, max_depth=5 \n",
            "[CV]  n_estimators=700, min_samples_split=6, max_features=auto, max_depth=5, total=   5.6s\n",
            "[CV] n_estimators=700, min_samples_split=6, max_features=auto, max_depth=5 \n",
            "[CV]  n_estimators=700, min_samples_split=6, max_features=auto, max_depth=5, total=   5.6s\n"
          ]
        },
        {
          "output_type": "stream",
          "name": "stderr",
          "text": [
            "[Parallel(n_jobs=1)]: Done  50 out of  50 | elapsed:  7.0min finished\n"
          ]
        },
        {
          "output_type": "stream",
          "name": "stdout",
          "text": [
            "Fitting 5 folds for each of 10 candidates, totalling 50 fits\n",
            "[CV] n_estimators=300, learning_rate=0.5, criterion=friedman_mse .....\n"
          ]
        },
        {
          "output_type": "stream",
          "name": "stderr",
          "text": [
            "[Parallel(n_jobs=1)]: Using backend SequentialBackend with 1 concurrent workers.\n"
          ]
        },
        {
          "output_type": "stream",
          "name": "stdout",
          "text": [
            "[CV]  n_estimators=300, learning_rate=0.5, criterion=friedman_mse, total=   2.1s\n",
            "[CV] n_estimators=300, learning_rate=0.5, criterion=friedman_mse .....\n"
          ]
        },
        {
          "output_type": "stream",
          "name": "stderr",
          "text": [
            "[Parallel(n_jobs=1)]: Done   1 out of   1 | elapsed:    2.2s remaining:    0.0s\n"
          ]
        },
        {
          "output_type": "stream",
          "name": "stdout",
          "text": [
            "[CV]  n_estimators=300, learning_rate=0.5, criterion=friedman_mse, total=   2.1s\n",
            "[CV] n_estimators=300, learning_rate=0.5, criterion=friedman_mse .....\n",
            "[CV]  n_estimators=300, learning_rate=0.5, criterion=friedman_mse, total=   2.1s\n",
            "[CV] n_estimators=300, learning_rate=0.5, criterion=friedman_mse .....\n",
            "[CV]  n_estimators=300, learning_rate=0.5, criterion=friedman_mse, total=   2.2s\n",
            "[CV] n_estimators=300, learning_rate=0.5, criterion=friedman_mse .....\n",
            "[CV]  n_estimators=300, learning_rate=0.5, criterion=friedman_mse, total=   2.1s\n",
            "[CV] n_estimators=300, learning_rate=0.8, criterion=friedman_mse .....\n",
            "[CV]  n_estimators=300, learning_rate=0.8, criterion=friedman_mse, total=   2.1s\n",
            "[CV] n_estimators=300, learning_rate=0.8, criterion=friedman_mse .....\n",
            "[CV]  n_estimators=300, learning_rate=0.8, criterion=friedman_mse, total=   2.1s\n",
            "[CV] n_estimators=300, learning_rate=0.8, criterion=friedman_mse .....\n",
            "[CV]  n_estimators=300, learning_rate=0.8, criterion=friedman_mse, total=   2.1s\n",
            "[CV] n_estimators=300, learning_rate=0.8, criterion=friedman_mse .....\n",
            "[CV]  n_estimators=300, learning_rate=0.8, criterion=friedman_mse, total=   2.1s\n",
            "[CV] n_estimators=300, learning_rate=0.8, criterion=friedman_mse .....\n",
            "[CV]  n_estimators=300, learning_rate=0.8, criterion=friedman_mse, total=   2.1s\n",
            "[CV] n_estimators=500, learning_rate=0.8, criterion=mse ..............\n",
            "[CV]  n_estimators=500, learning_rate=0.8, criterion=mse, total=   3.6s\n",
            "[CV] n_estimators=500, learning_rate=0.8, criterion=mse ..............\n",
            "[CV]  n_estimators=500, learning_rate=0.8, criterion=mse, total=   3.5s\n",
            "[CV] n_estimators=500, learning_rate=0.8, criterion=mse ..............\n",
            "[CV]  n_estimators=500, learning_rate=0.8, criterion=mse, total=   3.6s\n",
            "[CV] n_estimators=500, learning_rate=0.8, criterion=mse ..............\n",
            "[CV]  n_estimators=500, learning_rate=0.8, criterion=mse, total=   3.6s\n",
            "[CV] n_estimators=500, learning_rate=0.8, criterion=mse ..............\n",
            "[CV]  n_estimators=500, learning_rate=0.8, criterion=mse, total=   3.6s\n",
            "[CV] n_estimators=300, learning_rate=0.2, criterion=mse ..............\n",
            "[CV]  n_estimators=300, learning_rate=0.2, criterion=mse, total=   2.2s\n",
            "[CV] n_estimators=300, learning_rate=0.2, criterion=mse ..............\n",
            "[CV]  n_estimators=300, learning_rate=0.2, criterion=mse, total=   2.1s\n",
            "[CV] n_estimators=300, learning_rate=0.2, criterion=mse ..............\n",
            "[CV]  n_estimators=300, learning_rate=0.2, criterion=mse, total=   2.1s\n",
            "[CV] n_estimators=300, learning_rate=0.2, criterion=mse ..............\n",
            "[CV]  n_estimators=300, learning_rate=0.2, criterion=mse, total=   2.1s\n",
            "[CV] n_estimators=300, learning_rate=0.2, criterion=mse ..............\n",
            "[CV]  n_estimators=300, learning_rate=0.2, criterion=mse, total=   2.1s\n",
            "[CV] n_estimators=1000, learning_rate=0.1, criterion=friedman_mse ....\n",
            "[CV]  n_estimators=1000, learning_rate=0.1, criterion=friedman_mse, total=   7.1s\n",
            "[CV] n_estimators=1000, learning_rate=0.1, criterion=friedman_mse ....\n",
            "[CV]  n_estimators=1000, learning_rate=0.1, criterion=friedman_mse, total=   7.3s\n",
            "[CV] n_estimators=1000, learning_rate=0.1, criterion=friedman_mse ....\n",
            "[CV]  n_estimators=1000, learning_rate=0.1, criterion=friedman_mse, total=   7.4s\n",
            "[CV] n_estimators=1000, learning_rate=0.1, criterion=friedman_mse ....\n",
            "[CV]  n_estimators=1000, learning_rate=0.1, criterion=friedman_mse, total=   7.4s\n",
            "[CV] n_estimators=1000, learning_rate=0.1, criterion=friedman_mse ....\n",
            "[CV]  n_estimators=1000, learning_rate=0.1, criterion=friedman_mse, total=   7.7s\n",
            "[CV] n_estimators=2100, learning_rate=0.25, criterion=mse ............\n",
            "[CV]  n_estimators=2100, learning_rate=0.25, criterion=mse, total=  16.5s\n",
            "[CV] n_estimators=2100, learning_rate=0.25, criterion=mse ............\n",
            "[CV]  n_estimators=2100, learning_rate=0.25, criterion=mse, total=  16.4s\n",
            "[CV] n_estimators=2100, learning_rate=0.25, criterion=mse ............\n",
            "[CV]  n_estimators=2100, learning_rate=0.25, criterion=mse, total=  16.2s\n",
            "[CV] n_estimators=2100, learning_rate=0.25, criterion=mse ............\n",
            "[CV]  n_estimators=2100, learning_rate=0.25, criterion=mse, total=  16.5s\n",
            "[CV] n_estimators=2100, learning_rate=0.25, criterion=mse ............\n",
            "[CV]  n_estimators=2100, learning_rate=0.25, criterion=mse, total=  15.4s\n",
            "[CV] n_estimators=1000, learning_rate=0.5, criterion=mse .............\n",
            "[CV]  n_estimators=1000, learning_rate=0.5, criterion=mse, total=   7.2s\n",
            "[CV] n_estimators=1000, learning_rate=0.5, criterion=mse .............\n",
            "[CV]  n_estimators=1000, learning_rate=0.5, criterion=mse, total=   7.2s\n",
            "[CV] n_estimators=1000, learning_rate=0.5, criterion=mse .............\n",
            "[CV]  n_estimators=1000, learning_rate=0.5, criterion=mse, total=   7.2s\n",
            "[CV] n_estimators=1000, learning_rate=0.5, criterion=mse .............\n",
            "[CV]  n_estimators=1000, learning_rate=0.5, criterion=mse, total=   7.2s\n",
            "[CV] n_estimators=1000, learning_rate=0.5, criterion=mse .............\n",
            "[CV]  n_estimators=1000, learning_rate=0.5, criterion=mse, total=   7.2s\n",
            "[CV] n_estimators=1000, learning_rate=0.2, criterion=mse .............\n",
            "[CV]  n_estimators=1000, learning_rate=0.2, criterion=mse, total=   7.2s\n",
            "[CV] n_estimators=1000, learning_rate=0.2, criterion=mse .............\n",
            "[CV]  n_estimators=1000, learning_rate=0.2, criterion=mse, total=   7.5s\n",
            "[CV] n_estimators=1000, learning_rate=0.2, criterion=mse .............\n",
            "[CV]  n_estimators=1000, learning_rate=0.2, criterion=mse, total=   7.8s\n",
            "[CV] n_estimators=1000, learning_rate=0.2, criterion=mse .............\n",
            "[CV]  n_estimators=1000, learning_rate=0.2, criterion=mse, total=   8.1s\n",
            "[CV] n_estimators=1000, learning_rate=0.2, criterion=mse .............\n",
            "[CV]  n_estimators=1000, learning_rate=0.2, criterion=mse, total=   8.0s\n",
            "[CV] n_estimators=700, learning_rate=0.1, criterion=friedman_mse .....\n",
            "[CV]  n_estimators=700, learning_rate=0.1, criterion=friedman_mse, total=   5.8s\n",
            "[CV] n_estimators=700, learning_rate=0.1, criterion=friedman_mse .....\n",
            "[CV]  n_estimators=700, learning_rate=0.1, criterion=friedman_mse, total=   5.6s\n",
            "[CV] n_estimators=700, learning_rate=0.1, criterion=friedman_mse .....\n",
            "[CV]  n_estimators=700, learning_rate=0.1, criterion=friedman_mse, total=   5.6s\n",
            "[CV] n_estimators=700, learning_rate=0.1, criterion=friedman_mse .....\n",
            "[CV]  n_estimators=700, learning_rate=0.1, criterion=friedman_mse, total=   5.6s\n",
            "[CV] n_estimators=700, learning_rate=0.1, criterion=friedman_mse .....\n",
            "[CV]  n_estimators=700, learning_rate=0.1, criterion=friedman_mse, total=   5.6s\n",
            "[CV] n_estimators=700, learning_rate=0.3, criterion=mse ..............\n",
            "[CV]  n_estimators=700, learning_rate=0.3, criterion=mse, total=   5.6s\n",
            "[CV] n_estimators=700, learning_rate=0.3, criterion=mse ..............\n",
            "[CV]  n_estimators=700, learning_rate=0.3, criterion=mse, total=   5.6s\n",
            "[CV] n_estimators=700, learning_rate=0.3, criterion=mse ..............\n",
            "[CV]  n_estimators=700, learning_rate=0.3, criterion=mse, total=   5.6s\n",
            "[CV] n_estimators=700, learning_rate=0.3, criterion=mse ..............\n",
            "[CV]  n_estimators=700, learning_rate=0.3, criterion=mse, total=   5.5s\n",
            "[CV] n_estimators=700, learning_rate=0.3, criterion=mse ..............\n",
            "[CV]  n_estimators=700, learning_rate=0.3, criterion=mse, total=   5.4s\n"
          ]
        },
        {
          "output_type": "stream",
          "name": "stderr",
          "text": [
            "[Parallel(n_jobs=1)]: Done  50 out of  50 | elapsed:  5.0min finished\n"
          ]
        }
      ]
    },
    {
      "cell_type": "code",
      "metadata": {
        "id": "YbFTzaBt6bGF",
        "colab": {
          "base_uri": "https://localhost:8080/",
          "height": 143
        },
        "outputId": "7b44d4b9-6773-4724-a513-c8bafe7b9ed6"
      },
      "source": [
        "final = pd.DataFrame(score, columns=['model', 'score', 'params'])\n",
        "final"
      ],
      "execution_count": 214,
      "outputs": [
        {
          "output_type": "execute_result",
          "data": {
            "text/html": [
              "<div>\n",
              "<style scoped>\n",
              "    .dataframe tbody tr th:only-of-type {\n",
              "        vertical-align: middle;\n",
              "    }\n",
              "\n",
              "    .dataframe tbody tr th {\n",
              "        vertical-align: top;\n",
              "    }\n",
              "\n",
              "    .dataframe thead th {\n",
              "        text-align: right;\n",
              "    }\n",
              "</style>\n",
              "<table border=\"1\" class=\"dataframe\">\n",
              "  <thead>\n",
              "    <tr style=\"text-align: right;\">\n",
              "      <th></th>\n",
              "      <th>model</th>\n",
              "      <th>score</th>\n",
              "      <th>params</th>\n",
              "    </tr>\n",
              "  </thead>\n",
              "  <tbody>\n",
              "    <tr>\n",
              "      <th>0</th>\n",
              "      <td>XGBRegressor</td>\n",
              "      <td>0.82</td>\n",
              "      <td>{'min_child_weight': 3, 'max_depth': 7, 'learn...</td>\n",
              "    </tr>\n",
              "    <tr>\n",
              "      <th>1</th>\n",
              "      <td>RandomForestRegressor</td>\n",
              "      <td>0.82</td>\n",
              "      <td>{'n_estimators': 2100, 'min_samples_split': 4,...</td>\n",
              "    </tr>\n",
              "    <tr>\n",
              "      <th>2</th>\n",
              "      <td>GradientBoostingRegressor</td>\n",
              "      <td>0.81</td>\n",
              "      <td>{'n_estimators': 700, 'learning_rate': 0.3, 'c...</td>\n",
              "    </tr>\n",
              "  </tbody>\n",
              "</table>\n",
              "</div>"
            ],
            "text/plain": [
              "                       model  score  \\\n",
              "0               XGBRegressor   0.82   \n",
              "1      RandomForestRegressor   0.82   \n",
              "2  GradientBoostingRegressor   0.81   \n",
              "\n",
              "                                              params  \n",
              "0  {'min_child_weight': 3, 'max_depth': 7, 'learn...  \n",
              "1  {'n_estimators': 2100, 'min_samples_split': 4,...  \n",
              "2  {'n_estimators': 700, 'learning_rate': 0.3, 'c...  "
            ]
          },
          "metadata": {},
          "execution_count": 214
        }
      ]
    },
    {
      "cell_type": "code",
      "metadata": {
        "id": "noaPBreT6bDa",
        "colab": {
          "base_uri": "https://localhost:8080/"
        },
        "outputId": "6ba72ccf-2808-4f93-f700-b5396734a171"
      },
      "source": [
        "final['params'][1]"
      ],
      "execution_count": 215,
      "outputs": [
        {
          "output_type": "execute_result",
          "data": {
            "text/plain": [
              "{'max_depth': 15,\n",
              " 'max_features': 'auto',\n",
              " 'min_samples_split': 4,\n",
              " 'n_estimators': 2100}"
            ]
          },
          "metadata": {},
          "execution_count": 215
        }
      ]
    },
    {
      "cell_type": "code",
      "metadata": {
        "id": "vgqGjx5X8lh7",
        "colab": {
          "base_uri": "https://localhost:8080/"
        },
        "outputId": "eafb8a4c-64ae-4516-b544-2f95bf6e0228"
      },
      "source": [
        "regressor = RandomForestRegressor(n_estimators=2100, max_depth=15, min_samples_split=4, max_features='auto')\n",
        "regressor.fit(X_train, y_train)\n",
        "prediction = regressor.predict(X_test)\n",
        "print('RMSE : {}'.format(np.sqrt(mean_squared_error(y_test, prediction))))"
      ],
      "execution_count": 217,
      "outputs": [
        {
          "output_type": "stream",
          "name": "stdout",
          "text": [
            "RMSE : 2038.229334634458\n"
          ]
        }
      ]
    },
    {
      "cell_type": "code",
      "metadata": {
        "colab": {
          "base_uri": "https://localhost:8080/"
        },
        "id": "3AQDVlZmDA_h",
        "outputId": "400e33d7-7f52-443e-94ae-8d9909bc8591"
      },
      "source": [
        "# Evaluating the RandomForestRegressor Algorithm\n",
        "from sklearn import metrics\n",
        "#X_train, X_test, y_train, y_test\n",
        "print('Mean Absolute Error:', metrics.mean_absolute_error(y_test, prediction))  \n",
        "print('Mean Squared Error:', metrics.mean_squared_error(y_test, prediction))  \n",
        "print('Root Mean Squared Error:', np.sqrt(metrics.mean_squared_error(y_test, prediction)))"
      ],
      "execution_count": 218,
      "outputs": [
        {
          "output_type": "stream",
          "name": "stdout",
          "text": [
            "Mean Absolute Error: 1158.1795727839392\n",
            "Mean Squared Error: 4154378.8205644246\n",
            "Root Mean Squared Error: 2038.229334634458\n"
          ]
        }
      ]
    },
    {
      "cell_type": "markdown",
      "metadata": {
        "id": "9N95WOSbXkVP"
      },
      "source": [
        "**score()**\n",
        "\n",
        "Returns the coefficient of determination R^2 of the prediction.\n",
        "\n",
        "The coefficient R^2 is defined as (1 - u/v), where u is the residual sum of squares ((y_true - y_pred) ** 2).sum() and v is the total sum of squares ((y_true - y_true.mean()) ** 2).sum(). The best possible score is 1.0 and it can be negative (because the model can be arbitrarily worse). A constant model that always predicts the expected value of y, disregarding the input features, would get a R^2 score of 0.0."
      ]
    },
    {
      "cell_type": "code",
      "metadata": {
        "id": "MxqwmMi2WGBO",
        "colab": {
          "base_uri": "https://localhost:8080/"
        },
        "outputId": "6cf5fe1b-50f4-4065-dfc4-cca6cbb472e4"
      },
      "source": [
        "regressor.score(X_train, y_train), regressor.score(X_test, y_test)"
      ],
      "execution_count": 219,
      "outputs": [
        {
          "output_type": "execute_result",
          "data": {
            "text/plain": [
              "(0.9280274102217418, 0.8073291917010182)"
            ]
          },
          "metadata": {},
          "execution_count": 219
        }
      ]
    },
    {
      "cell_type": "code",
      "metadata": {
        "id": "XPXhJBoOWF-c",
        "colab": {
          "base_uri": "https://localhost:8080/",
          "height": 497
        },
        "outputId": "0d5201d9-806b-4425-cdd2-c00755f97fff"
      },
      "source": [
        "plt.figure(figsize = (8,8))\n",
        "sns.distplot(y_test-prediction)\n",
        "plt.show()"
      ],
      "execution_count": 220,
      "outputs": [
        {
          "output_type": "display_data",
          "data": {
            "image/png": "[encoded data removed]",
            "text/plain": [
              "<Figure size 576x576 with 1 Axes>"
            ]
          },
          "metadata": {
            "needs_background": "light"
          }
        }
      ]
    },
    {
      "cell_type": "code",
      "metadata": {
        "id": "DEIeM8wNWF8Q",
        "colab": {
          "base_uri": "https://localhost:8080/",
          "height": 497
        },
        "outputId": "d48964e5-a8d8-45ad-88b9-70eead2cc084"
      },
      "source": [
        "plt.figure(figsize = (8,8))\n",
        "plt.scatter(y_test, prediction, alpha = 0.5)\n",
        "plt.xlabel(\"y_test\")\n",
        "plt.ylabel(\"y_pred\")\n",
        "plt.show()"
      ],
      "execution_count": 221,
      "outputs": [
        {
          "output_type": "display_data",
          "data": {
            "image/png": "[encoded data removed]",
            "text/plain": [
              "<Figure size 576x576 with 1 Axes>"
            ]
          },
          "metadata": {
            "needs_background": "light"
          }
        }
      ]
    },
    {
      "cell_type": "markdown",
      "metadata": {
        "id": "0aiak8U0cjc_"
      },
      "source": [
        "**Save the model to reuse it again**"
      ]
    },
    {
      "cell_type": "code",
      "metadata": {
        "id": "yxZJAJ0yyHJe"
      },
      "source": [
        "import pickle\n",
        "# open a file, where you ant to store the data\n",
        "file = open('final_model.pkl', 'wb')\n",
        "# dump information to that file\n",
        "pickle.dump(regressor, file)"
      ],
      "execution_count": 222,
      "outputs": []
    },
    {
      "cell_type": "code",
      "metadata": {
        "id": "lZVuOKFWyHG_"
      },
      "source": [
        "model = open('final_model.pkl','rb')\n",
        "forest = pickle.load(model)"
      ],
      "execution_count": 223,
      "outputs": []
    },
    {
      "cell_type": "code",
      "metadata": {
        "id": "G3Wx6kljyHAB",
        "colab": {
          "base_uri": "https://localhost:8080/"
        },
        "outputId": "939483da-ec78-49ed-d6d5-8b0cf5e43313"
      },
      "source": [
        "y_prediction = forest.predict(X_test)\n",
        "metrics.r2_score(y_test, y_prediction)"
      ],
      "execution_count": 224,
      "outputs": [
        {
          "output_type": "execute_result",
          "data": {
            "text/plain": [
              "0.8073291917010181"
            ]
          },
          "metadata": {},
          "execution_count": 224
        }
      ]
    },
    {
      "cell_type": "code",
      "metadata": {
        "id": "eS35LRCcOm5f"
      },
      "source": [
        ""
      ],
      "execution_count": 103,
      "outputs": []
    },
    {
      "cell_type": "code",
      "metadata": {
        "id": "ZWJMYNzhOm2w"
      },
      "source": [
        ""
      ],
      "execution_count": 103,
      "outputs": []
    }
  ]
}